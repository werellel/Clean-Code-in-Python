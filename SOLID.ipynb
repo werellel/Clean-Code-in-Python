{
 "cells": [
  {
   "cell_type": "markdown",
   "metadata": {},
   "source": [
    "SOLID는 다음을 뜻한다.\n",
    "\n",
    "* S: 단일 책임 원칙\n",
    "* O: 개방 폐쇠 원칙\n",
    "* L: 리스코프 치환 원칙\n",
    "* I: 인터페이스 분리 원칙\n",
    "* D: 의존성 역전 원칙\n",
    "\n",
    "목표는 다음과 같다.\n",
    "\n",
    "* 소프트웨어 디자인에서의 SOLID 원칙을 익힌다.\n",
    "* 단일 책임 원칙을 따르는 컴포넌트를 디자인한다.\n",
    "* 개방 폐쇄의 원칙 통해 보다 유지보수성을 뛰어나게 한다.\n",
    "* 리스코프 치환 원칙을 준수하여 객체지향 디자인에서 적절한 클래스 계층을 설계한다.\n",
    "* 인터페이스 분리와 의존성 역전을 활용해 설계하기\n",
    "\n",
    "### 단일 책임 원칙(Single Responsibility Principle - SRP)\n",
    "\n",
    "SRP는 소프트웨어 컴포넌트(일반적으로 클래스)가 단 하나의 책임을 져야한다는 원칙이다. 클래스가 유일한 책임이 있다는 것은 하나의 구체적인 일을 담당한다는 것을 의미하며, 따라서 변화해야 할 이유는 단 하나뿐이다. \n",
    "\n",
    "도메인의 문제가 변경되면 클래스를 업데이트해야 한다. 다른 이유로 클래스를 수정해야 한다면 추상화가 잘못되어 클래스에 너무 많은 책임이 있다는 것을 뜻한다.\n",
    "\n",
    "어떤 경우에도 여러 책임을 가진 객체를 만들어서는 안 된다. 너무 많은 일을 하는 신(god) 객체를 만들면 서로 다른 행동을 그룹화한 것이기 때문에 유지보수가 어려워진다.\n",
    "\n",
    "다시 말해 클래스는 작을수록 좋다. 소프트웨어 디자인에서 SRP는 응집력과 밀접한 관련이 있다. 여기서 추구하려는 것은 클래스에 있는 프로퍼티와 속성이 항상 메서드를 통해서 사용되도록 하는 것이다. 이렇게 하면 이들은 관련된 개념이기 때문에 동일한 추상화로 묶는 것이 가능하다.\n",
    "\n",
    "어떤 면에서 이런 생각은 관계형 데이터베이스 설계에서의 정규화 개념과 유사하다. \n",
    "\n",
    "클래스의 메서드는 상호 베타적이며 서로 관련이 없어야 하고 따라서 이들은 서로 다른 책임을 가지고 있으므로 더 작은 클래스로 분해할 수 있어야 한다.\n",
    "\n",
    "### 너무 많은 책임을 가진 클래스\n",
    "\n",
    "예제로 로그 파일이나 데이터베이스와 같은 소스에서 이벤트의 정보를 읽어서 로그별로 필요한 액션을 분류하는 애플리케이션을 만들어 볼것이다. \n",
    "\n",
    "아래는 SRP를 준수하지 않은 디자인이다."
   ]
  },
  {
   "cell_type": "code",
   "execution_count": 9,
   "metadata": {},
   "outputs": [],
   "source": [
    "class SystemMonitor:\n",
    "    def load_activity(self):\n",
    "        \"\"\"소스에서 처리할 이벤트를 가져오기\"\"\"\n",
    "        \n",
    "    def identify_events(self):\n",
    "        \"\"\"가져온 데이터를 파싱하여 도메인 객\"\"\"\n",
    "    def load_activity(self):\n",
    "        \"\"\"소스에서 처리할 이벤트를 가져오기\"\"\""
   ]
  },
  {
   "cell_type": "markdown",
   "metadata": {},
   "source": [
    "이 클래스의 문제점은 독립적인 동작을 하는 메서드를 하나의 인터페이스에 정의했다는 것이다. 각각의 동작은 나머지 부분과 독립적으로 수행할 수 있다. \n",
    "\n",
    "이 디자인 결함은 유지보수를 어렵게 하ㅕ 클래스가 경직되고 융통성 없으며 오류가 발생하기 쉽게 만든다. 이 예제에서 각 메서드는 클래스의 책임을 대표한다. 각각의 책임마다 수정 사유가 발생한다. 즉 메서드마다 다양한 변경의 필요성이 생기게 된다.\n",
    "\n",
    "소스에서 정보를 가져오는 로더(loader) 메서드를 생각해보자. 추상화를 할 것이므로 실제 어떻게 구현했는지는 중요하지 않다. 만약 데이터 구조를 바꾸는 등의 이유로 이 중에 어떤 것이라도 수정해야 한다면 SystemMonitor 클래스를 변경해야 한다. 데이터의 표현이 변경되었다고 해서 시스템 모니터링하는 객체를 변경해서는 안된다.\n",
    "\n",
    "동일한 추론이 다른 두 가지 메서드에도 적용된다. 이벤트를 인식하는 방법이나 전달하는 방법을 변경하면 마찬가지로 클래스를 변경해야 한다.\n",
    "\n",
    "### 책임 분산\n",
    "\n",
    "솔루션을 보다 관리하게 쉽게 하기 위해 모든 메서드를 다른 클래스로 분리하여 각 클래스마다 단일 책임을 갖게 하자.\n",
    "\n",
    "각자의 책임을 가진 여러 객체로 만들고, 이들 객체들과 협력하여 동일한 기능을 수행하는 객체를 만들 수 있다. 각 클래스가 딱 하나의 메서드를 가져야 한다는 것을 뜻하는 것은 아니다. 처리해야 할 로직이 같은 경우 하나의 클래스에 여러 메서드를 추가할 수 있다."
   ]
  },
  {
   "cell_type": "markdown",
   "metadata": {},
   "source": [
    "## 개방/폐쇄 원칙(Open/Close Principle - OCP)\n",
    "\n",
    "클래스를 디자인할 때는 유지보수가 쉽도록 로직을 캡슐화하여 확장에는 개방되고 수정에는 폐쇄되도록 해야 한다.\n",
    "\n",
    "간단히 말해서 확장 가능하고, 새로운 요구사항이나 도메인 변화에 잘 적응하는 코드를 작성해야 한다는 뜻이다. 새로운 문제가 발생할 경우 새로운 것을 추가만 할 뿐 기존 코드는 그대로 유지해야 한다는 뜻이다. \n",
    "\n",
    "새로운 기능을 추가하다가 기존 코드를 수정했다면 그것은 기존 로직이 잘못 디자인되었다는 것을 뜻한다. 요구사항이 변경되면 새로운 기능을 구현하기 위한 모듈만 확장을 하고 기존 코드는 수정을 하면 안 된다.\n",
    "\n",
    "### 개방/폐쇄 원칙을 따르지 않을 경우 유지보수의 어려움\n",
    "\n",
    "예제에는 다른 시스템에서 발생하는 이벤트를 분류하는 기능을 가지고 있다. 각 컴포넌트는 수집한 데이터를 기반으로 어떤 타입의 이벤트인지 정확히 분류를 해야 한다. 단순함을 위해 데이터는 사전 형태로 저장되어 있고 록나 쿼리 등의 방법으로 이미 데이터를 수집했다고 가정한다. 이 데이터를 기반으로 고유한 계층구조를 가진 다른 이벤트로 분류한다."
   ]
  },
  {
   "cell_type": "code",
   "execution_count": 10,
   "metadata": {},
   "outputs": [],
   "source": [
    "class Event:\n",
    "    def __init__(self, raw_data):\n",
    "        self.raw_data = raw_data\n",
    "        \n",
    "class UnknownEvent(Event):\n",
    "    \"\"\"데이터만으로 식별할 수 없는 이벤트\"\"\"\n",
    "    \n",
    "class LoginEvent(Event):\n",
    "    \"\"\"로그인 사용자에 의한 이벤트\"\"\"\n",
    "    \n",
    "class LogoutEvent(Event):\n",
    "    \"\"\"로그아웃 사용자에 의한 이벤트\"\"\"\n",
    "\n",
    "class SystemMonitor:\n",
    "    \"\"\"시스템에서 발생한 이벤트 분류\"\"\"\n",
    "    \n",
    "    def __init__(self, event_data):\n",
    "        self.event_data = event_data\n",
    "    \n",
    "    def identify_event(self):\n",
    "        if (\n",
    "            self.event_data[\"before\"][\"session\"] == 0\n",
    "            and self.event_data[\"after\"][\"session\"] == 1\n",
    "        ):\n",
    "            return LoginEvent(self.event_data)\n",
    "        elif (\n",
    "            self.event_data[\"before\"][\"session\"] == 1\n",
    "            and self.event_data[\"after\"][\"session\"] == 0\n",
    "        ):\n",
    "            return LogoutEvent(self.event_data)\n",
    "        \n",
    "        return UnknownEvent(self.event_data)"
   ]
  },
  {
   "cell_type": "code",
   "execution_count": 11,
   "metadata": {},
   "outputs": [
    {
     "data": {
      "text/plain": [
       "'LoginEvent'"
      ]
     },
     "execution_count": 11,
     "metadata": {},
     "output_type": "execute_result"
    }
   ],
   "source": [
    "l1 = SystemMonitor({\"before\":{\"session\":0}, \"after\":{\"session\":1}})\n",
    "l1.identify_event().__class__.__name__"
   ]
  },
  {
   "cell_type": "code",
   "execution_count": 12,
   "metadata": {},
   "outputs": [
    {
     "data": {
      "text/plain": [
       "'LogoutEvent'"
      ]
     },
     "execution_count": 12,
     "metadata": {},
     "output_type": "execute_result"
    }
   ],
   "source": [
    "l2 = SystemMonitor({\"before\":{\"session\":1}, \"after\":{\"session\":0}})\n",
    "l2.identify_event().__class__.__name__"
   ]
  },
  {
   "cell_type": "code",
   "execution_count": 13,
   "metadata": {},
   "outputs": [
    {
     "data": {
      "text/plain": [
       "'UnknownEvent'"
      ]
     },
     "execution_count": 13,
     "metadata": {},
     "output_type": "execute_result"
    }
   ],
   "source": [
    "l3 = SystemMonitor({\"before\":{\"session\":1}, \"after\":{\"session\":1}})\n",
    "l3.identify_event().__class__.__name__"
   ]
  },
  {
   "cell_type": "markdown",
   "metadata": {},
   "source": [
    "이벤트 유형의 계층 구조와 이를 구성하는 일부 비즈니스 로직을 명확하게 알 수 있다. 예를 들어 세션에 플래그가 없었지만 지금은 있는 경우 LoginEvent로 식별한다. 반대의 값이면 LogoutEvent로 식별한다. 이벤트를 식별할 수 없는 경우 UnknownEvent를 반환한다. 이것은 None을 반환하는 대신 기본 로직을 가진 null 객체를 반환하는 패턴으로 다형성을 보장하기 위한 것이다.\n",
    "\n",
    "이 디자인에는 몇 가지 문제점이 있다. 첫 번째 문제는 이벤트 유형을 결정하는 논리가 일체형으로 중앙 집중화된다는 점이다. 지원하려는 이벤트가 늘어날수록 메서드도 커질 것이므로 결국 매우 큰 메서드가 될 수 있다. 한 가지 일만 하는 것도 아니고 한 가지 일을 제대로 하지도 못한다. \n",
    "\n",
    "같은 방법으로 이 메서드가 수정을 위해 닫히지 않았다는 것을 알 수 있다. 새로운 유형의 이벤트를 시스템에 추가할 때마다 메서드를 수정해야 한다(물론 elif 명령문 체인은 가독성 측면에서 최악이다!)\n",
    "\n",
    "이 메서드를 변경하지 않고도 새로운 유형의 이벤트를 추가하고 싶다(폐쇄 원칙). 새로운 이벤트가 추가될 때 이미 존재하는 코드를 변경하지 않고 코드를 확장하여 새로운 유형의 이벤트를 지원하고 싶다(개방 원칙).\n",
    "\n",
    "### 확장성을 가진 이벤트 시스템으로 리팩토링 "
   ]
  },
  {
   "cell_type": "markdown",
   "metadata": {},
   "source": [
    "이젠 예제의 문제점은 SystemMonitor 클래스가 분류하려는 구체 클래스와 직접 상호 작용한다는 점이다.  개방/폐쇄 원칙을 따르는 디자인을 달성하려면 추상화를 해야 한다.\n",
    "\n",
    "대안은 SystemMonitor 클래스를 추상적인 이벤트와 협력하도록 변경하고, 이벤트에 대응하는 개별 로직은 각 이벤트 클래스에 위임하는 것이다.\n",
    "\n",
    "그런 다음 각각의 이벤트에 다형성을 가진 새로운 메서드를 추가해야 한다. 이 메서드는 전달되는 데이터가 해당 클래스의 타입과 일치하는지 판단하는 역할을 한다. 또한 기존 분류 로직을 수정하여 이 메서듣 사용해 전체 이벤트를 돌면서 검사하도록 해야 한다."
   ]
  },
  {
   "cell_type": "code",
   "execution_count": 31,
   "metadata": {},
   "outputs": [],
   "source": [
    "class Event:\n",
    "    def __init__(self, raw_data):\n",
    "        self.raw_data = raw_data\n",
    "    \n",
    "    @staticmethod\n",
    "    def meets_condition(event_data: dict):\n",
    "        return False\n",
    "\n",
    "class UnknownEvent(Event):\n",
    "    \"\"\"데이터만으로 식별할 수 없는 이벤트\"\"\"\n",
    "\n",
    "class LoginEvent(Event):\n",
    "    @staticmethod\n",
    "    def meets_condition(event_data: dict):\n",
    "        return (\n",
    "            event_data[\"before\"]['session'] == 0\n",
    "            and event_data[\"after\"]['session'] == 1\n",
    "        )\n",
    "    \n",
    "class LogoutEvent(Event):\n",
    "    @staticmethod\n",
    "    def meets_condition(event_data: dict):\n",
    "        return (\n",
    "            event_data[\"before\"]['session'] == 1\n",
    "            and event_data[\"after\"]['session'] == 0\n",
    "        )\n",
    "    \n",
    "class SystemMonitor:\n",
    "    \"\"\"시스템에서 발생한 이벤트 분류\"\"\"\n",
    "    \n",
    "    def __init__(self, event_data):\n",
    "        self.event_data = event_data\n",
    "    \n",
    "    def identify_event(self):\n",
    "        for event_cls in Event.__subclasses__():\n",
    "            try:\n",
    "                if event_cls.meets_condition(self.event_data):\n",
    "                    return event_cls(self.event_data).__class__.__name__\n",
    "#                     return event_cls(self.event_data)\n",
    "            except KeyError:\n",
    "                continue\n",
    "        return UnknownEvent(self.event_data)"
   ]
  },
  {
   "cell_type": "markdown",
   "metadata": {},
   "source": [
    "이제 상호 작용이 추상화를 통해 이뤄지고 있음에 주목하자(이 경우 Event는 제네릭 또는 추상 클래스이거나 인터페이스가 될 수 있지만 설명을 간단하게 하기 위해 구체 클래스를 사용한다). 분류 메서드는 이제 특정 이벤트 타입 대신에 일반적인 인터페이스를 따르는 제네릭 이벤트와 동작한다. 이 인터페이스를 따르는 제네릭들은 모두 meets_condition 메서드를 구현하여 다형성을 보장한다.\n",
    "\n",
    "\\__subclasses__() 메서드를 사용해 이벤트 유형을 찾는 것에 주목하자. 이제 새로운 유형의 이벤트를 지원하려면 단지 Event 클래스를 상속 받아 비즈니스 로직에 따라 meets_condition() 메서드를 구현하기만 하면 된다."
   ]
  },
  {
   "cell_type": "code",
   "execution_count": 32,
   "metadata": {},
   "outputs": [
    {
     "name": "stdout",
     "output_type": "stream",
     "text": [
      "LogoutEvent\n"
     ]
    }
   ],
   "source": [
    "sysmon = SystemMonitor({\"before\":{\"session\":1}, \"after\":{\"session\":0}})\n",
    "print(sysmon.identify_event())"
   ]
  },
  {
   "cell_type": "code",
   "execution_count": 45,
   "metadata": {},
   "outputs": [
    {
     "name": "stdout",
     "output_type": "stream",
     "text": [
      "['__class__', '__delattr__', '__dict__', '__dir__', '__doc__', '__eq__', '__format__', '__ge__', '__getattribute__', '__gt__', '__hash__', '__init__', '__init_subclass__', '__le__', '__lt__', '__module__', '__ne__', '__new__', '__reduce__', '__reduce_ex__', '__repr__', '__setattr__', '__sizeof__', '__str__', '__subclasshook__', '__weakref__', 'meets_condition']\n"
     ]
    }
   ],
   "source": [
    "# print(Event.__subclasses__())\n",
    "print(dir(Event))"
   ]
  },
  {
   "cell_type": "markdown",
   "metadata": {},
   "source": [
    "### 이벤트 시스템 확장\n",
    "\n",
    "이제 이 디자인이 실제로 원하는 대로 확장 가능하다는 것을 증명해보자. 새로운 요구사항이 생겨서 모니터링 중인 시스템의 사용자 트랜잭션에 대응하는 이벤트를 지원해야 한다고 가정해보자. \n",
    "\n",
    "TransactionEvent라는 새로운 클래스를 추가하는 것만으로 기존 코드가 예상한 대로 잘 동작한다. "
   ]
  },
  {
   "cell_type": "code",
   "execution_count": 46,
   "metadata": {},
   "outputs": [],
   "source": [
    "class TransactionEvent(Event):\n",
    "    \"\"\"시스템에서 발생한 트랜잭션 이벤트\"\"\"\n",
    "    @staticmethod\n",
    "    def meets_condition(event_data:dict):\n",
    "        return event_data[\"after\"].get(\"transaction\") is not None"
   ]
  },
  {
   "cell_type": "code",
   "execution_count": 47,
   "metadata": {},
   "outputs": [
    {
     "data": {
      "text/plain": [
       "'TransactionEvent'"
      ]
     },
     "execution_count": 47,
     "metadata": {},
     "output_type": "execute_result"
    }
   ],
   "source": [
    "l4 = SystemMonitor({\"after\": {\"transaction\":\"Txoo1\"}})\n",
    "l4.identify_event()"
   ]
  },
  {
   "cell_type": "markdown",
   "metadata": {},
   "source": [
    "새 이벤트를 추가했지만 SystemMonitor.identify_event() 메서드는 전혀 수정하지 않은 것에 주목하자. 따라서 이 메서드가 새로운 유형의 이벤트에 대해서 폐쇄되어 있다고 말할 수 있다.\n",
    "\n",
    "반대로 Event 클래스는 필요할 때마다 새로운 유형의 이벤트를 추가할 수 있게 해준다. 따라서 이벤트는 새로운 타입의 확장에 대해 개방되어 있다고 말할 수 있다.\n",
    "\n",
    "이것이 바로 이 원칙의 진정한 본질이다. 도메인에 새로운 문제가 나타나도 기존 코드를 수정하지 않고 새 코드를 추가하기만 하면 된다.\n",
    "\n",
    "### OCP 최종 정리\n",
    "\n",
    "이미 눈치 챘겠지만 이 원칙은 다형성의 효과적인 사용과 밀접하게 관련되어 있다. 다형성을 따르는 형태의 계약을 만들고 모델을 쉽게 확장할 수 있는 일반적인 구조로 디자인하는 것이다. \n",
    "\n",
    "이 원칙은 소프트웨어 엔지니어링의 중요한 문제인 유지보수성에 대한 문제를 해결한다. OCP를 따르지 않으면 파급 효과가 생기거나 작은 변경이 코드 전체에 영향을 미치거나 다른 부분을 손상시키게 된다.\n",
    "\n",
    "마지막 중요한 요점은 코드를 변경하지 않고 기능을 확장하기 위해서는 보호하려는 추상화에 대해서 적절한 폐쇄를 해야 한다는 것이다. 일부 추상화의 경우 충돌이 발생할 수 있기 때문에 모든 프로그램에서 이 원칙을 적용하는 것이 가능한 것은 아니다. "
   ]
  },
  {
   "cell_type": "markdown",
   "metadata": {},
   "source": [
    "### 리스코프 치환 원칙(LSP)\n",
    "\n",
    "리스코프 치환 원칙은 설계 시 안정성을 유지하기 위해 객체 타입이 유지해야하는 일련의 특성을 말한다.\n",
    "\n",
    "LSP의 주된 생각은 어떤 클래스에서든 클라이언트는 특별한 주의를 기울이지 안고도 하위 타입을 사용할 수 있어야 한다는 것이다. 어떤 하위 타입을 사용해도 실행에 따른 결과를 염려하지 않아야 한다. 즉, 클라이언트는 완전히 분리되어 있으며 클래스 변경 사항과 독립되어야 한다.\n",
    "\n",
    "좀 더 공식적으로 리스코프 치환 원칙의 원래 정의는 다음과 같다. 만약 S가 T의 하위 타입이라면 프로그램을 변경하지 않고 T 타입의 객체를 S 타입의 객체로 치환 가능해야 한다.\n",
    "\n",
    "이것은 다음과 같은 일반적인 다이어그램을 사용해서 이해할 수 있다. 여러 타입의 객체를 사용하는 클라이언트 클래스가 있다고 상상해보자. 일반적으로 이 클라이언트가 어떤 타입, 즉 인터페이스를 통해객체와 상호 작용하기를 원할 것이다.\n",
    "\n",
    "이 타입은 행위를 가진 클래스가 아니라 제네릭 인터페이스 정의일 뿐 아니라 추상 클래스 또는 인터페이스일 수 있다. 이 타입을 확장하는 여러 하위 타입이 있을 수 있다. 이 원칙의 배경은 계층 구조가 올바르게 구현되었다면 클아이언트 클래스가 주의를 기울이지 않고도 모든 하위 클래스의 인스턴스로 작업할 수 있어야한다는 것이다. 이러한 개체는 서로 바꿔서 사용할 수 있다.\n",
    "\n",
    "이는 이미 살펴본 인터페이스 디자인과 관련이 있다. 좋은 클래스는 명확하고 간결한 인터페이스를 가지고 있으며, 하위 클래스가 해당 인터페이스를 따르는 한 프로그램은 정상적으로 동작한다. \n",
    "\n",
    "결론적으로 이 원칙은 계약을 통한 설계와도 관련이 있다. 주어진 타입과 클라이언트 사이에는 계약이 필요하다. LSP의 규칙에 따르면 하위 클래스는 상위 클래스에서 정의한 계약을 따르도록 디자인해야 한다. \n",
    "\n",
    "### 도구를 사용해 LSP 문제 검사하기\n",
    "\n",
    "악명 높은 LSP 문제를 Mypy나 Pylint 같은 도구를 사용해 쉽게 검출할 수 있다.\n",
    "\n",
    "### 메서드 서명의 잘못된 데이터타입 검사\n",
    "\n",
    "코드 전체에 타입 어노테이션을 사용했고 Mypy를 설정했다면 초기에 기본 오류 여부와 LSP 준수 여부를 빠르게 확인할 수 있다. Event 클래스의 하위 클래스 중 하나가 호환되지 않는 방식으로 메서드를 재정의하면 Mypy는 어노테이션을 검사하여 이를 확인한다."
   ]
  },
  {
   "cell_type": "code",
   "execution_count": 48,
   "metadata": {},
   "outputs": [],
   "source": [
    "class Event:\n",
    "    def meets_condition(self, event_data:dict) -> bool:\n",
    "        return False\n",
    "\n",
    "class LoginEvent(Event):\n",
    "    def meets_condition(self, event_data: list) -> bool:\n",
    "        return bool(event_data)"
   ]
  },
  {
   "cell_type": "markdown",
   "metadata": {},
   "source": [
    "LSP 위반의 기준은 명확하다. 파생 클래스가 부모 클래스에서 정의한 파라미터와 다른 타입을 사용했기 때문에 다르게 동작한다. 이 원칙에 따르면 호출자는 아무런 차이를 느끼지 않고 투명하게 Event 또는 LoginEvent를 사용할 수 있어야 한다. 이 두 가지 타입의 객체를 치환해도 애플리케이션 실행에 실패해서는 안 된다. 그렇지 않다면 계층 구조의 다형성이 손상된 것이다.\n",
    "\n",
    "반환 값을 부울 값이 아닌 다른 값으로 변경해도 동일한 오류가 발생한다. \n",
    "\n",
    "### Pylint로 호환되지 않는 서명 검사\n",
    "\n",
    "또 다른 LSP 위반 사례는 계층의 파라미터 타입이 다른 것이 아니라 메서드의 서명 자체가 완전히 다른 경우이다. 이것은 아주 큰 실수처럼 보이지만 탐지하는 것은 쉽지 않다. \n",
    "\n",
    "다음과 같이 계층 구조의 화환성을 깨는 클래스가 있다고 가정해보자. 메서드의 서명을 변경하거나 파라미터를 추가하는 등의 차이가 있는 경우이다. "
   ]
  },
  {
   "cell_type": "code",
   "execution_count": 51,
   "metadata": {},
   "outputs": [],
   "source": [
    "class LogoutEvent(Event):\n",
    "    def meets_condition(self, event_data:dict, override:bool) -> bool:\n",
    "        if override:\n",
    "            return True"
   ]
  },
  {
   "cell_type": "markdown",
   "metadata": {},
   "source": [
    "### 애매한 LSP 위반 사례\n",
    "\n",
    "애매한 LSP 위반은 자동화된 도구로 검사하기 애매할 수 있다. 이런 경우는 코드 리뷰를 하면서 자세히 코드를 살펴볼 수 밖에 없다. 이전에 정의한 이벤트 계층구조를 이제는 LSP와 DbC 간의 관계를 보여주기 위해 변경해보자. \n",
    "\n",
    "사전조건에서 파라미터가 사전 타입인지, 그리고 before와 after 키를 가지고 있는지 확인한다. before와 after 키의 값은 또 다시 객체를 내포해야 한다. 이렇게 하면 클라이언트는 KeyError를 받지 않으므로 보다 발전된 캡슐화를 할 수 있다. 그저 사전조건 체크메서드만 호출하면 되기 때문이다. "
   ]
  },
  {
   "cell_type": "code",
   "execution_count": 52,
   "metadata": {},
   "outputs": [],
   "source": [
    "class Event:\n",
    "    def __init__(self, raw_data):\n",
    "        self.raw_data = raw_data\n",
    "    \n",
    "    @staticmethod\n",
    "    def meets_condition(event_data: dict):\n",
    "        return False\n",
    "    \n",
    "    @staticmethod\n",
    "    def meets_condition_pre(event_data: dict):\n",
    "        \"\"\"인터페이스 계약의 사전조건 ''event_data'' 파라미터가 적절한 형태인지 유효성 검사\"\"\"\n",
    "        \n",
    "        assert ininstance(event_data, dict), f\"{event_data!r} is not dict\"\n",
    "        for moment in (\"before\", \"after\"):\n",
    "            assert moment in event_data, f\"{moment} not in {event_data}\"\n",
    "            assert isinstance(event_data[moment], dict)"
   ]
  },
  {
   "cell_type": "markdown",
   "metadata": {},
   "source": [
    "이제 올바른 이벤트 유형을 탐지하기 전에 사전조건을 먼저 검사한다."
   ]
  },
  {
   "cell_type": "code",
   "execution_count": null,
   "metadata": {},
   "outputs": [],
   "source": []
  }
 ],
 "metadata": {
  "kernelspec": {
   "display_name": "Python 3",
   "language": "python",
   "name": "python3"
  },
  "language_info": {
   "codemirror_mode": {
    "name": "ipython",
    "version": 3
   },
   "file_extension": ".py",
   "mimetype": "text/x-python",
   "name": "python",
   "nbconvert_exporter": "python",
   "pygments_lexer": "ipython3",
   "version": "3.7.3"
  }
 },
 "nbformat": 4,
 "nbformat_minor": 2
}
