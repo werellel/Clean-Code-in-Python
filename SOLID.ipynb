{
 "cells": [
  {
   "cell_type": "markdown",
   "metadata": {},
   "source": [
    "SOLID는 다음을 뜻한다.\n",
    "\n",
    "* S: 단일 책임 원칙\n",
    "* O: 개방 폐쇠 원칙\n",
    "* L: 리스코프 치환 원칙\n",
    "* I: 인터페이스 분리 원칙\n",
    "* D: 의존성 역전 원칙\n",
    "\n",
    "목표는 다음과 같다.\n",
    "\n",
    "* 소프트웨어 디자인에서의 SOLID 원칙을 익힌다.\n",
    "* 단일 책임 원칙을 따르는 컴포넌트를 디자인한다.\n",
    "* 개방 폐쇄의 원칙 통해 보다 유지보수성을 뛰어나게 한다.\n",
    "* 리스코프 치환 원칙을 준수하여 객체지향 디자인에서 적절한 클래스 계층을 설계한다.\n",
    "* 인터페이스 분리와 의존성 역전을 활용해 설계하기\n",
    "\n",
    "### 단일 책임 원칙(Single Responsibility Principle - SRP)\n",
    "\n",
    "SRP는 소프트웨어 컴포넌트(일반적으로 클래스)가 단 하나의 책임을 져야한다는 원칙이다. 클래스가 유일한 책임이 있다는 것은 하나의 구체적인 일을 담당한다는 것을 의미하며, 따라서 변화해야 할 이유는 단 하나뿐이다. \n",
    "\n",
    "도메인의 문제가 변경되면 클래스를 업데이트해야 한다. 다른 이유로 클래스를 수정해야 한다면 추상화가 잘못되어 클래스에 너무 많은 책임이 있다는 것을 뜻한다.\n",
    "\n",
    "어떤 경우에도 여러 책임을 가진 객체를 만들어서는 안 된다. 너무 많은 일을 하는 신(god) 객체를 만들면 서로 다른 행동을 그룹화한 것이기 때문에 유지보수가 어려워진다.\n",
    "\n",
    "다시 말해 클래스는 작을수록 좋다. 소프트웨어 디자인에서 SRP는 응집력과 밀접한 관련이 있다. 여기서 추구하려는 것은 클래스에 있는 프로퍼티와 속성이 항상 메서드를 통해서 사용되도록 하는 것이다. 이렇게 하면 이들은 관련된 개념이기 때문에 동일한 추상화로 묶는 것이 가능하다.\n",
    "\n",
    "어떤 면에서 이런 생각은 관계형 데이터베이스 설계에서의 정규화 개념과 유사하다. \n",
    "\n",
    "클래스의 메서드는 상호 베타적이며 서로 관련이 없어야 하고 따라서 이들은 서로 다른 책임을 가지고 있으므로 더 작은 클래스로 분해할 수 있어야 한다.\n",
    "\n",
    "### 너무 많은 책임을 가진 클래스\n",
    "\n",
    "예제로 로그 파일이나 데이터베이스와 같은 소스에서 이벤트의 정보를 읽어서 로그별로 필요한 액션을 분류하는 애플리케이션을 만들어 볼것이다. \n",
    "\n",
    "아래는 SRP를 준수하지 않은 디자인이다."
   ]
  },
  {
   "cell_type": "code",
   "execution_count": 9,
   "metadata": {},
   "outputs": [],
   "source": [
    "class SystemMonitor:\n",
    "    def load_activity(self):\n",
    "        \"\"\"소스에서 처리할 이벤트를 가져오기\"\"\"\n",
    "        \n",
    "    def identify_events(self):\n",
    "        \"\"\"가져온 데이터를 파싱하여 도메인 객\"\"\"\n",
    "    def load_activity(self):\n",
    "        \"\"\"소스에서 처리할 이벤트를 가져오기\"\"\""
   ]
  },
  {
   "cell_type": "markdown",
   "metadata": {},
   "source": [
    "이 클래스의 문제점은 독립적인 동작을 하는 메서드를 하나의 인터페이스에 정의했다는 것이다. 각각의 동작은 나머지 부분과 독립적으로 수행할 수 있다. \n",
    "\n",
    "이 디자인 결함은 유지보수를 어렵게 하ㅕ 클래스가 경직되고 융통성 없으며 오류가 발생하기 쉽게 만든다. 이 예제에서 각 메서드는 클래스의 책임을 대표한다. 각각의 책임마다 수정 사유가 발생한다. 즉 메서드마다 다양한 변경의 필요성이 생기게 된다.\n",
    "\n",
    "소스에서 정보를 가져오는 로더(loader) 메서드를 생각해보자. 추상화를 할 것이므로 실제 어떻게 구현했는지는 중요하지 않다. 만약 데이터 구조를 바꾸는 등의 이유로 이 중에 어떤 것이라도 수정해야 한다면 SystemMonitor 클래스를 변경해야 한다. 데이터의 표현이 변경되었다고 해서 시스템 모니터링하는 객체를 변경해서는 안된다.\n",
    "\n",
    "동일한 추론이 다른 두 가지 메서드에도 적용된다. 이벤트를 인식하는 방법이나 전달하는 방법을 변경하면 마찬가지로 클래스를 변경해야 한다.\n",
    "\n",
    "### 책임 분산\n",
    "\n",
    "솔루션을 보다 관리하게 쉽게 하기 위해 모든 메서드를 다른 클래스로 분리하여 각 클래스마다 단일 책임을 갖게 하자.\n",
    "\n",
    "각자의 책임을 가진 여러 객체로 만들고, 이들 객체들과 협력하여 동일한 기능을 수행하는 객체를 만들 수 있다. 각 클래스가 딱 하나의 메서드를 가져야 한다는 것을 뜻하는 것은 아니다. 처리해야 할 로직이 같은 경우 하나의 클래스에 여러 메서드를 추가할 수 있다."
   ]
  },
  {
   "cell_type": "markdown",
   "metadata": {},
   "source": [
    "## 개방/폐쇄 원칙(Open/Close Principle - OCP)\n",
    "\n",
    "클래스를 디자인할 때는 유지보수가 쉽도록 로직을 캡슐화하여 확장에는 개방되고 수정에는 폐쇄되도록 해야 한다.\n",
    "\n",
    "간단히 말해서 확장 가능하고, 새로운 요구사항이나 도메인 변화에 잘 적응하는 코드를 작성해야 한다는 뜻이다. 새로운 문제가 발생할 경우 새로운 것을 추가만 할 뿐 기존 코드는 그대로 유지해야 한다는 뜻이다. \n",
    "\n",
    "새로운 기능을 추가하다가 기존 코드를 수정했다면 그것은 기존 로직이 잘못 디자인되었다는 것을 뜻한다. 요구사항이 변경되면 새로운 기능을 구현하기 위한 모듈만 확장을 하고 기존 코드는 수정을 하면 안 된다.\n",
    "\n",
    "### 개방/폐쇄 원칙을 따르지 않을 경우 유지보수의 어려움\n",
    "\n",
    "예제에는 다른 시스템에서 발생하는 이벤트를 분류하는 기능을 가지고 있다. 각 컴포넌트는 수집한 데이터를 기반으로 어떤 타입의 이벤트인지 정확히 분류를 해야 한다. 단순함을 위해 데이터는 사전 형태로 저장되어 있고 록나 쿼리 등의 방법으로 이미 데이터를 수집했다고 가정한다. 이 데이터를 기반으로 고유한 계층구조를 가진 다른 이벤트로 분류한다."
   ]
  },
  {
   "cell_type": "code",
   "execution_count": 10,
   "metadata": {},
   "outputs": [],
   "source": [
    "class Event:\n",
    "    def __init__(self, raw_data):\n",
    "        self.raw_data = raw_data\n",
    "        \n",
    "class UnknownEvent(Event):\n",
    "    \"\"\"데이터만으로 식별할 수 없는 이벤트\"\"\"\n",
    "    \n",
    "class LoginEvent(Event):\n",
    "    \"\"\"로그인 사용자에 의한 이벤트\"\"\"\n",
    "    \n",
    "class LogoutEvent(Event):\n",
    "    \"\"\"로그아웃 사용자에 의한 이벤트\"\"\"\n",
    "\n",
    "class SystemMonitor:\n",
    "    \"\"\"시스템에서 발생한 이벤트 분류\"\"\"\n",
    "    \n",
    "    def __init__(self, event_data):\n",
    "        self.event_data = event_data\n",
    "    \n",
    "    def identify_event(self):\n",
    "        if (\n",
    "            self.event_data[\"before\"][\"session\"] == 0\n",
    "            and self.event_data[\"after\"][\"session\"] == 1\n",
    "        ):\n",
    "            return LoginEvent(self.event_data)\n",
    "        elif (\n",
    "            self.event_data[\"before\"][\"session\"] == 1\n",
    "            and self.event_data[\"after\"][\"session\"] == 0\n",
    "        ):\n",
    "            return LogoutEvent(self.event_data)\n",
    "        \n",
    "        return UnknownEvent(self.event_data)"
   ]
  },
  {
   "cell_type": "code",
   "execution_count": 11,
   "metadata": {},
   "outputs": [
    {
     "data": {
      "text/plain": [
       "'LoginEvent'"
      ]
     },
     "execution_count": 11,
     "metadata": {},
     "output_type": "execute_result"
    }
   ],
   "source": [
    "l1 = SystemMonitor({\"before\":{\"session\":0}, \"after\":{\"session\":1}})\n",
    "l1.identify_event().__class__.__name__"
   ]
  },
  {
   "cell_type": "code",
   "execution_count": 12,
   "metadata": {},
   "outputs": [
    {
     "data": {
      "text/plain": [
       "'LogoutEvent'"
      ]
     },
     "execution_count": 12,
     "metadata": {},
     "output_type": "execute_result"
    }
   ],
   "source": [
    "l2 = SystemMonitor({\"before\":{\"session\":1}, \"after\":{\"session\":0}})\n",
    "l2.identify_event().__class__.__name__"
   ]
  },
  {
   "cell_type": "code",
   "execution_count": 13,
   "metadata": {},
   "outputs": [
    {
     "data": {
      "text/plain": [
       "'UnknownEvent'"
      ]
     },
     "execution_count": 13,
     "metadata": {},
     "output_type": "execute_result"
    }
   ],
   "source": [
    "l3 = SystemMonitor({\"before\":{\"session\":1}, \"after\":{\"session\":1}})\n",
    "l3.identify_event().__class__.__name__"
   ]
  },
  {
   "cell_type": "markdown",
   "metadata": {},
   "source": [
    "이벤트 유형의 계층 구조와 이를 구성하는 일부 비즈니스 로직을 명확하게 알 수 있다. 예를 들어 세션에 플래그가 없었지만 지금은 있는 경우 LoginEvent로 식별한다. 반대의 값이면 LogoutEvent로 식별한다. 이벤트를 식별할 수 없는 경우 UnknownEvent를 반환한다. 이것은 None을 반환하는 대신 기본 로직을 가진 null 객체를 반환하는 패턴으로 다형성을 보장하기 위한 것이다.\n",
    "\n",
    "이 디자인에는 몇 가지 문제점이 있다. 첫 번째 문제는 이벤트 유형을 결정하는 논리가 일체형으로 중앙 집중화된다는 점이다. 지원하려는 이벤트가 늘어날수록 메서드도 커질 것이므로 결국 매우 큰 메서드가 될 수 있다. 한 가지 일만 하는 것도 아니고 한 가지 일을 제대로 하지도 못한다. \n",
    "\n",
    "같은 방법으로 이 메서드가 수정을 위해 닫히지 않았다는 것을 알 수 있다. 새로운 유형의 이벤트를 시스템에 추가할 때마다 메서드를 수정해야 한다(물론 elif 명령문 체인은 가독성 측면에서 최악이다!)\n",
    "\n",
    "이 메서드를 변경하지 않고도 새로운 유형의 이벤트를 추가하고 싶다(폐쇄 원칙). 새로운 이벤트가 추가될 때 이미 존재하는 코드를 변경하지 않고 코드를 확장하여 새로운 유형의 이벤트를 지원하고 싶다(개방 원칙).\n",
    "\n",
    "### 확장성을 가진 이벤트 시스템으로 리팩토링 "
   ]
  },
  {
   "cell_type": "markdown",
   "metadata": {},
   "source": [
    "이젠 예제의 문제점은 SystemMonitor 클래스가 분류하려는 구체 클래스와 직접 상호 작용한다는 점이다.  개방/폐쇄 원칙을 따르는 디자인을 달성하려면 추상화를 해야 한다.\n",
    "\n",
    "대안은 SystemMonitor 클래스를 추상적인 이벤트와 협력하도록 변경하고, 이벤트에 대응하는 개별 로직은 각 이벤트 클래스에 위임하는 것이다.\n",
    "\n",
    "그런 다음 각각의 이벤트에 다형성을 가진 새로운 메서드를 추가해야 한다. 이 메서드는 전달되는 데이터가 해당 클래스의 타입과 일치하는지 판단하는 역할을 한다. 또한 기존 분류 로직을 수정하여 이 메서듣 사용해 전체 이벤트를 돌면서 검사하도록 해야 한다."
   ]
  },
  {
   "cell_type": "code",
   "execution_count": 31,
   "metadata": {},
   "outputs": [],
   "source": [
    "class Event:\n",
    "    def __init__(self, raw_data):\n",
    "        self.raw_data = raw_data\n",
    "    \n",
    "    @staticmethod\n",
    "    def meets_condition(event_data: dict):\n",
    "        return False\n",
    "\n",
    "class UnknownEvent(Event):\n",
    "    \"\"\"데이터만으로 식별할 수 없는 이벤트\"\"\"\n",
    "\n",
    "class LoginEvent(Event):\n",
    "    @staticmethod\n",
    "    def meets_condition(event_data: dict):\n",
    "        return (\n",
    "            event_data[\"before\"]['session'] == 0\n",
    "            and event_data[\"after\"]['session'] == 1\n",
    "        )\n",
    "    \n",
    "class LogoutEvent(Event):\n",
    "    @staticmethod\n",
    "    def meets_condition(event_data: dict):\n",
    "        return (\n",
    "            event_data[\"before\"]['session'] == 1\n",
    "            and event_data[\"after\"]['session'] == 0\n",
    "        )\n",
    "    \n",
    "class SystemMonitor:\n",
    "    \"\"\"시스템에서 발생한 이벤트 분류\"\"\"\n",
    "    \n",
    "    def __init__(self, event_data):\n",
    "        self.event_data = event_data\n",
    "    \n",
    "    def identify_event(self):\n",
    "        for event_cls in Event.__subclasses__():\n",
    "            try:\n",
    "                if event_cls.meets_condition(self.event_data):\n",
    "                    return event_cls(self.event_data).__class__.__name__\n",
    "#                     return event_cls(self.event_data)\n",
    "            except KeyError:\n",
    "                continue\n",
    "        return UnknownEvent(self.event_data)"
   ]
  },
  {
   "cell_type": "markdown",
   "metadata": {},
   "source": [
    "이제 상호 작용이 추상화를 통해 이뤄지고 있음에 주목하자(이 경우 Event는 제네릭 또는 추상 클래스이거나 인터페이스가 될 수 있지만 설명을 간단하게 하기 위해 구체 클래스를 사용한다). 분류 메서드는 이제 특정 이벤트 타입 대신에 일반적인 인터페이스를 따르는 제네릭 이벤트와 동작한다. 이 인터페이스를 따르는 제네릭들은 모두 meets_condition 메서드를 구현하여 다형성을 보장한다.\n",
    "\n",
    "\\__subclasses__() 메서드를 사용해 이벤트 유형을 찾는 것에 주목하자. 이제 새로운 유형의 이벤트를 지원하려면 단지 Event 클래스를 상속 받아 비즈니스 로직에 따라 meets_condition() 메서드를 구현하기만 하면 된다."
   ]
  },
  {
   "cell_type": "code",
   "execution_count": 32,
   "metadata": {},
   "outputs": [
    {
     "name": "stdout",
     "output_type": "stream",
     "text": [
      "LogoutEvent\n"
     ]
    }
   ],
   "source": [
    "sysmon = SystemMonitor({\"before\":{\"session\":1}, \"after\":{\"session\":0}})\n",
    "print(sysmon.identify_event())"
   ]
  },
  {
   "cell_type": "code",
   "execution_count": 45,
   "metadata": {},
   "outputs": [
    {
     "name": "stdout",
     "output_type": "stream",
     "text": [
      "['__class__', '__delattr__', '__dict__', '__dir__', '__doc__', '__eq__', '__format__', '__ge__', '__getattribute__', '__gt__', '__hash__', '__init__', '__init_subclass__', '__le__', '__lt__', '__module__', '__ne__', '__new__', '__reduce__', '__reduce_ex__', '__repr__', '__setattr__', '__sizeof__', '__str__', '__subclasshook__', '__weakref__', 'meets_condition']\n"
     ]
    }
   ],
   "source": [
    "# print(Event.__subclasses__())\n",
    "print(dir(Event))"
   ]
  },
  {
   "cell_type": "markdown",
   "metadata": {},
   "source": [
    "### 이벤트 시스템 확장\n",
    "\n",
    "이제 이 디자인이 실제로 원하는 대로 확장 가능하다는 것을 증명해보자. 새로운 요구사항이 생겨서 모니터링 중인 시스템의 사용자 트랜잭션에 대응하는 이벤트를 지원해야 한다고 가정해보자. \n",
    "\n",
    "TransactionEvent라는 새로운 클래스를 추가하는 것만으로 기존 코드가 예상한 대로 잘 동작한다. "
   ]
  },
  {
   "cell_type": "code",
   "execution_count": 46,
   "metadata": {},
   "outputs": [],
   "source": [
    "class TransactionEvent(Event):\n",
    "    \"\"\"시스템에서 발생한 트랜잭션 이벤트\"\"\"\n",
    "    @staticmethod\n",
    "    def meets_condition(event_data:dict):\n",
    "        return event_data[\"after\"].get(\"transaction\") is not None"
   ]
  },
  {
   "cell_type": "code",
   "execution_count": 47,
   "metadata": {},
   "outputs": [
    {
     "data": {
      "text/plain": [
       "'TransactionEvent'"
      ]
     },
     "execution_count": 47,
     "metadata": {},
     "output_type": "execute_result"
    }
   ],
   "source": [
    "l4 = SystemMonitor({\"after\": {\"transaction\":\"Txoo1\"}})\n",
    "l4.identify_event()"
   ]
  },
  {
   "cell_type": "markdown",
   "metadata": {},
   "source": [
    "새 이벤트를 추가했지만 SystemMonitor.identify_event() 메서드는 전혀 수정하지 않은 것에 주목하자. 따라서 이 메서드가 새로운 유형의 이벤트에 대해서 폐쇄되어 있다고 말할 수 있다.\n",
    "\n",
    "반대로 Event 클래스는 필요할 때마다 새로운 유형의 이벤트를 추가할 수 있게 해준다. 따라서 이벤트는 새로운 타입의 확장에 대해 개방되어 있다고 말할 수 있다.\n",
    "\n",
    "이것이 바로 이 원칙의 진정한 본질이다. 도메인에 새로운 문제가 나타나도 기존 코드를 수정하지 않고 새 코드를 추가하기만 하면 된다.\n",
    "\n",
    "### OCP 최종 정리\n",
    "\n",
    "이미 눈치 챘겠지만 이 원칙은 다형성의 효과적인 사용과 밀접하게 관련되어 있다. 다형성을 따르는 형태의 계약을 만들고 모델을 쉽게 확장할 수 있는 일반적인 구조로 디자인하는 것이다. \n",
    "\n",
    "이 원칙은 소프트웨어 엔지니어링의 중요한 문제인 유지보수성에 대한 문제를 해결한다. OCP를 따르지 않으면 파급 효과가 생기거나 작은 변경이 코드 전체에 영향을 미치거나 다른 부분을 손상시키게 된다.\n",
    "\n",
    "마지막 중요한 요점은 코드를 변경하지 않고 기능을 확장하기 위해서는 보호하려는 추상화에 대해서 적절한 폐쇄를 해야 한다는 것이다. 일부 추상화의 경우 충돌이 발생할 수 있기 때문에 모든 프로그램에서 이 원칙을 적용하는 것이 가능한 것은 아니다. "
   ]
  },
  {
   "cell_type": "code",
   "execution_count": null,
   "metadata": {},
   "outputs": [],
   "source": []
  }
 ],
 "metadata": {
  "kernelspec": {
   "display_name": "Python 3",
   "language": "python",
   "name": "python3"
  },
  "language_info": {
   "codemirror_mode": {
    "name": "ipython",
    "version": 3
   },
   "file_extension": ".py",
   "mimetype": "text/x-python",
   "name": "python",
   "nbconvert_exporter": "python",
   "pygments_lexer": "ipython3",
   "version": "3.7.3"
  }
 },
 "nbformat": 4,
 "nbformat_minor": 2
}
