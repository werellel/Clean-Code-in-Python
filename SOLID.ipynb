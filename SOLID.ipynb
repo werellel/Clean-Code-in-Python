{
 "cells": [
  {
   "cell_type": "markdown",
   "metadata": {},
   "source": [
    "SOLID는 다음을 뜻한다.\n",
    "\n",
    "* S: 단일 책임 원칙\n",
    "* O: 개방 폐쇠 원칙\n",
    "* L: 리스코프 치환 원칙\n",
    "* I: 인터페이스 분리 원칙\n",
    "* D: 의존성 역전 원칙\n",
    "\n",
    "목표는 다음과 같다.\n",
    "\n",
    "* 소프트웨어 디자인에서의 SOLID 원칙을 익힌다.\n",
    "* 단일 책임 원칙을 따르는 컴포넌트를 디자인한다.\n",
    "* 개방 폐쇄의 원칙 통해 보다 유지보수성을 뛰어나게 한다.\n",
    "* 리스코프 치환 원칙을 준수하여 객체지향 디자인에서 적절한 클래스 계층을 설계한다.\n",
    "* 인터페이스 분리와 의존성 역전을 활용해 설계하기\n",
    "\n",
    "\n"
   ]
  }
 ],
 "metadata": {
  "kernelspec": {
   "display_name": "Python 3",
   "language": "python",
   "name": "python3"
  },
  "language_info": {
   "codemirror_mode": {
    "name": "ipython",
    "version": 3
   },
   "file_extension": ".py",
   "mimetype": "text/x-python",
   "name": "python",
   "nbconvert_exporter": "python",
   "pygments_lexer": "ipython3",
   "version": "3.7.3"
  }
 },
 "nbformat": 4,
 "nbformat_minor": 2
}
