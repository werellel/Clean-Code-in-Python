{
 "cells": [
  {
   "cell_type": "markdown",
   "metadata": {},
   "source": [
    "좋은 소프트웨어는 좋은 디자인으로부터 나온다. 클린 코드에 대해서 말하면 디자인보다는 세부 구현의 모범 사례에 대해서만 생각하기 쉽다. 그러나 코드가 디자인이고, 디자인이 코드이다. \n",
    "\n",
    "클린 코드의 궁극적인 목표는 코드를 가능한 견고하고 결함을 최소화하고 완전히 자명하도록 하는 것이다. \n",
    "\n",
    "고품질의 코드는 다차원의 개념을 갖는다. 이것은 소프트웨어 설계의 속성에 대한 고민과 비슷하다. 예를 들어 몇 가지만 말하면 안전하고 고성능이며 유지보수성이 좋기를 바라는 것이다. \n",
    "\n",
    "1. 견고한 소프트웨워의 개념을 히애\n",
    "2. 작업 중 잘못된 데이터를 다루는 방법\n",
    "3. 새로운 요구 사항을 쉽게 받아들이고 확장할 수 있는 유지보수가 쉬운 소프트웨어 설계\n",
    "4. 재사용 가능한 소프트웨어 설계\n",
    "5. 개발팀의 생산성을 높이는 효율적인 코드 작성"
   ]
  },
  {
   "cell_type": "markdown",
   "metadata": {},
   "source": [
    "### 계약에 의한 디자인\n",
    "\n",
    "소프트웨어는 사용자가 직접 호출하기도 하지만 코드의 코드의 다른 부분에서 호출하는 경우도 있다. 애플리케이션의 책임을 나누어 레이어나 컴포넌트로 분리한 경우에 그러하다. 이들 서로 간의 교류에 대해 고민해보자.\n",
    "\n",
    "컴포넌트는 기능을 숨겨 캡슐화하고 ㅎ마수를 사용할 고객에게는 API를 노출해야 한다. 컴포넌트의 함수, 클래스, 메서드는 특별한 유의사항에 따라 동작해야 하며, 그렇지 않을 경우 코드가 깨지게 된다. 반대로 코드를 호출하는 클라이언트는 특정 응답을 기대하며 이것과 다른 경우 함수 호출에 실패하고 결함이 발생한다.\n",
    "\n",
    "예를 들어 정수를 파라미터로 사용하는 함수에 문자열을 파라미터로 전달하면 기대한 것과 가르게 동작할 것이 분명하다. 사실 이렇게 크라이언트가 실수를 하여 잘못 호출했기 때문에 절대로 실행이 되어서는 안 된다. 또한 조용히 오류를 발생해도 안 된다.\n",
    "\n",
    "API를 디자인할 때 예상되는 입력, 출력 및 부작용을 문서화해야 한다. 그러나 문서화가 런타임 시의 소프트웨어의 동작까지 강제할 수는 없다. 이러한 규칙, 즉 코드가 정상적으로 동작하기 위해 기대하는 것과 호출자가 반환 받기를 기대하는 것은 디자인의 하나가 되어야 한다. 여기서 계약(contract)이라는 개념이 생긴다. \n",
    "\n",
    "계약에 의한 디자인(Design by Contract)이란 관계자가 기대하는 바를 암묵적으로 코드에 삽입하는 대신 양측이 동의하는 계약을 먼저 한 다음, 계약을 어겼을 경우는 명시적으로 왜 계속할 수 없는지 예외를 발생시키라는 것이다.\n",
    "\n",
    "이 책에서 말하는 계약은 소프트웨어 컴포넌트 간의 통신 중에 반드시 지켜져야 할 몇 가지 규치글 강제하는 것이다. 계약은 주로 사전조건과 사후조건을 명시하지만 때로는 불변식과 부작용을 기술한다.\n",
    "\n",
    "사전조건(precondition): 코드가 실행되기 전에 체크해야 하는 것들이다. 함수가 진행되기 전에 처리 되어야 하는 모든 조건을 체크한다. 일반적으로 파라미터에 제공된 데이터의 유효성을 검사하지만 유효성 체크를 통해 부자굥ㅇ이 최소화된다는 점을 고려할 때 유효성 검사를 많이 하는 것이 좋다. 예를 들어 데이터베이스, 파일, 이전에 호출된 다른 메서트의 검사 등이다. 이러한 작업은 호출자에게 부과된 임무이다. \n",
    "\n",
    "사후조건(postcondition): 사전조건과 반대로 여기서는 함수 반환 값의 유효성 검사가 수행된다. 사후조건 검증은 호출자가 이 컴포넌트에서 기대한 것을 제대로 받았는지 확인하기 위해 수행한다.\n",
    "\n",
    "불변식(invariant): 때로는 함수의 docstring에 불변식에 대해 문서화하느 것이 좋다. 불변식은 함수가 실행되는 동안에 일정하게 유지되는 것으로 함수의 로직에 문제가 없는지 확인하기 위한 것이다.\n",
    "\n",
    "부작용(side-effect): 선택적으로 코드의 부작용을 docsteinf에 언급하기도 한다.\n",
    "\n",
    "이상적으로는 이 모든 것들을 소프트웨어 컴포넌트 계약서의 일부로 문서화해야 하지만, 처음 2개인 사전조건과 사후조건만 조수준(코드) 레벨에서 강제한다. \n",
    "\n",
    "이렇게 계약에 의해 디자인을 하는 이유는 오류가 발생할 때 쉽게 찾아낼 수 있기 때문이다. 사전조건 또는 사후조건 검증에 실패할 경우 오류를 수비게 찾아서 수정할 수 있다. 더 중요한 것은 잘못된 가정 하에 코드의 핵심 부분이 실행되는 것을 방지하기 위해서이다. 이렇게 하면 단지 애플리케이션의 어떤 부분에서 실패했다는 에러 발생시키는데서 그치는 것이 아니라 책임의 한계를 명확히하는데 도움이 된다. 만약 호출자가 잘못된 인자를 제공했다면 어디를 고쳐야 할까?\n",
    "\n",
    "사저조건은 클라이언트와 연관되어 있다. 클라이언트 코드를 실행하기 위해 사전에 약속한 조건을 준수해야만 한다. 반대로 사후조건은 컴포넌트와 연관되어 있다. 컴포넌트는 클라이언트가 확인하고 강제할 수 있는 값을 보장을 해야 한다.\n",
    "\n",
    "이렇게 하면 책임소재를 신속하게 파악할 수 있다. 사전조건 검증에 실패하면 클라이언트의 결함에 의한 것이다. 반면에 사후조건 검증에 실패하면 특정 모듈이나 제공 클래스 자체에 문제가 있음을 알 수 있다.\n",
    "\n",
    "특히 사전조건은 런타임 중에 확인할 수 있다는 점을 기억하는 것이 중요하다. 만약 사전조건에 맞지 않는다면 실행하지 않아햐 한다. 왜냐하면 조건에 맞지 않는데 실행하는 것이 이치에 맞지 않을뿐더러 상황을 더 악화시킬 수 있기 때문이다. \n",
    "\n",
    "### 사전조건\n",
    "\n",
    "사전조건은 함수나 메서드가 제대로 동작하기 위해 보장해야 하는 모든 것을 말한다. 프로그래밍에서 많이 사용되는 일반적인 용어로 적절한 데이터를 전달하는 것이다. 예를 들어 초기화된 객체, null이 아닌 값 등의 조건이다. 특히 파이썬은 동적으로 타입이 결정되므로 전달된 데이터가 적절한 타입인지 확인하는 경우도 있다. 이것은 mypy가 하는 타입 체킹과 다르다. 그것보다는 필요로 하는 값이 정확한지 확인하는 것에 가깝다. \n",
    "\n",
    "이제 문제는 이 유효성 검사를 어디서 할지이다. 클라이언트가 함수를 호출하기 전에 모든 유효성 검사를 하도록 할 것인지, 함수가 자체적으로 로직을 실행하기 전에 검사하도록 할 것인지에 대한 문제이다. 전자는 관용적인 접근법이다. 왜냐하면 함수가 어떤 값이라도 수용하기 때문이다. 반면 후자는 까다로운 접근 방법에 해당한다.\n",
    "\n",
    "까다로운 접근법이 일반적으로 가장 안전하고 견고한 방법이며 업계에서도 가장 널리 쓰이는 방법이다."
   ]
  },
  {
   "cell_type": "markdown",
   "metadata": {},
   "source": [
    "어떤 방식을 택하든 중복 제거 원칙을 항상 마음속에 간직해야 한다. 중복 제거 원칙은 사전조건 검증을 양쪽에서 하지 말고 오직 어느 한쪽에서만 해야 한다는 것이다. 이것은 DRY 원칙과 관련이 있다."
   ]
  },
  {
   "cell_type": "markdown",
   "metadata": {},
   "source": [
    "### 사후조건(postcondition)\n",
    "\n",
    "사후조건은 메서드 또는 함수가 반환된 후의 상태를 강제하는 계약의 일부이다. \n",
    "\n",
    "함수 또는 메서드가 적절한 속성으로 호출되었다면(사전조건에 맞는다면) 사후조건은 특정 속성이 보존되도록 보장해야 한다.\n",
    "\n",
    "사후조건을 사용하여 클라이언트가 필요로 하는 모든 것을 검사할 수 있다. 메서드가 적절히 실행되었다면 계약이 이루어졌으므로 사우조건 검증에 통과하고 클라이언트는 반환 객체를 아무 문제없이 사용할 수 있어야 한다."
   ]
  },
  {
   "cell_type": "markdown",
   "metadata": {},
   "source": [
    "### 파이썬스로운 계약\n",
    "\n",
    "함수 및 클래스에 RuntimeError 또는 ValueError를 발생시키는 제어 매커니즘을 추가하는 것이 파이썬에 계약을 추가하는 가장 좋은 방법이다. 올바른 예외 타입이 무엇인지 일반적인 규칙을 만드는 것은 애플리케이션에 종속적인 부분이 많으므로 어려운 일이다. 앞서 언급한 예외는 가장 일반적인 예외이지만 문제를 정확하게 특정하기 어려우면 사용자 정의 예외를 만드는 것이 가장 좋다.\n",
    "\n",
    "또한 코드를 가능한 한 격리된 상태로 유지하는 것이 좋다. 즉 사전조건에 대한 검사와 사후조건에 대한 검사 그리고 핵심 기능에 대한 구현을 구분하는 것이다. 더 작은 함수를 생성하여 해결할 수도 있지만 데코레이터를 사용하는 것이 흥미로운 대안이 될 수 있다.\n",
    "\n",
    "### 계약에 의한 디자인(DbC) - 결론\n",
    "\n",
    "디자인 원칙의 주된 가치는 문제가 있는 부분을 효과적으로 식별하는데 있다. 계약을 정의함으로써 런타임 시 오류가 발생했을 때 코드의 어떤 부분이 손상되었는지 계약이 파손되었는지가 명확해진다. \n",
    "\n",
    "이 원칙을 따르게 되면 코드가 더욱 견고해진다. 각 컴포넌트는 자체적으로 제약 조건과 불변식을 관리하며 이러한 불변식이 유지되는 한 프로그램이 정상 동작하는 것으로 볼 수 있다.\n",
    "\n",
    "또한 프로그램 구조를 명확히 하는 목적으로도 사용된다. 즉흥적으로 유효성 검사를 해보거나 가능한 모든 실패 시나리오를 검증하려고 하는 대신 계약은 명시적으로 함수나 메서드가 정상 동작하기 위해 기대하는 것이 무엇인지, 무엇을 기대할 수 있는지 정의한다.\n",
    "\n",
    "물론 이러한 원칙을 따르면 추가 작업이 발생한다. 왜냐하면 애플리케이션의 핵심 논리뿐만 아니라 계약을 작성해야 하기 때문이다. 또안 이러한 계약에 대한 단위 테스트를 추가해야 할수 도 있다. 그러나 이 방법을 통해 얻은 품질은 장기적으로 보상된다. 따라서 애플리케이션의 중요한 구성 요소에 대해서는 이 원칙을 따르는 것이 좋다.\n",
    "\n",
    "그럼에도 불구하고 이 방법이 효과적이기 위해서는 무엇을 기꺼이 검증할 것인지 신중히 검토해봐야 하며 이는 굉장히 중요한 부분이다. 예를 들어 함수에 제공된 파라미터의 올바른 데이터 타입만 검사하는 계약을 정의하는 것은 별로 의미가 없다. 많은 프로그래머는 그렇게 하는 거이 파이썬을 정적 타입을 가진 언어로 만드는 것과 비슷한 것이라고 주장한다. 이런 주장과 별개로 Mypy와 같은 도구를 함께 사용하면 이 목적을 훨씬 효과적이고 적은 노력으로 이룰 수 있는 것이 사실이다. 함수에 전달되는 객체의 속성과 반환 값을 검사하고 이들이 유지해야 하는 조건을 확인하는 등의 작업을 하는 것은 실질적인 가치가 있다. "
   ]
  },
  {
   "cell_type": "markdown",
   "metadata": {},
   "source": [
    "### 방어적 프로그래밍(defensive programming)\n",
    "\n",
    "방어적 프로그래밍은 DbC와는 다소 다른 접근 방식을 따른다. 계약에서 오외를 발생시키고 실패하게 되는 모든 조건을 기술하는 대신 객체, 함수 또는 메서드와 같은 코드의 모든 부분을 유효하지 않은 것으로부터 보호할 수 있게 하는 것이다.\n",
    "\n",
    "방어적 프로그래밍은 여러 측면을 고려한 기술이며 다른 디자인 원칙과 결합된 경우 특히 유용하다. 이것이 DbC와 다른 철학을 가졌다는 의미는 아니다. 다른 디자인 원칙과 서로 보완 관계에 있을 수 있다는 것을 의미한다.\n",
    "\n",
    "방어적 프로그래밍의 주요 주제는 예상할 수 있는 시나리오의 오류를 처리하는 방법과 발생하지 않아야 하는 오류를 처리하는 방법에 대한 것이다. 전자는 에러 핸들링 프로시저에 대한 것이며, 후자는 어썰션에 대한 것이다.\n",
    "\n",
    "### 에러 랜들링\n",
    "\n",
    "오류가 발생하기 쉬운 상황에서 에러 핸들링 프로시저를 사용하는데 일반적으로 데이터 입력 확인 시 자주 사용된다.\n",
    "\n",
    "에러 핸들링의 주요 목적은 예상되는 에러에 대해서 실행을 계속할 수 있을지 아니면 극복할 수 없는 오류여서 프로그램을 중단할지를 결정하는 것이다. 프로그램에서 에러를 처리하는 방법에는 여러 가지가 있지만 모든 것을 처리할 수 있는 것은 아니다. 에러 처리 방법의 일부는 다음과 같다.\n",
    "\n",
    "* 값 대체\n",
    "* 에러 로깅 \n",
    "* 예외 처리\n",
    "\n",
    "### 값 대체\n",
    "\n",
    "일부 시나리오에서는 오류가 있어 소프트웨어가 잘못된 값을 생성하거나 전체가 종료될 위험이 있을 경우 결과 값을 안전한 다른 값으로 대체할 수 있다. 이것을 값 대체라고 한다. 잘못된 결과를 정합성을 깨지 않는 다른 값으로 대체하기 때문이다. 기본 값 또는 잘 알려진 상수, 초기 값으로 바구는 것이다.\n",
    "\n",
    "그러나 항상 대체가 가능하진 않다. 값이 실제로 안전한 옵션인 경우에 한해 신중하게 선택해야 한다. 이 결정을 내리는 것은 견고성과 정확성 간의 트레이드오프이다. \n",
    "\n",
    "일반적으로 누락된 파라미터를 기본 값으로 바꾸어도 큰 문제가 없지만 오류가 있는 데이터를 유사한 값으로 태체하는 것은 더 위험하여 일부 오류를 숨겨버릴 수 있다. \n",
    "\n",
    "### 예외 처리\n",
    "\n",
    "어떤 경우에는 에러가 발생하기 쉽다는 가정으로 계속 실행하는 것 보다 차라리 실행을 멈추는 것이 더 좋다. 이런 경우에는 호출자에게 실패했음을 알리는 것이 좋은 선택이다. \n",
    "\n",
    "그러나 입력이 잘못되었을 때만 함수에 문제가 생기는 것은 아니다. 함수는 단순히 데이터를 전달받는 것이 아니라 외부 컴포넌트에 연결되어 있으며 부작용 또한 가지고 있다.\n",
    "\n",
    "함수 호출 실패는 함수 자체의 문제가 아니라 이러한 외부 컴포넌트 중 하나의 문제로 인한 것일 수 있다. 이런 경우 적절하게 인터페이스를 설계하면 쉽게 디버깅할 수 있다. 함수는 심각한 오류에 대해 명확하고 분명하게 알려줘서 적절하게 해결할 수 있도록 해야 한다.\n",
    "\n",
    "이것이 바로 예외 매커니즘이다. 예외적인 상황을 명확하게 알려주고 원래의 비즈니스 로직에 따라 흐름을 유지하는 것이 중요하다.\n",
    "\n",
    "예외를 사용하여 시나리오나 비즈니스 로직을 처리하려고 하면 프로그램의 흐름을 읽기 어려워진다. 이로 인해 go-to 문 같은 것을 사용하는 경우도 발생한다. 이것은 상황을 악화시키는 것으로 호출 스택의 여러 수준에서 사용되면 논리를 캡슐화하지 못할 수 있다. 그리고 프로그램이 꼭 처리해야 하는 정말 예외적인 비즈니스 로직을 except 블록과 혼합하여 사용하면 상황이 더욱 악화될 수 있다. 이렇게 되면 유지보수가 필요한 핵심 논리와 오류를 구별하는 것이 더 어려워진다.\n",
    "\n",
    "비즈니스 로직의 일부로 go-to 문을 사용하여 예외처리를 하면 안된다. 호출자가 알아야만 하는 실질적인 문제가 있을 경우에는 예외를 발생시켜야 한다.\n",
    "\n",
    "예외는 대부분 호출자에게 잘못을 알려주는 것이다. 예외는 캡슐화를 약화시키기 때문에 신중하게 사용해야 한다. ㅎ마수에 예외가 많을수록 호출자가 호출하는 함수에 대해 더 많은 것을 알아야만 한다. 함수가 너무 많은 예외를 발생시키면 문맥에서 자유롭지 않다는 것을 의미한다. 왜냐하면 호출할 때마다 발생 가능한 부작용을 염두에 두고 문맥을 유지해야하기 때문이다.\n",
    "\n",
    "이것은 함수가 응집력이 약하고 너무 많은 책임을 가지고 있다는 것을 아기 위한 경험적 확인 방법이 될 수도 있다. 예외가 너무 많이 발생하면 여러 개의 작은 것으로 나눠야한다는 신호일 수 있다.\n",
    "\n",
    "#### 올바른 수준의 추상화 단계에서 예외처리\n",
    "\n",
    "예외는 오직 한 가지 일을 하는 함수의 한 부분이어야 한다. 함수가 처리하는 예외는 캠슐화된 로직과 일치해야 한다. \n",
    "\n",
    "다음은 서로 다른 수준의 추상화를 혼합하는 예제이다. 애플리케이션에서 디코딩한 데이터를 외부 컴포넌트에 전달하는 객체를 상상해보자. \n",
    "\n",
    "deliver_event 메서드를 중점적으로 살펴보자."
   ]
  },
  {
   "cell_type": "code",
   "execution_count": 33,
   "metadata": {},
   "outputs": [],
   "source": [
    "class DataTransport:\n",
    "    \"\"\" 다른 레벨에서 예외를 처리하는 객체의 예\"\"\"\n",
    "    \n",
    "    retry_threshold: int = 5\n",
    "    retry_n_times: int = 3\n",
    "    \n",
    "    def __init__(self, connector):\n",
    "        self._connector = connector\n",
    "        self.connection = None\n",
    "    \n",
    "    def deliver_event(self, event):\n",
    "        try:\n",
    "            self.connect()\n",
    "            data = event.decode()\n",
    "            self.send(data)\n",
    "        except ConnectionError as e:\n",
    "            logger.info(\"연결 실패: %s\", e)\n",
    "            raise\n",
    "        except ValueError as e:\n",
    "            logger.error(\"%r 잘못된 데이터 포함: %s\", event, e)\n",
    "            raise\n",
    "    \n",
    "    def connect(self):\n",
    "        for _ in range(self.retry_n_times):\n",
    "            try:\n",
    "                self.connection = self._connector.connect()\n",
    "            except ConnectionError as e:\n",
    "                logger.info(\n",
    "                    \"%s : 새로운 연결 시도 %is \",\n",
    "                    e, self.retry_threhold\n",
    "                )\n",
    "                time.sleep(self.retry_threshold)\n",
    "            else:\n",
    "                return self.connection\n",
    "        raise ConnectionError(\n",
    "            f\"{self.retry_n_times} 번째 재시도 연결 실패\"\n",
    "        )\n",
    "    \n",
    "    def send(self, data):\n",
    "        return self.connection.send(data)\n",
    "    "
   ]
  },
  {
   "cell_type": "markdown",
   "metadata": {},
   "source": [
    "deliver_event() 메서드가 예외를 처리하는 방법에 초점을 맞추어 분석해보자.\n",
    "\n",
    "ValueError과 ConnectionError는 무슨 관계일까? 별로 관계가 없다. 이렇게 매우 다른 유형의 오류를 살펴봄으로써 책임을 어떻게 분산해야 하는지에 대한 아이디어를 얻을 수 있다.\n",
    "\n",
    "ConnectionError는 connect 메서드 내에서 처리되어야한다. 이렇게 하면 생동을 명확하게 분리할 수 있다. 예를 들어 이 메서드가 재시도를 지원하는 경우 이 안에서 처리를 할 수 있다. 반대로 ValueError는 event의 decode 메서드에 속한 에러이다. 이렇게 구현을 수정하면 deliver_event에서는 예외를 catch할 필요가 없다. 이전에 걱정했던 예외는 내부 메서드에서 처리하거나 의도적으로 예외가 발생하도록 내버려둘 수 있다.\n",
    "\n",
    "따라서 deliver_event 메서드는 마든 메서드나 함수로 분리해야만 한다. 연결 관리는 작은 함수로 충분하다. 이 함수는 연결을 맺고, 발생 가능한 예외를 처리하고 로깅을 담당한다. "
   ]
  },
  {
   "cell_type": "code",
   "execution_count": 34,
   "metadata": {},
   "outputs": [],
   "source": [
    "def connect_with_retry(connector, retry_n_times, retry_threshold =5 ):\n",
    "    \"\"\"connector의 연결을 맺는다. <retry_n_times>회 재시도.\n",
    "    연결에 성공하면 connection 객체 반환\n",
    "    재시도까지 모두 실패하면 ConnectionError 발생\n",
    "    \n",
    "    :param connector: '.connect()' 메서드를 가진 객체\n",
    "    :param retry_n_times: 'connector.connect()' 를 호출 시도하는 횟수\n",
    "    :param retry_threshold: 재시도 사이의 간격    \n",
    "    \"\"\"\n",
    "    for _ in range(try_n_times):\n",
    "        try:\n",
    "            return connector.connect()\n",
    "        except ConnectionError as e:\n",
    "            logger.info(\n",
    "                \"%s: 새로운 연결 시도 %is\", e, retry_threshold\n",
    "            )\n",
    "            time.sleep(retry_threshold)\n",
    "    exc = ConnectionError(f\"{retry_n_times} 번째 재시도 연결 실패\")\n",
    "    logger.exception(exc)\n",
    "    raise exc"
   ]
  },
  {
   "cell_type": "markdown",
   "metadata": {},
   "source": [
    "이제 원래 deliver_event 메서드에서 이 함수를 호출하면 된다. event의 ValueError 예외세대해서도 새로운 객체로 분리할 수 있지만 일단 다른 메서드로 분리하는 것으로 대신한다. 이러한 두 가지를 적용한 새 메서드를 훨씬 더 작고 일기 쉽다."
   ]
  },
  {
   "cell_type": "code",
   "execution_count": 36,
   "metadata": {},
   "outputs": [],
   "source": [
    "class DataTransport:\n",
    "    \"\"\" 추상화 수준에 따른 예외 분리를 한 객체의 예제 \"\"\"\n",
    "    \n",
    "    retry_threshold: int = 5\n",
    "    retry_n_times: int = 3\n",
    "    \n",
    "    def __init__(self, connector):\n",
    "        self._connector = connector\n",
    "        self.connection = None\n",
    "    \n",
    "    def deliver_event(self, event):\n",
    "        self.connection = connect_with_retry(self._connector, self.retry_n_times, self.retry_threshold)\n",
    "        self.send()\n",
    "            \n",
    "    def send(self, data):\n",
    "        try:\n",
    "            return self.connection.send(event.decode())\n",
    "        except:\n",
    "            logger.error('%r 잘못된 데이터 포함: %s', event, e)\n",
    "            raise"
   ]
  },
  {
   "cell_type": "markdown",
   "metadata": {},
   "source": [
    "### Traceback 노출 금지\n",
    "\n",
    "이것은 보안을 위한 고려 사항이다. 예외를 처리할 때 오류가 너무 중요하다면 전파해도 된다. 또한 특정 시나리오에서 검토된 내용이거나 견고함보다 정확성이 중요한 상황이라면 프로그램을 종료하게 할 수도 있다.\n",
    "\n",
    "특정 문제를 나타내는 예외가 있는 문제를 효율적으로 해결할 수 있도록 traceback 정보, 메세지 및 기카 수집 가능한 정보를 로그로 남기는 것이 중요하다. 그러나 이러한 세부사항은 절대 사용자에게 보여서는 안 된다.\n",
    "\n",
    "traceback은 매우 유용하고 많은 디버깅 정보를 포함한다. 안타깝게도 이 정보는 악의적인 사용자에게도 매우 유용한 정보여서 중요 정보나 지적 재산의 유출이 발생할 위험이 있다. \n",
    "\n",
    "#### 비어있는 except 블록 지양\n",
    "\n",
    "이것은 파이썬의 안티패턴 중에서도 가장 악마 같은 패턴이다. 일부 오류에 대비하여 프로그램을 방어하는 것은 좋은 일이자만 너무 방어적인 것은 더 심각한 문제로 이어질 수 있다. 특히 너무 방어적이어서 어무것도 하지 않은 채로 조용히 지나쳐버리는 비어있는 except 블록은 가장 안좋은 예이다. \n",
    "\n",
    "파이썬은 매우 유연하여 결함이 있는 코드를 작성할 수 있으며, 다음과 같은 경우 오류를 발생시키지 않는다."
   ]
  },
  {
   "cell_type": "code",
   "execution_count": 1,
   "metadata": {},
   "outputs": [],
   "source": [
    "try:\n",
    "    process_data()\n",
    "except:\n",
    "    pass"
   ]
  },
  {
   "cell_type": "markdown",
   "metadata": {},
   "source": [
    "이것의 문제는 결코 실패하지 않는다는 것이다. 에러는 결코 조용히 전달되어서는 안 된다는 파이썬의 철학(The Zen of Pythoon)을 떠올리면 이는 파이썬스러운 코드가 아니다.\n",
    "\n",
    "진짜 예외가 발생해도 이 코드는 실패하지 않을 것이며 그것을 원하는 것일 수도 있다. 로직에 수정해야 할 에러가 있는지 알아야만 한다. 이러한 코드는 문제를 숨기고 유지보수를 더 어렵게 만든다.\n",
    "\n",
    "* 보다 구체적인 예외를 사용해야 한다. 실제로 코드가 너무 광범위한 예외를 사용하는 경우 린팅 도구나 IDE에서 경고를 표시한다.\n",
    "\n",
    "* except 블록에서 실제 오류 처리를 한다.\n",
    "\n",
    "가장 좋은 방법은 두 항목을 동시에 적용하는 것이다.\n",
    "\n",
    "보다 구체적인 예외를 사용하면 사용자는 무엇을 기대하는지 알게 되기 때문에 프로그램을 더욱 유지보수하기 쉽다. 또한 다른 종류의 예외가 발생하면 바로 버그로 판단할 수 있으므로 쉽게 대응할 수 있다.\n",
    "\n",
    "예외를 자체적으로 처리하는 것은 여러 가지를 의미할 수 있다. 가장 간단한 예로 단지 예외 상황을 로길할 수 있다. 다른 방법으로는 기본 값을 반환하는 것이다. 여기서 말하는 기본 값을 오류를 발견하기 전이 아니라 오직 오류를 발견한 뒤에만 사용하는 값이다. \n",
    "\n",
    "#### 원본 예외 포함\n",
    "오류 처리 과정에서 다른 오류를 발생시키고 메세지를 변경할 수도 있다. 이 경우 원래 예외를 포함하는 것이 좋다. \n",
    "\n",
    "파이썬3에서는 raise <e> from <original_exception> 구문을 사용하면 된다. 이 구문을 사용하면 원본의 traceback이 새로운 exception에 포함되고 원본 예외는 \\__cause__ 속성으로 설정된다.\n",
    "    \n",
    "예를 들어 기본 예외를 사용자 정의 예외로 래핑하고 싶다면 루트 예외에 대한 정보를 다음과 같이 포함할 수 있다."
   ]
  },
  {
   "cell_type": "code",
   "execution_count": 2,
   "metadata": {},
   "outputs": [],
   "source": [
    "class InternalDataError(Exception):\n",
    "    \"\"\" 업무 도메인 데이터의 예외 \"\"\"\n",
    "\n",
    "def process(data_dictionary, record_id):\n",
    "    try:\n",
    "        return data_dictionary[record_id]\n",
    "    except KeyError as e:\n",
    "        raise InternalDataError(\"Record not present\") from e"
   ]
  },
  {
   "cell_type": "markdown",
   "metadata": {},
   "source": [
    "### 파이썬에서 어설션 사용하기\n",
    "\n",
    "어설션은 절대로 일어나지 않아야 하는 상황에서 사용되므로 assert 문에 사용된 표현식은 불가능한 조건을 의미한다. 이 상태가 된다는 건 소프트웨어에 결함이 있음을 의미한다. \n",
    "\n",
    "에러 핸들링과 다르게 여기서는 프로그램을 계속할 가능성이 있다. 이런 오류가 발생하면 프로그램을 중지해야 한다. 이전에 언급한 것처럼 결함이 있는 것이므로 프로그램을 중지하는 것이 좋다. \n",
    "\n",
    "어설션은 잘못된 시나리오에 도달한 경우 프로그램이 더 큰 피해를 입지 않도록 하는 것이다. 떄로는 잘못된 가정 하에 처리를 계속하기보다는 프로그램을 중단시키는 것이 더 좋다."
   ]
  },
  {
   "cell_type": "code",
   "execution_count": 4,
   "metadata": {},
   "outputs": [],
   "source": [
    "try:\n",
    "    assert condition.holds(), \"조건에 맞지 않음. \"\n",
    "except AssertionError:\n",
    "    alternative_procedure()"
   ]
  },
  {
   "cell_type": "markdown",
   "metadata": {},
   "source": [
    "어설션에 실패하면 반드시 프로그램을 종료시켜야 한다.어설현 문장에 설명이 포함된 오류 메세지를 작성하여 나중에 디버깅하고 수정할 수 있도록 한다. \n",
    "\n",
    "앞의 예제 코드가 나쁜 또 다른 중요한 이유는 AssertionError를 처리하는 것 외에도 어설현 문장이 함수라는 것이다. 함수 호출은 부작용을 가질 수 있으며 항상 반복 가능하지는 않다. 또한 디버거를 사용해 해당 라인에서 중지하여 오류 결과를 편리하게 볼 수 없으며, 다시 함수를 호출한다 하더라도 잘못된 값이었는지 알 수 없다.\n",
    "\n",
    "보다 나은 방법은 코드를 줄이고 유용한 정보를 추가하는 것이다."
   ]
  },
  {
   "cell_type": "code",
   "execution_count": 8,
   "metadata": {},
   "outputs": [],
   "source": [
    "result = condition.holds()\n",
    "assert result > 0, \"에러 {0}\".format(result)"
   ]
  },
  {
   "cell_type": "markdown",
   "metadata": {},
   "source": [
    "### 관심사의 분리\n",
    "\n",
    "이것은 여러 수준에서 적용되는 설계 원칙이다. 저수준의 디자인에 관한 것이 아니라 더 높은 수준의 추상화와도 관련이 있으므로 나중에 아키텍ㅊ에 관해서 이야기 할 때 다시 살펴볼 것이다.\n",
    "\n",
    "책임이 다르면 컴포넌트, 계층 또는 도뮬로 분리되어야 한다. 프로그램의 각 부분은 기능의 일부분에 대해서만 책임을 지며 나머지 부분에 대해서는 알 필요가 없다.\n",
    "\n",
    "소프트웨어에서 관심사를 분리하는 목표는 파급 효과를 최소화하여 유지보수성을 향상시키는 것이다. 파급(ripple) 효과는 어느 지점에서의 변화가 전체로 전파되는 것을 의미한다. 이러한 오류나 예외는 다른 예외를 유발하건 혹은 먼저 지점의 결함을 초래한다. 함수 정의를 약간만 변경해도 고드의 여러 부분에 영향을 미쳐 많은 코드를 변경해야 할 수도 있다. \n",
    "\n",
    "분명히 이런 시나리오를 원한 것은 아니었을 것이다. 소프트웨어는 쉽게 변경될 수 있어야 한다. 애플리케이션의 나머지 부분에 대한 영향성을 최소화하면서 코드를 수정하거나 리팩토링을 하고 싶다면 적절한 캡슐화가 필요하다. \n",
    "\n",
    "비슷한 개념으로 잘못된 경우 오류를 발생시켜 큰 피해를 입히지 않도록 해야 한다.\n",
    "\n",
    "이 개념은 각 관심사가 계약에 의해 시행될 수 있다는 점에서 DbC 원칙과 관련된다. 계약에 위배되는 행동으로 예외가 발생하면 프로그램의 어떤 부분이 실패했는지 그리고 어떤 책임을 이행하지 못했는지 알 수 있다.\n",
    "\n",
    "이렇게 유사한 부분이 있지만 괌심사의 분리는 좀 더 큰 내요이다. 일반적으로 함수, 메서드 또는 클래스 간에는 계약을 생각한다. 여기서도 관심사의 분리를 생각할 수 있다. 그러나 관심사의 분리는 기본적으로 파이썬 모듈, 패키지 그리고 모든 소프트웨어 컴포넌트에 대해서 적용된다.\n",
    "\n",
    "### 응집력(cohesion)과 결합력(coupling)\n",
    "\n",
    "이것은 훌륭한 소프트웨어 설계를 위한 중요한 개념이다.\n",
    "\n",
    "응집력이란 객체가 작고 잘 정의된 목적을 가져야 하며 가능하면 작아야 한다는 것을 의미한다. 이것은 유닉스 명령어가 한 가지 일만 잘 수행하려는 것과 비슷한 철학을 따른다. 객체의 응집력이 높을수록 더 유용하고 재사용성이 높아지므로 더 좋은 디자인이다.\n",
    "\n",
    "결합력이란 두 개 이상의 객체가 서로 어떻게 의존하는지를 나타낸다. 이 종석성은 제한을 의미한다. 객체 또는 메서드의 두 부분이 서로 너무 의존적이라면 다음과 같은 바람직하지 않은 결과를 가져온다. \n",
    "\n",
    "낮은 재사용성, 파급 효과, 낮은 수준의 추상화 \n",
    "\n",
    "### 개발 지침 약어\n",
    "\n",
    "좋은 디자인 아이디어를 주는 몇 가지 원릭을 검토해보자 한다. 요점은 좋은 소프트웨어 관햄을 약어를 통해 쉽게 기억하자는 것이다. 이 단어들을 염두에 두고 있으면 좋은 모범사례와 쉽게 연관시킬 수 있으며, 특정 코드에 적합한 좋은 아이디어를 빠르게 떠올릴 수 있을 것이다. \n",
    "\n",
    "### DRY/OAOO\n",
    "\n",
    "DRY(Do not Repeat Yourself)와 OAOO(Once and Only Once)는 밀접한 관련이 있으므로 함께 다룬다. 자명한 원리로서 중복을 반드시 피해야 한다. \n",
    "코드에 있는 지식은 단 한번, 단 한 곳에 정의되어야 한다 코드를 변경하려고 할 때 수정이 필요한 곳은 단 한군데만 있어야 한다. 그렇지 않다는 것은 잘못된 시스템의 징조이다. \n",
    "\n",
    "코드 중복은 유지보수에 직접적인 영향을 미치는 문제이다. 부정적인 영향이 많기 때문에 코드 중목은 매우 바람직하지 않다.\n",
    "\n",
    "* 오류가 발생하기 쉽다.\n",
    "* 비용이 비싸다.\n",
    "* 신뢰성이 떨어진다."
   ]
  },
  {
   "cell_type": "markdown",
   "metadata": {},
   "source": [
    "### YAGNI(You Ain't Gonna Need it)\n",
    "\n",
    "YAGNI는 과잉 엔지니어링을 하지 않기 위해 솔루션 작성 시 계속 염두에 두어야 하는 원칙이다. \n",
    "\n",
    "프로그램을 쉽게 수정하기를 원하기 때문에 미래 보장성이 높기를 바란다. 많은 개발자는 미래의 모든 요구사항을 고려하여 매우 복잡한 솔루션을 만들고, 추상화를 하여 읽기 어렵고, 유지보수가 어렵고, 이해하기 어려운 코드를 만든다. 그러나 나중에 예상되는 요구 사항이 나타나지 않거나 동작하기는 하지만 다른 방식으로 동작하며, 정교하게 처리할 것이라 믿었던 원래의 코드가 제대로 동작하지 않는다고 해보자. 이제부터 문제는 프로그램을 리팩토링하고 확장하는 것이 더 어렵다는 것이다. 이것은 순전히 추상화를 잘못 했기 때문이다.\n",
    "\n",
    "유지보수가 가능한 소프트웨어를 만드는 것은 미래의 요구 사항을 예측하는 것이 아니다. 오직 현재의 요구사항을 잘 해결하기 위한 소프트웨어를 작성하고 가능한 나중에 수정하기 쉽도록 작성하는 것이다. "
   ]
  },
  {
   "cell_type": "markdown",
   "metadata": {},
   "source": [
    "### KIS(Keep It Simple)\n",
    "\n",
    "KIS는 선택한 솔루션이 문제에 적한한 최소한의 솔루션인지 자문해보는 것이다. 문제를 올바르게 해결하는 최소한의 기능을 구현하고 필요한 것 이상으로 솔루션을 복잡하게 만들지 않도록 해야 한다. 기억해야 할 점은 디자인이 단순할수록 유지 관리가 쉽다는 것이다."
   ]
  },
  {
   "cell_type": "code",
   "execution_count": 10,
   "metadata": {},
   "outputs": [],
   "source": [
    "class ComplicatedNamespcae:\n",
    "    \"\"\"프로퍼티를 가진 객체를 초기화하는 복잡한 예제\"\"\"\n",
    "    ACCEPTED_VALUES = (\"id_\", \"user\", \"location\")\n",
    "    \n",
    "    @classmethod\n",
    "    def init_with_data(cls, **data):\n",
    "        instance = cls()\n",
    "        for key, value in data.items():\n",
    "            if key in cls.ACCEPTED_VALUES:\n",
    "                setattr(instance, key, value)\n",
    "        return instance"
   ]
  },
  {
   "cell_type": "code",
   "execution_count": 11,
   "metadata": {},
   "outputs": [],
   "source": [
    "cn = ComplicatedNamespcae.init_with_data(id_=42, user=\"root\", location=\"127.0.0.1\", extra=\"excluded\")"
   ]
  },
  {
   "cell_type": "code",
   "execution_count": 12,
   "metadata": {},
   "outputs": [
    {
     "data": {
      "text/plain": [
       "42"
      ]
     },
     "execution_count": 12,
     "metadata": {},
     "output_type": "execute_result"
    }
   ],
   "source": [
    "cn.id_"
   ]
  },
  {
   "cell_type": "code",
   "execution_count": 13,
   "metadata": {},
   "outputs": [
    {
     "data": {
      "text/plain": [
       "'root'"
      ]
     },
     "execution_count": 13,
     "metadata": {},
     "output_type": "execute_result"
    }
   ],
   "source": [
    "cn.user"
   ]
  },
  {
   "cell_type": "code",
   "execution_count": 14,
   "metadata": {},
   "outputs": [
    {
     "data": {
      "text/plain": [
       "'127.0.0.1'"
      ]
     },
     "execution_count": 14,
     "metadata": {},
     "output_type": "execute_result"
    }
   ],
   "source": [
    "cn.location"
   ]
  },
  {
   "cell_type": "code",
   "execution_count": 15,
   "metadata": {},
   "outputs": [
    {
     "ename": "AttributeError",
     "evalue": "'ComplicatedNamespcae' object has no attribute 'extra'",
     "output_type": "error",
     "traceback": [
      "\u001b[1;31m---------------------------------------------------------------------------\u001b[0m",
      "\u001b[1;31mAttributeError\u001b[0m                            Traceback (most recent call last)",
      "\u001b[1;32m<ipython-input-15-80058005faa9>\u001b[0m in \u001b[0;36m<module>\u001b[1;34m\u001b[0m\n\u001b[1;32m----> 1\u001b[1;33m \u001b[0mcn\u001b[0m\u001b[1;33m.\u001b[0m\u001b[0mextra\u001b[0m\u001b[1;33m\u001b[0m\u001b[1;33m\u001b[0m\u001b[0m\n\u001b[0m",
      "\u001b[1;31mAttributeError\u001b[0m: 'ComplicatedNamespcae' object has no attribute 'extra'"
     ]
    }
   ],
   "source": [
    "cn.extra"
   ]
  },
  {
   "cell_type": "code",
   "execution_count": 16,
   "metadata": {},
   "outputs": [
    {
     "data": {
      "text/plain": [
       "False"
      ]
     },
     "execution_count": 16,
     "metadata": {},
     "output_type": "execute_result"
    }
   ],
   "source": [
    "hasattr(cn, \"extra\")"
   ]
  },
  {
   "cell_type": "markdown",
   "metadata": {},
   "source": [
    "사용자는 초기화를 위해 init_with_data라는 일반적이지 않은 메서드의 이름을 알아야 하는데 이것 또한 불편한 부분이다. 파이썬에서 다른 객체를 초기화 할 때는 \\__init__ 메서드를 사용하는 것이 훨씬 간편할 것이다."
   ]
  },
  {
   "cell_type": "code",
   "execution_count": 17,
   "metadata": {},
   "outputs": [],
   "source": [
    "class Namespace:\n",
    "    \"\"\"Create an object keyword arguments.\"\"\"\n",
    "    ACCEPTED_VALUES = (\"id_\", \"user\", \"location\")\n",
    "    \n",
    "    def __init__(self, **data):\n",
    "        accepted_data = { k:v for k, v in data.items() if k in self.ACCEPTED_VALUES}\n",
    "        self.__dict__.update(accepted_data)"
   ]
  },
  {
   "cell_type": "markdown",
   "metadata": {},
   "source": [
    "단순한 것이 복잡한 것보다 낫다."
   ]
  },
  {
   "cell_type": "markdown",
   "metadata": {},
   "source": [
    "### EAFP(Easier to ASk Forgiveness than Permission) / LBYL(Look Before You Leap)\n",
    "\n",
    "EAFP는 일단 코드를 실행하고 실제 동작하지 않을 경우에 대응한다는 뜻이다.\n",
    "LBYL는 그 반대이다. 도약하기 전에 먼저 무엇을 사용하려고 하는지 확인하라는 뜻이다. "
   ]
  },
  {
   "cell_type": "code",
   "execution_count": 21,
   "metadata": {},
   "outputs": [],
   "source": [
    "import os\n",
    "filename = 'file.txt'\n",
    "if os.path.exists(filename):\n",
    "    with open(filename) as f:\n",
    "        print(f)"
   ]
  },
  {
   "cell_type": "markdown",
   "metadata": {},
   "source": [
    "이것은 다른 프로그래밍 언어에서는 유용할 수 있지만 파이썬스러운 방식은 아니다. 파이썬은 EAFP 방식으로 만들어졌으며, 그렇게 할 것을 권한다. 위 코드는 다음과 같이 다시 작성할 수 있다."
   ]
  },
  {
   "cell_type": "code",
   "execution_count": 33,
   "metadata": {},
   "outputs": [
    {
     "name": "stderr",
     "output_type": "stream",
     "text": [
      "[Errno 2] No such file or directory: 'file.txt'\n"
     ]
    }
   ],
   "source": [
    "import logging\n",
    "logger = logging.getLogger('tcpserver')\n",
    "\n",
    "try:\n",
    "    with open(filename) as f:\n",
    "        print(f)\n",
    "except FileNotFoundError as e:\n",
    "    logger.error(e)"
   ]
  },
  {
   "cell_type": "markdown",
   "metadata": {},
   "source": [
    "### 컴포지션과 상속\n",
    "\n",
    "객체 지향 소프트웨어를 디자인할 때 다형성, 상속, 캡슐화 같은 주요 개념을 어떻게 사용하여 문제를 해결할 것인지에 대한 논재이 있어왔다.\n",
    "\n",
    "아마도 가장 일반적으로 상요되는 개념은 상속일 것이다. 개발자는 종종 필요한 클래스들의 계층 구조를 만들고 각 클래스가 구현해야하는 메서드를 결정하는 것으로부터 개발을 싲가한다.\n",
    "\n",
    "상속은 강력한 개념이지만 위험도 있다. 가장 주된 위험은 부모 클래스를 확장하여 새로운 클래스를 만들 때마다 부모와 강력하게 결합된 새로운 클래스가 생긴다는 점이다. 이미 설명했들이 소프트웨어를 설계할 때 겷바력을 최소한으로 줄이는 것이 중요하다.\n",
    "\n",
    "상속과 관련해 개발자들이 가장 많이 사용하는 기능은 코드 재사용이다. 비록 코드 재사용을 염두에 둬야 하지만 단지 부모 클래스에 있는 메서드를 공짜로 얻을 수 있기 때문에 상속을 하는 것은 좋지 않은 생각이다. 코드를 재사용하는 올바른 방법은 여러 상황에서 동작 가능하고 쉽게 조합할 수 있는 응집력이 높은 객체를 사용하는 것이다.\n",
    "\n",
    "### 상속이 좋은 선택인 경우\n",
    "\n",
    "파생 클래스를 만드는 것은 양날의 검이 도리 수 있으므로 주의해야 한다 한편으로는 부모 클래스의 메서드를 공짜로 전수 받을 수 있는 장점이 있지만 그러나 다른 한편으로는 모든 것을 새로운 클래스로 가져왔기 때문에 새로운 정의에 너무 많은 기능을 추가하게 되는 단점도 있다.\n",
    "\n",
    "경험상 새로운 하위 클래스를 만들 때 클래스가 올바르게 정의되어있는지 확인하기 위해 상속된 모든 메서드를 실제로 사용할 것인지 생각해보는 것이 좋다. 만약 대부분의 메서드를 필요로 하지 않고 재정의하거나 대체해야 한다면 다음과 같은 이유로 설계상의 실수라고 할 수 있다. \n",
    "\n",
    "* 상위 클래스는 잘 정의된 인터페이스 대신 막연한 정의와 너무 많은 책임을 가졌다.\n",
    "* 하위 클래스는 확장하려고 하는 상위 클래스의 적절한 세분화가 아니다.\n",
    "\n",
    "상속을 잘 사용한 좋은 예는 다음과 같다. public 메서드와 속성 인터페이스를 정의한 컴포넌트가 있다. 그리고 이 클래스의 기능을 그대로 물려받으면서 추가 기능을 더하려는 경우 또는 특정 기능을 수정하려는 경우이다.\n",
    "\n",
    "파이썬 표준 라이브러리에서 상속의 좋은 예를 찾을 수 있다. 예를 들어 http.server 패키지에서 BaseHTTPRequestHandler 기본 클래스와 이 기본 인터페이스의 일부를 추가하거나 변경하여 확장하는 SimpleHTTPRequestHandler 하위 클래스가 있다. \n",
    "\n",
    "인터페이스 정의는 상속의 또 다른 좋은 예이다. 어떤 객체에 인터페이스 방식을 강제하고자 할 때 구현을 하지 않은 기본 추상 클래스를 만들고, 실제 이 클래스를 상속하는 하위 클래스에서 적절한 구현 하도록 하는 것이다.\n",
    "\n",
    "마지막으로 상속의 또 다른 상요 예는 예외이다. 파이썬의 표준 예외는 Exception에서 파생된다는 것을 알 수 있다. 이것은 except Exception: 같은 일반 구문을 통해 모든 에러를 catch할 수 있게 해준다. 중요한 것은 모든 예외가 Exception을 상속받을 클래스라는 것이다. 이것은 requests 같이 잘 알려진 라이브러리에서도 잘 동작한다. 예를 들어 HTTPError는 RequestException를 상속받고, RequestException은 IOError를 상속받는다.\n",
    "\n",
    "### 상속 안티패턴\n",
    "\n",
    "이전 세션을 한 단어로 요약한다면 전문화가 될 것이다. 상속을 올바르게 사용하면 객체를 전문화하고 기본 객체에서 출발하여 세부적인 추상화를 할 수 있다.\n",
    "\n",
    "부모 클래스는 새 파생 클래스의 공통 정의의 일부가 된다. 상속된 메서드가 새로운 클래스의 일부가 되기 떄문이다. 이런 이유로 클래스의 public 메서드는 부모 클래스가 정의하는 것과 일치해야 한다.\n",
    "\n",
    "예를 들어 BaseHTTPRequestHandler에서 파생된 클래스가 handle()이라는 메서드를 구현했다면 부모 클래스의 일부를 오버라이딩한 것이다. HTTP 요청과 관련되어 보이는 이름의 메서드가 있다면 올바르게 위치했다고 볼 수 있다. 그러나 process_purchase()와 같은 메서드의 경우에는 상속된 메서드라고 생각하지 않을 것이다. \n",
    "\n",
    "앞의 설명은 당연해 보일 수 있지만 특히 개발자가 코드 재사용만을 목적으로 상속을 사용하려고 할 때 매우 자주 발생한다. 다음 예제는 파이썬의 전형적인 안티 패턴을 보여준다. 도메인 문제를 해결하기 위해 적절한 데이터 구조를 만든 다음에 이 데이터 구조를 사용하는 객체를 만드지 않고 데이터 구조 자체를 객체로 만드는 경우이다. \n",
    "\n",
    "예제를 통해 이 문제를 보다 구체적으로 살펴보자. 여러 고객에게 정책을 적용하는 기능을 가진 보험 관리 시스템을 생각해보자. 동시에 변경사항을 적용하거나 저장하기 위해 고객 정보를 메모리에 보관해야 한다. 필요로 하는 기본 기능은 새 고객 정보를 기록하고 정책을 변경하거나 일부 데이터를 편집하는 것이다. 또한 배치 작업을 지원해야 한다. 즉 정책 자체가 변경되면 현재 트랜잭션의 고객 모두에게 정책을 적용해야 한다.\n",
    "\n",
    "필요한 데이터 구조를 생각해 보면 특정 고객의 레코드에 상수 시간에 접근할 수 있어야 한다. 따라서 policy_transaction[customer_id]처럼 구현하는 것이 멋진 인터페이스처럼 보인다. 이것으로부터 첨자형(subscriptable) 객체, 더 나아가 사전 타입을 생각할 수 있다."
   ]
  },
  {
   "cell_type": "code",
   "execution_count": 2,
   "metadata": {},
   "outputs": [],
   "source": [
    "import collections\n",
    "\n",
    "class TransactionPolicy(collections.UserDict):\n",
    "    \"\"\"잘못된 상속의 예\"\"\"\n",
    "    def change_in_policy(self, customer_id, **new_policy_data):\n",
    "        self[customer_id].update(**new_policy_data)"
   ]
  },
  {
   "cell_type": "markdown",
   "metadata": {},
   "source": [
    "이 코드를 사용해 코객 id로 정책을 확인할 수 있다."
   ]
  },
  {
   "cell_type": "code",
   "execution_count": 5,
   "metadata": {},
   "outputs": [],
   "source": [
    "from datetime import datetime\n",
    "\n",
    "policy = TransactionPolicy({\"client001\":{\"fee\":1000.0, \"expiration_date\":datetime(2020, 8, 20)}})"
   ]
  },
  {
   "cell_type": "code",
   "execution_count": 6,
   "metadata": {},
   "outputs": [
    {
     "data": {
      "text/plain": [
       "{'fee': 1000.0, 'expiration_date': datetime.datetime(2020, 8, 20, 0, 0)}"
      ]
     },
     "execution_count": 6,
     "metadata": {},
     "output_type": "execute_result"
    }
   ],
   "source": [
    "policy[\"client001\"]"
   ]
  },
  {
   "cell_type": "code",
   "execution_count": 7,
   "metadata": {},
   "outputs": [],
   "source": [
    "policy.change_in_policy(\"client001\", expiration_date = datetime(2020, 8, 21))"
   ]
  },
  {
   "cell_type": "code",
   "execution_count": 8,
   "metadata": {},
   "outputs": [
    {
     "data": {
      "text/plain": [
       "{'fee': 1000.0, 'expiration_date': datetime.datetime(2020, 8, 21, 0, 0)}"
      ]
     },
     "execution_count": 8,
     "metadata": {},
     "output_type": "execute_result"
    }
   ],
   "source": [
    "policy[\"client001\"]"
   ]
  },
  {
   "cell_type": "markdown",
   "metadata": {},
   "source": [
    "물론 처음에 원하는 기능을 수행하는 인터페이스를 갖게 되었지만 비용 측면에서는 어떨까? 이제 이 클래스에는 불필요한 수많은 메서드가 포함되어 있다."
   ]
  },
  {
   "cell_type": "code",
   "execution_count": 9,
   "metadata": {},
   "outputs": [
    {
     "data": {
      "text/plain": [
       "['_MutableMapping__marker',\n",
       " '__abstractmethods__',\n",
       " '__class__',\n",
       " '__contains__',\n",
       " '__delattr__',\n",
       " '__delitem__',\n",
       " '__dict__',\n",
       " '__dir__',\n",
       " '__doc__',\n",
       " '__eq__',\n",
       " '__format__',\n",
       " '__ge__',\n",
       " '__getattribute__',\n",
       " '__getitem__',\n",
       " '__gt__',\n",
       " '__hash__',\n",
       " '__init__',\n",
       " '__init_subclass__',\n",
       " '__iter__',\n",
       " '__le__',\n",
       " '__len__',\n",
       " '__lt__',\n",
       " '__module__',\n",
       " '__ne__',\n",
       " '__new__',\n",
       " '__reduce__',\n",
       " '__reduce_ex__',\n",
       " '__repr__',\n",
       " '__reversed__',\n",
       " '__setattr__',\n",
       " '__setitem__',\n",
       " '__sizeof__',\n",
       " '__slots__',\n",
       " '__str__',\n",
       " '__subclasshook__',\n",
       " '__weakref__',\n",
       " '_abc_impl',\n",
       " 'change_in_policy',\n",
       " 'clear',\n",
       " 'copy',\n",
       " 'data',\n",
       " 'fromkeys',\n",
       " 'get',\n",
       " 'items',\n",
       " 'keys',\n",
       " 'pop',\n",
       " 'popitem',\n",
       " 'setdefault',\n",
       " 'update',\n",
       " 'values']"
      ]
     },
     "execution_count": 9,
     "metadata": {},
     "output_type": "execute_result"
    }
   ],
   "source": [
    "dir(policy)"
   ]
  },
  {
   "cell_type": "markdown",
   "metadata": {},
   "source": [
    "이 디자인에는 적어도 두 가지의 주요 문제점이 있다. 하나는 계층 구조가 잘못된 것이다. 기본 클래스에서 새 클래스를 만드는 것은 말 그대로 그것이 개념적으로 확장되고 세부적인 것이라는 것을 의미한다. TransactionPolicy라는 이름만 보고 어떻게 사전 탕비이라는 것을 알 수 있을까? 바로 이해할 수 없을 것이다. 사용자가 객체의 public 인터페이스를 통해 노출된 public메서드를 확인하게 되면 특이하게 전문화된 이상한 계층구조라고 느끼게 될 것이다.\n",
    "\n",
    "다른 하나는 결합력에 대한 문제이다. TransactionPolicy는 이제 사전의 모든 메서드를 포함한다. TransactionPolicy에 pop() 또는 items()와 같은 메서드가 실제로 필요할까? 필요하지 않지만 그런 메서드가 포함되어 있다. 이것들은 public 메서드이므로 이 인터페이스의 사용자는 부작요잉 있을지도 모르는 이 메서드들을 호출할 수 있다. 게다가 사실 사전 타입을 확장함으로써 얻은 이득도 별로 없다. 현재 정책에 영향을 받는 모든 고객을 업데이터 하는 메서드가 유일한 추가 메서드로서 부모 클래스와는 상관이 없다.\n",
    "\n",
    "이것이 구현 객체를 도메인 객체와 혼합할 때 발생하는 문제이다. 사전은 특정 유형의 작업에 적합한 객체 또는 데이터 구조로서 다른 데이터 구조와 마찬가지로 트레이드오프가 있다. TransactionPolicy는 특정 도메인의 정보를 나타내는 것이므로 해결하려는 문제의 일부분에 사용되는 엔티티여야만 한다.\n",
    "\n",
    "이 같은 계층 구조를 올바르지 않다. 그리고 단지 첨자 기능을 얻기 위해 사전을 확장하는 것은 충분한 확장의 근거가 되지 않는다. 온전히 기본 클래스에 추가되는 그리고 보다 특화된 것을 구현할 때에만 확장을 해야 한다. 즉, 좀 더 구체적이거나 약간 수정된 사전이 필요할 때에만 사전을 확장해야 한다. 동일한 규칙이 도메인 내에서의 클래스에도 적용된다.\n",
    "\n",
    "올바른 해결책은 컴포지셔능ㄹ 사용하는 것이다. TransactionPolicy 자체가 사전이 되는것이 아니라 사전을 활용하는 것이다. 사전을 private 속성에 저장하고 \\__getitem__()으로 사전의 프록시를 만들고 나머지 필요한 public 메서드를 추가적으로 구현하는 것이다."
   ]
  },
  {
   "cell_type": "code",
   "execution_count": 50,
   "metadata": {},
   "outputs": [],
   "source": [
    "class TransactionPolicy:\n",
    "    \"\"\"컴포지션을 사용한 리팩토링 예제\"\"\"\n",
    "    def __init__(self, policy_data, **extra_data):\n",
    "        self._data = {**policy_data, **extra_data}\n",
    "    \n",
    "    def change_in_policy(self, customer_id, **new_policy_data):\n",
    "        self._data[customer_id].update(**new_policy_data)\n",
    "    \n",
    "    def __getitem__(self, customer_id):\n",
    "        return self._data[customer_id]\n",
    "    \n",
    "    def __len__(self):\n",
    "        return len(self._data)"
   ]
  },
  {
   "cell_type": "markdown",
   "metadata": {},
   "source": [
    "이 방법은 개념적으로 정확할 뿐만 아니라 확장성도 뛰어나다. 현재 사전인 데이터 구조를 향 후 변경하려고 해도 인터페이스만 유지하면 사용자는 영향을 받지 않는다. 이는 결합력을 줄이고 파급 효과를 최소화하며 보단 나은 리팩토링 (단위 테스트를 변경하지 않아도 됨)을 허용하고 코드를 유지 관리하기 쉽게 만든다.\n",
    "\n",
    "### 파이썬의 다중상속\n",
    "\n",
    "파이썬은 다중 상속을 지원한다. 부족저라게 사용된 상속은 디자인 문제를 유발하며 특히 다중 상속을 잘못 사용하면 더 큰 문제를 초래할 수도 있다.\n",
    "\n",
    "다중 상속은 양날의 검이다. 어떤 경우에는 매우 유익할 수도 있다. 명확하게 말하면 다중 상속에 문제가 있는 것은 아니다. 유일한 문제는 올바르게 구현되지 않으면 문제가 커진다는 것이다.\n",
    "\n",
    "다중 상속은 올바르게 사용도리 때에만 온전히 유효한 해결책이 될 수 이씅므로 새로운 패턴과 믹스인을 사용하게 되었다. \n",
    "\n",
    "다중 상속을 사용한 가장 강력한 애플리케이션의 하나는 믹스인을 활용한 애플리케이션이다. 믹스인을 살펴보기 전에 다중 상속이 어떻게 동작하는지, 복잡한 계층구조에서 메서드는 어떻게 결정되는지 이해할 필요가 있다.\n",
    "\n",
    "### 메서드 결정 순서(MRO)\n",
    "\n",
    "일부 사람들은 다른 프로그래밍 언어에 존재하는 소위 다이어몬드 문제와 같은 제약조건이 생기기 때문에 다중 상속을 싫어한다. 두 개 이상의 클래스를 확장하고, 해당 클래스들이 모두 하나의 같으 기본 클래스를 확장 한 경우 맨 아래 클래스가 최상위 클래스에서 오는 메서드를 해결하는 방법은 여러 가지가 있다. 문제는 이러한 구현 중 어느 것이 사용되는가이다. "
   ]
  },
  {
   "cell_type": "code",
   "execution_count": 53,
   "metadata": {},
   "outputs": [
    {
     "data": {
      "text/plain": [
       "'module-1:test'"
      ]
     },
     "execution_count": 53,
     "metadata": {},
     "output_type": "execute_result"
    }
   ],
   "source": [
    "class BaseModule:\n",
    "    module_name = \"top\"\n",
    "    \n",
    "    def __init__(self, module_name):\n",
    "        self.name = module_name\n",
    "    \n",
    "    def __str__(self):\n",
    "        return f\"{self.module_name}:{self.name}\"\n",
    "\n",
    "class BaseModule1(BaseModule):\n",
    "    module_name = \"module-1\"\n",
    "\n",
    "class BaseModule2(BaseModule):\n",
    "    module_name = \"module-2\"\n",
    "\n",
    "class BaseModule3(BaseModule):\n",
    "    module_name = \"module-3\"\n",
    "\n",
    "class ConcreteModuleA12(BaseModule1, BaseModule2):\n",
    "    \"\"\"1과 2 확장\"\"\"\n",
    "\n",
    "class ConcreteModuleA23(BaseModule2, BaseModule3):\n",
    "    \"\"\"2과 3 확장\"\"\"\n",
    "\n",
    "str(ConcreteModuleA12(\"test\"))"
   ]
  },
  {
   "cell_type": "markdown",
   "metadata": {},
   "source": [
    "충돌이 발생하진 않았다. 파이썬은 C3 linearization 또는 MRO라는 알고리즘을 사용하여 이 문제를 해결한다. 이 알고리즘은 메서드가 호출되는 방식을 정의한다. \n",
    "\n",
    "사실 구체적으로 클래스에게 결정 순서를 직접 물어볼 수도 있다."
   ]
  },
  {
   "cell_type": "code",
   "execution_count": 54,
   "metadata": {},
   "outputs": [
    {
     "data": {
      "text/plain": [
       "['ConcreteModuleA12', 'BaseModule1', 'BaseModule2', 'BaseModule', 'object']"
      ]
     },
     "execution_count": 54,
     "metadata": {},
     "output_type": "execute_result"
    }
   ],
   "source": [
    "[cls.__name__ for cls in ConcreteModuleA12.mro()]"
   ]
  },
  {
   "cell_type": "markdown",
   "metadata": {},
   "source": [
    "메서드가 계층 구조에서 어떻게 해결되는지 알고 있다면 믹스인을 이해하는데 도움이 된다.\n",
    "\n",
    "### 믹스인(mixin)\n",
    "\n",
    "믹스인은 코드를 재사용하기 위해 일반적인 행동을 캡슐화해놓은 기본 클래스이다. 일반적으로 믹스인 클래스는 그 자체로는 유용하지 않으며 대부분이 클래스에 정의된 메서드나 속성에 의존하기 때문에 이 클래스만 확장해서는 확실히 동작하지 않는다. 보통은 다른 클래스와 함께 믹스인 클래스를 다중 상속하여 믹스인에 있는 메서드나 속성을 사용한다.\n",
    "\n",
    "문자열을 받아서 하이픈(-)으로 구분된 값을 반환하는 파서를 생각해보자."
   ]
  },
  {
   "cell_type": "code",
   "execution_count": 55,
   "metadata": {},
   "outputs": [],
   "source": [
    "class BaseTokenizer:\n",
    "    def __init__(self, str_token):\n",
    "        self.str_token = str_token\n",
    "    \n",
    "    def __iter__(self):\n",
    "        yield from self.str_token.split(\"-\")"
   ]
  },
  {
   "cell_type": "markdown",
   "metadata": {},
   "source": [
    "이것은 매우 직관적이다."
   ]
  },
  {
   "cell_type": "code",
   "execution_count": 56,
   "metadata": {},
   "outputs": [],
   "source": [
    "tk = BaseTokenizer(\" 123-123-123-123-123-123-123\")"
   ]
  },
  {
   "cell_type": "code",
   "execution_count": 57,
   "metadata": {},
   "outputs": [
    {
     "data": {
      "text/plain": [
       "[' 123', '123', '123', '123', '123', '123', '123']"
      ]
     },
     "execution_count": 57,
     "metadata": {},
     "output_type": "execute_result"
    }
   ],
   "source": [
    "list(tk)"
   ]
  },
  {
   "cell_type": "markdown",
   "metadata": {},
   "source": [
    "이제 기본 클래스를 변경하지 않고 값을 대문자로 변환해보자. 이것은 간단한 예제이므로 새로운 클래스를 만들 수도 있지만 많은 클래스가 이미 BaseTokenizer를 확장했고 모든 클래스를 바꾸고 싶지는 않다고 해보자. 이러한 반환을 가능하게 하는 계층 구조에 클래스를 혼합해보자."
   ]
  },
  {
   "cell_type": "code",
   "execution_count": 63,
   "metadata": {},
   "outputs": [],
   "source": [
    "class UpperIterableMixin:\n",
    "    def __iter__(self):\n",
    "        return map(str.upper, super().__iter__())"
   ]
  },
  {
   "cell_type": "code",
   "execution_count": 64,
   "metadata": {},
   "outputs": [],
   "source": [
    "class Tokenizer(UpperIterableMixin, BaseTokenizer):\n",
    "    pass"
   ]
  },
  {
   "cell_type": "code",
   "execution_count": 65,
   "metadata": {},
   "outputs": [
    {
     "data": {
      "text/plain": [
       "['ASD',\n",
       " 'ASD123',\n",
       " 'AS',\n",
       " '',\n",
       " '12',\n",
       " '',\n",
       " 'F',\n",
       " '',\n",
       " '',\n",
       " '1',\n",
       " '3G',\n",
       " '',\n",
       " 'G',\n",
       " '1',\n",
       " '3413GS',\n",
       " 'D']"
      ]
     },
     "execution_count": 65,
     "metadata": {},
     "output_type": "execute_result"
    }
   ],
   "source": [
    "tk = Tokenizer(\"asd-asd123-as--12--f---1-3g--g-1-3413gs-d\")\n",
    "list(tk)"
   ]
  },
  {
   "cell_type": "markdown",
   "metadata": {},
   "source": [
    "새로운 Tokenizer 클래스는 매우 간단하다. 믹스인 이용하기 때문에 새로운 코드가 필요 없다. 이러한 유형의 혼합은 일종의 데코레이터 역할을 한다. 방금 본 것을 바탕으로 Tokenizer는 믹스인에서 \\__iter__를 호출하고 다시 super() 호출을 통해 다음 클래스 BaseTokenizer에 위임한다. 이떄는 이미 대문자를 전달하기 때문에 원하는 결과를 얻어낼 수 있다. \n",
    "\n",
    "### 함수와 메서드의 인자\n",
    "\n",
    "파이썬은 여러 가지 방법으로 인자를 받도록 함수를 정의할 수 이쓰며, 사용자도 여러 가지 방법으로 인자를 제공할 수 있다. 또한 소프트웨어 엔지니어링에서 함수의 인자를 정의하는 것과 곤련해 업계에서 널리 사용하고 있는 관행이 있다. \n",
    "\n",
    "이번에는 파이썬 함수의 인자 전달 매커니즘을 살펴보고 소프트웨어 엔지니어링에서의 모범 사례에서 발견되는 일반적인 원칙을 살펴본다. 그리고 최적으로 이 둘의 개념을 함께 검토한다.\n",
    "\n",
    "### 파이썬의 함수 인자 동작방식\n",
    "\n",
    "파이썬이 파라미터를 처리하는 과정을 먼저 이해함으로써 일반적인 규칙을 보다 쉽고 완전하게 이해할 수 있으며, 인자를 처리할 때 좋은 패턴이나 관용구가 무엇인지 결론을 쉽게 내릴 수 있다. 그렇게 하면 어떤 시나리오가 파이썬스러운 접근방식을 사용한 올바른 경우인지, 어떤 것이 언어의 기능을 남용한 경우인지 구별할 수 있다.\n",
    "\n",
    "### 인자는 함수에 어떻게 복사되는가"
   ]
  }
 ],
 "metadata": {
  "kernelspec": {
   "display_name": "Python 3",
   "language": "python",
   "name": "python3"
  },
  "language_info": {
   "codemirror_mode": {
    "name": "ipython",
    "version": 3
   },
   "file_extension": ".py",
   "mimetype": "text/x-python",
   "name": "python",
   "nbconvert_exporter": "python",
   "pygments_lexer": "ipython3",
   "version": "3.7.3"
  }
 },
 "nbformat": 4,
 "nbformat_minor": 2
}
