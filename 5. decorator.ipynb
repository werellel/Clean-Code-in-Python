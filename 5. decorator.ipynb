{
 "cells": [
  {
   "cell_type": "markdown",
   "metadata": {},
   "source": [
    "데코레이터가 무엇인지 어떻게 동작하는지 그리고 어떻게 구현되는지 살펴본다. 실제 데코레이터가 디자인을 개선하는데 어떻게 유용하게 사용될 수 있는지도 살펴본다.\n",
    "\n",
    "이렇게 배운 내용을 토대로 이전 장에서 배운 소프트웨어 디자인의 모범 사례들을 다시 살펴보고 데코레이터가 각 원칙을 준수하는데 어떻게 도움이 되는지 살펴본다.\n",
    "\n",
    "* 파이썬에서 데코레이터가 동작하는 방식 이해\n",
    "* 함수와 크랠스에 적용되는 데코레이터를 구현하는 방법\n",
    "* 일반적인 실수를 피하여 데코레이터를 효과적으로 구현하는 방법\n",
    "* 데코레이터를 활용한 코드 중복을 회피(DRY 원칙)\n",
    "* 데코레이터를 활용한 관심사의 분리 \n",
    "* 좋은 데코레이터 사례 \n",
    "* 데코레이터가 좋은 선택이 될 수 있는 일반적인 상황, 관용구, 패턴"
   ]
  },
  {
   "cell_type": "markdown",
   "metadata": {},
   "source": [
    "## 파이썬의 데코레이터\n",
    "\n",
    "파이썬에서 데코레이터는 오래 전에(PRP-318)에서 함수와 메서드의 기능을 쉽게 수정하기 위한 수단으로 소개되었다. \n",
    "\n",
    "classmethod나 staticmethod 같은 함수가 원래 메서드의 정의를 변형하는데 사용되고 있었기 때문에 고안된 수단인데 이런 방법은 추가 코드가 필요하고 함수의 원래 정의를 수정해야만 했다.\n",
    "\n",
    "다시 말해서 함수에 변형을 할 때마다 modifier 함수를 사용하여 함수를 호출한 다음 함수를 처음 정의한 것과 같은 이름으로 재할당해야 했다.\n",
    "\n",
    "예를 들어 original 함수에 그 기능을 약간 수정한 modifier라고 하는 함수가 있는 경우 다음과 같이 작성해야 했다."
   ]
  },
  {
   "cell_type": "code",
   "execution_count": 3,
   "metadata": {},
   "outputs": [],
   "source": [
    "def original():\n",
    "    return None\n",
    "\n",
    "def modifier(ori):\n",
    "    return ori()\n",
    "\n",
    "original = modifier(original)"
   ]
  },
  {
   "cell_type": "markdown",
   "metadata": {},
   "source": [
    "함수를 어떻게 동일한 이름으로 다시 할당하는지 확인해보자. 이것은 혼랍스럽고 오류가 발생하기 쉽고 번거롭다. 이런 이유로 새로운 구문이 추가되었다."
   ]
  },
  {
   "cell_type": "code",
   "execution_count": 5,
   "metadata": {},
   "outputs": [],
   "source": [
    "@modifier\n",
    "def original():\n",
    "    return None"
   ]
  },
  {
   "cell_type": "markdown",
   "metadata": {},
   "source": [
    "즉, 데코레이터는 데코레이터 이후에 나오는 것을 데코레이터 첫 번째 파라미터로 하고 데코레이터의 결과 값을 반환하게 하는 문법적 설탕(타이필 수고 또는 읽기 쉽게 하기 위해 다른 표현으로 코딩할 수 있게 해주는 기능)일 뿐이다.\n",
    "\n",
    "이번 예제에서 말하는 modifier는 파이썬 용어로 데코레이터라 하고, original을 데코레이팅된 함수 또는 래핑된 객체라 한다.\n",
    "\n",
    "원래 함수와 메서드를 위해 고안되었지만 실제로는 어떤 종류의 객체에도 적용이 가능하기 때문에 여기서는 함수와 메서드, 제너레이터, 클래스에 데코레이터를 적용하는 방법을 살펴본다.\n",
    "\n",
    "데코레이터는 래핑된 함수의 기능을 수정하고 확장하기 때문에 정확한 이름이지만 \"데코레이터 디자인 패턴\"과 혼동하면 안 된다.\n",
    "\n",
    "### 함수 데코레이터\n",
    "\n",
    "파이썬에서 데코레이터를 사용하여 기능을 변경하는 가장 간단한 방법은 함수에 적용하는 것이다. 함수에 데코레이터를 사용하면 어떤 종류의 로직이라도 적용할 수 있다. 파라미터의 유효성을 검사하거나 사전조건을 검사하거나, 기능 전체를 새롭게 정의할 수도 있고, 서명을 변경할 수도 있고, 원래 함수의 결과를 캐시하는 드으이 작업을 모두 할 수 있다.\n",
    "\n",
    "예를 들어, 다음과 같인 도메인의 특정 예외에 대해서 특정 획수만큼 재시도하는 데코레이터를 만들어 볼 수 있다."
   ]
  },
  {
   "cell_type": "code",
   "execution_count": 1,
   "metadata": {},
   "outputs": [],
   "source": [
    "class ControlledException(Exception):\n",
    "    \"\"\"도메인에서 발생하는 일반적인 예외\"\"\"\n",
    "\n",
    "def retry(operation):\n",
    "    @wraps(operation)\n",
    "    def wrapped(*args, **kwargs):\n",
    "        last_raised = None\n",
    "        RETRIES_LIMIT = 3\n",
    "        for _ in range(RETRIES_LIMIT):\n",
    "            try:\n",
    "                return operation(*args, **kwargs)\n",
    "            except ControlledException as e:\n",
    "                logger.info(\"retrying %s\", operation.__qualname__)\n",
    "                last_raised = e\n",
    "        raise last_raised\n",
    "    return wrapped"
   ]
  },
  {
   "cell_type": "markdown",
   "metadata": {},
   "source": [
    "@wrap은 지금 당장은 무시해도 된다. for 루프에서 \\_는 해당 변수에 관심이 없다는 것을 뜻한다. 파이썬에서 무시해도 되는 값을 \\_로 표현하는 것이 일반적인 관습이다. \n",
    "\n",
    "retry 데코레이터는 파라미터가 필요 없으므로 어떤 함수에도 쉽게 적용할 수 있다. 다음은 적용한 예이다."
   ]
  },
  {
   "cell_type": "code",
   "execution_count": 3,
   "metadata": {},
   "outputs": [],
   "source": [
    "@retry\n",
    "def run_operation(task):\n",
    "    \"\"\"실행 중 예외가 발생할 것으로 예상되는 특정 작업을 실행\"\"\"\n",
    "    return task.run()"
   ]
  },
  {
   "cell_type": "markdown",
   "metadata": {},
   "source": [
    "앞에서 설명한 것처럼 run_operation 위에 있는 @retry는 실제로 파이썬에서 run_operation = retry(run_operation)을 실행하게 해주는 문법적 설탕일 뿐이다. "
   ]
  },
  {
   "cell_type": "markdown",
   "metadata": {},
   "source": [
    "### 클래스 데코레이터\n",
    "\n",
    "함수에 적용한 것처럼 클래스에도 데코레이터를 사용할 수 있다(PEP-3129). 유일한 차이점은 데코레이터 함수의 파라미터로 함수가 아닌 클래스를 받는다는 점이다.\n",
    "\n",
    "어떤 개발자들은 클래스 데코레이터가 복잡하고 가독성을 떨어뜨릴 수 있다고 말할 수 있다. 왜냐하면 클래스에서 정의한 속성과 메서드를 데코레이터 안에서 완전히 다른 용도로 변경할 수 있기 때문이다.\n",
    "\n",
    "데코레이터를 남용할 경우 이것 또한 사실이다. 파이썬에서 보면 함수 데코레이터와 클래스 데코레이터는 다른 타입을 사용하는 것만 다를 뿐 차이점이 없다.\n",
    "\n",
    "* 클래스 데코레이터는 코드 재사용과 DRY(Do Not Repeat Yourself) 원칙의 모든 이점을 공유한다. 클래스 데코레이터를 사용하면 여러 클래스가 특정 인터페이스(형식을 강제)나 기준을 따르도록 강제할 수 있다. 여러 클래스에 적용할 검사를 데코레이터에서 한 번만 하면 된다.\n",
    "\n",
    "* 당장은 작고 간단한 클래스를 생성하고 나중에 데코레이터로 기능을 보강할 수 있다.\n",
    "\n",
    "* 어떤 클래스에 대해서는 유지보수 시 데코레이터를 사용해 기존 로직을 훨씬 쉽게 변경할 수 있다. 메타클래스와 같은 방법을 사용해 보다 복잡하게 만드는 것은 주로 권장되지 않는다.\n",
    "\n",
    "데코레이터가 유용하게 사용될 수 있는 예제를 살펴보자. 이 예제가 클래스 데코레이터의 유일한 방법은 아니며 실제로는 다양한 방법이 있을 수 있고, 각 방법마다 장단점이 있을 수 있지만 여기서는 유용성을 설명하기 위한 용도임에 유의하자.\n",
    "\n",
    "이제 모니터링 플랫폼을 위한 이벤트 시스템은 각 이벤트의 데이터를 변환하여 외부 시스템으로 보내야한다. 그러나 각 이벤트 유형은 데이터 전송 방법에 특별한 점이 있을 수 있다.\n",
    "\n",
    "특히 로그인 이벤트에는 자격 증명과 같은 중요한 정보를 숨겨야만 한다. timestamp와 같은 필드는 특별한 포맷으로 표시하기 때문에 변환이 필요할 수도 있다. 이러한 요구 사항을 준수하기 위한 가장 간단한 방법은 각 이벤트마다 직렬화 방법을 정의한 클래스를 만드는 것이다."
   ]
  },
  {
   "cell_type": "code",
   "execution_count": 4,
   "metadata": {},
   "outputs": [],
   "source": [
    "class LoginEventSerializer:\n",
    "    def __init__(self, event):\n",
    "        self.event = event\n",
    "    \n",
    "    def serialize(self) -> dict:\n",
    "        return {\n",
    "            \"username\": self.event.username,\n",
    "            \"password\": \"**민감한 정보 삭제**\",\n",
    "            \"ip\": self.event.ip,\n",
    "            \"timestamp\": self.event.timestamp.strftime(\"%Y-%m-%d %H:%M\")\n",
    "        }\n",
    "\n",
    "class LoginEvnet:\n",
    "    SERIALIZER = LoginEventSerializer\n",
    "    \n",
    "    def __init__(self, username, password, ip, timestamp):\n",
    "        self.username = username\n",
    "        self.password = password\n",
    "        self.ip = ip\n",
    "        self.timestamp = timestamp\n",
    "    \n",
    "    def serialize(self) -> dict:\n",
    "        return self.SERIALIZER(self).serialize()"
   ]
  },
  {
   "cell_type": "markdown",
   "metadata": {},
   "source": [
    "이 방법은 처음에는 잘 동작하지만, 시간이 지나면서 시스템을 확장할수록 다음과 같은 문제가 발생하게 된다.\n",
    "\n",
    "* 클래스가 너무 많아진다 : 이벤트 클래스와 직렬화 클래스가 1대 1로 매핑되어 있으므로 직렬화 클래스가 점점 많아지게 된다.\n",
    "* 이러한 방법은 충분히 유연하지 않다 : 만약 password를 가진 다른 클래스에서도 이 필드를 숨기려면 함수로 분리한 다음 여러 클래스에서 호출해야 한다. 이는 코드를 충분히 재사용했다고 볼 수가 없다.\n",
    "* 표준화 : serialize() 메서드는 모든 이벤트 클래스에 있어야만 한다. 비록 믹스인을 사용해 다른 클래스로 분리할 수 있지만 상속을 제대로 사용했다고 볼 수 없다. \n",
    "\n",
    "또 다른 방법은 이벤트 인스턴스와 변형 함수를 필터로 받아서 동적으로 객체를 만드는 것이다. 필터를 이벤트 인스턴스의 필드들에 적용해 직려롸하는 것이다. 이제 각 필드를 변형할 함수를 만든 다음 이들을 조합해 직렬화 객체를 만들면 된다. \n",
    "\n",
    "다음과 같이 클래스에 serialize() 메서드를 추가하기 위해 Serialization 객체를 활용한다."
   ]
  },
  {
   "cell_type": "code",
   "execution_count": 34,
   "metadata": {},
   "outputs": [],
   "source": [
    "from datetime import datetime\n",
    "\n",
    "def hide_field(field) -> str:\n",
    "    return \"**민감한 정보 삭제**\"\n",
    "\n",
    "def format_time(field_timestamp: datetime) -> str:\n",
    "    return field_timestamp.strftime(\"%Y-%m-%d %H:%M\")\n",
    "\n",
    "def show_original(event_field):\n",
    "    return event_field\n",
    "\n",
    "class EventSerializer:\n",
    "    def __init__(self, serialization_fields: dict) -> None:\n",
    "        self.serialization_fields = serialization_fields\n",
    "    \n",
    "    def serialize(self, event) -> dict:\n",
    "        return {\n",
    "            field: transformation(getattr(event, field))\n",
    "            for field, transformation in self.serialization_fields.items()\n",
    "        }\n",
    "\n",
    "class Serialization:\n",
    "    def __init__(self, **transformations):\n",
    "        self.serializer = EventSerializer(transformations)\n",
    "        \n",
    "    def __call__(self, event_class):\n",
    "        def serialize_method(event_instance):\n",
    "            return self.serializer.serialize(event_instance)\n",
    "        event_class.serialize = serialize_method\n",
    "        return event_class\n",
    "\n",
    "@Serialization(\n",
    "    username = show_original,\n",
    "    password = hide_field,\n",
    "    ip = show_original,\n",
    "    timestamp=format_time,\n",
    ")\n",
    "class LoginEvent:\n",
    "    def __init__(self, username, password, ip, timestamp):\n",
    "        self.username = username\n",
    "        self.password = password\n",
    "        self.ip = ip\n",
    "        self.timestamp = timestamp"
   ]
  },
  {
   "cell_type": "markdown",
   "metadata": {},
   "source": [
    "클래스 데코데이터에 전달된 인수를 읽는 것만으로도 username과 ip는 수정되지 않고, password 필드는 숨겨지고, timestamp는 포매팅된다는 것을 알 수 있다.\n",
    "\n",
    "이제 개별 클래스에 serialize() 메서드를 정의하거나 믹스인을 확장할 필요도 없다. 단지 데코레이터만 추가하면 된다. \n",
    "\n",
    "추가로 클래스의 속성을 정의하는 것만으로 init 메서들의 로직을 구현해주는 클래스 데코레이터도 있지만 이번 예제의 범위를 벗어난다. 파이썬 3.7 이상이 버전에서의 데코레이터를 사용하면 init 함수의 탬플릿화된 단순 코드를 작성하지 않고도 다음과 같이 앞의 예제를 보다 간단하게 작성할 수 있다."
   ]
  },
  {
   "cell_type": "code",
   "execution_count": 46,
   "metadata": {},
   "outputs": [],
   "source": [
    "from datetime import datetime\n",
    "loginevent = LoginEvent('were', 'were', '127.0.0.1', datetime.now())"
   ]
  },
  {
   "cell_type": "code",
   "execution_count": 48,
   "metadata": {},
   "outputs": [
    {
     "name": "stdout",
     "output_type": "stream",
     "text": [
      "event_instance is  <__main__.LoginEvent object at 0x068C7F50>\n"
     ]
    },
    {
     "data": {
      "text/plain": [
       "{'username': 'were',\n",
       " 'password': '**민감한 정보 삭제**',\n",
       " 'ip': '127.0.0.1',\n",
       " 'timestamp': '2020-09-10 12:47'}"
      ]
     },
     "execution_count": 48,
     "metadata": {},
     "output_type": "execute_result"
    }
   ],
   "source": [
    "loginevent.serialize()"
   ]
  },
  {
   "cell_type": "markdown",
   "metadata": {},
   "source": [
    "파이썬 3.7이상의 버전에서의 데코레이터를 사용하면 init 함수의 템플릿화된 단순 코드를 작성하지 않고도 다음과 같이 앞의 예제를 보다 간단하게 작성할 수 있다."
   ]
  },
  {
   "cell_type": "code",
   "execution_count": 50,
   "metadata": {},
   "outputs": [],
   "source": [
    "from dataclasses import dataclass\n",
    "from datetime import datetime\n",
    "\n",
    "@Serialization(\n",
    "    username=show_original,\n",
    "    password=hide_field,\n",
    "    ip=show_original,\n",
    "    timestamp=format_time,\n",
    ")\n",
    "\n",
    "@dataclass\n",
    "class LoginEvent:\n",
    "    username: str\n",
    "    password: str\n",
    "    ip: str\n",
    "    timestamp: datetime"
   ]
  },
  {
   "cell_type": "markdown",
   "metadata": {},
   "source": [
    "### 다른 유형의 데코레이터\n",
    "\n",
    "이제 데코레이터의 @ 구문이 실제로 무엇을 의미하는지 알았으므로 데코레이가 단지 함수나 메서드, 클래스에만 적용되지 않는다는 것도 알 수 있다. 사실 제너레이터나 코루틴, 심지어 이미 데코레이트된 객체도 데코레이트 가능하다. 즉 데코레이터는 스택 형태로 쌓일 수 있다.\n",
    "\n",
    "앞의 예는 데코레이터가 어떻게 연결될 수 있는지를 보여준다. 먼저 클래스를 정의하고 @dataclass를 적용하여 속성의 컨테이너 역할을 하는 데이터 클래스로 변환한다. 그런 다음  @Serialization에서 serialize() 메서드가 추가된 새로운 클래스를 반환한다.\n",
    "\n",
    "데코레이터의 또 다른 좋은 사용 예는 코루틴으로 사용되는 제너레이터이다. 주요 아이디어는 새로 생성된 제너레이터에 데이터를 보내기 전에 next()를 호출하여 다음 yield 문으로 넘어가야 한다는 것이다. 이러한 수작업은 모든 사용자가 기억해야 하는 것으로 에러를 유발하기 쉽다. 이런 경우 제너레이터를 파라미터로 받아 next()를 호출한 다음 다시 제너레이터를 반환하는 데코레이터를 만들면 쉽게 해결된다."
   ]
  },
  {
   "cell_type": "markdown",
   "metadata": {},
   "source": [
    "### 데코레이터에 인자 전달\n",
    "\n",
    "지금까지 살펴본 바로도 데코레이터가 파이썬에서 강력한 도구임을 알 수 있다. 그러나 파라미터를 전달받아 로직을 추상화한다면 더욱 강력해질 수 있다. \n",
    "\n",
    "파라미터를 갖는 데코레이터를 구현하는 방법은 여러 가지가 있지만 가장 일반적인 방법을 살펴볼 것이다. 첫 번째는 간접 참조(indirection)를 통해 새로운 레벨의 중첩 함수를 만들어 데코레이터의 모든 것을 한 단계 더 깊게 만드는 것이다. 두 번째 방법은 데코레이터를 위한 클래스를  만드는 것이다. \n",
    "\n",
    "일반적으로 두 번째 방법이 가독성이 더 좋다. 왜냐하면 세 단계 이상 중첩된 클로저 함수보다 는 객체가 이해하기 쉽기 때문이다. 그러나 완벽을 기하기 위해 두 가지 모두를 살펴볼 것이며 독자는 상황에 알맞은 최선의 결정을 내리면 된다.\n",
    "\n",
    "### 중첩 함수의 데코레이터\n",
    "크게 보면 데코레이터는 함수를 파라미터로 받아서 함수를 반환하는 함수이다. 이런 함수를 고차 함수라고 부른다. 실제로는 데코레이터의 본문에 정의된 함수가 호출된다.\n",
    "\n",
    "이제 데코레이터를 파라미터에 전달하려면 다른 수준의 간접 참조가 필요하다. 첫 번째 함수는 파라미터를 받아서 내부 함수에 전달한다. 두 번째 함수는 데코레이터가 될 함수다. 세 번째는 데코레이팅의 결과를 반환하는 함수이다. 즉 최소 세 단계의 중첩 함수가 필요하다는 뜻이다.\n",
    "\n",
    "앞의 예제를 인스턴스마다 재시도 횟수를 지정하려고 하며 파라미터에 기본 값도 추가할 것이다. 이렇게 하려면 함수를 한 단계 더 추가해야 한다. 먼저 파라미터에 대한 것과 그리고 데코레이터 자체에 대한 것이다. \n",
    "\n",
    "코드는 다음과 같다."
   ]
  },
  {
   "cell_type": "code",
   "execution_count": 51,
   "metadata": {},
   "outputs": [],
   "source": [
    "@retry(arg1, arg2, ...)"
   ]
  },
  {
   "cell_type": "markdown",
   "metadata": {},
   "source": [
    "@ 구문은 데코레이팅 객체에 대한 연산 결과를 반환하는 것이기 때문에 위의 코드는 의미상 다음과 같다."
   ]
  },
  {
   "cell_type": "code",
   "execution_count": 53,
   "metadata": {},
   "outputs": [],
   "source": [
    "<original_function> = retry(arg1, arg2, ...)(<original_function>)"
   ]
  },
  {
   "cell_type": "markdown",
   "metadata": {},
   "source": [
    "원하는 재시도 횟수 외에도 제어하려는 예외 유형을 나타낼 수도 있다. 새 요구 사항을 반영한 새로운 코드는 다음과 같다."
   ]
  },
  {
   "cell_type": "code",
   "execution_count": 54,
   "metadata": {},
   "outputs": [],
   "source": [
    "RETRIES_LIMIT = 3\n",
    "def with_retry(retires_limit=RETRIES_LIMIT, allowed_exceptions=None):\n",
    "    allowed_exceptions = allowed_exceptions or (ControlledException,)\n",
    "    \n",
    "    def retry(operatiion):\n",
    "        \n",
    "        @wraps(operation)\n",
    "        def wrapped(*args, **kwargs):\n",
    "            last_raised = None\n",
    "            for _ in range(retries_limit):\n",
    "                try:\n",
    "                    return operation(*args, **kwargs)\n",
    "                except allowed_exceptions as e:\n",
    "                    logger.info(\"retrying %s du to %s\", operation, e)\n",
    "                    last_raised = e\n",
    "                raise last_raised\n",
    "            return wrapped\n",
    "    \n",
    "    return retry"
   ]
  },
  {
   "cell_type": "markdown",
   "metadata": {},
   "source": [
    "다음은 이 데코레이터를 함수에 적용한 예이다."
   ]
  },
  {
   "cell_type": "code",
   "execution_count": 56,
   "metadata": {},
   "outputs": [],
   "source": [
    "@with_retry()\n",
    "def run_operation(task):\n",
    "    return task.run()\n",
    "\n",
    "@with_retry(retries_limits=5)\n",
    "def run_with_custom_retries_limit(task):\n",
    "    return task.run()\n",
    "\n",
    "@with_retry(allowed_exceptions=(AttributeError,) )\n",
    "def run_with_custom_exceptions(task):\n",
    "    return task.run()\n",
    "\n",
    "@with_retry(\n",
    "    retries_limits =4, allowed_exceptions=(ZeroDivisionError, AttributeError)\n",
    ")\n",
    "def run_wit_custom_parameters(task):\n",
    "    return task.run()"
   ]
  },
  {
   "cell_type": "markdown",
   "metadata": {},
   "source": [
    "### 데코레이터 객체\n",
    "\n",
    "앞의 예제에서는 세 단계의 중첩된 함수가 필요하다. 첫 번째는 데코레이터의 파라미터를 받는 함수이다. 함수 내부의 다른 함수는 이렇게 전달된 파라미터를 로직에서 사용하는 클로저이다.\n",
    "\n",
    "이것을 보다 깔끔하게 구현하기 위해 클래스를 사용하여 데코레이터를 정의할 수 있다. 이 경우 \\__init__ 메서드에 파라미터를 전달한 다음 \\__call__ 이라는 매직 메서드에서 데코레이터의 로직을 구현하면 된다. 데코레이터 객체는 다음과 같다."
   ]
  },
  {
   "cell_type": "code",
   "execution_count": 57,
   "metadata": {},
   "outputs": [],
   "source": [
    "class WithRetry:\n",
    "    def __init__(self, retries_limit=RETRIES_LIMIT, allowed_exceptions=None):\n",
    "        self.retries_limit = retries_limit\n",
    "        self.allowed_exceptions = allowed_exceptions or (ControlledException,)\n",
    "    \n",
    "    def __call__(self, operation):\n",
    "        \n",
    "        @wraps(operation)\n",
    "        def wrapped(*args, **kwargs):\n",
    "            last_raised = None\n",
    "            for _ in range(self.retries_limit):\n",
    "                try:\n",
    "                    return operation(*args, **kwargs)\n",
    "                except self.allowed_exceptions as e:\n",
    "                    logger.info(\"retrying %s du to %s\", operation, e)\n",
    "                    last_raised = e\n",
    "                raise last_raised\n",
    "        return wrapped"
   ]
  },
  {
   "cell_type": "code",
   "execution_count": 59,
   "metadata": {},
   "outputs": [],
   "source": [
    "@WithRetry(retries_limit=5)\n",
    "def run_with_custom_limit(task):\n",
    "    return task.run()"
   ]
  },
  {
   "cell_type": "markdown",
   "metadata": {},
   "source": [
    "여기서 파이썬 구문이 어떻게 처리되는지 이해하는 것이 중요하다. @ 연산 전에 전달된 파라미터를 사용해 데코레이터 객체를 생성한다. 데코레이터 객체는 \\__init__ 메서드에서 정해진 로직에 따라 초기화를 진행한다. 그 다음 @ 연산이 호출된다. 데코레이터 객체는 run_with_custom_retries_limit 함수를 래핑하여 \\__call__ 매직 메서드를 호출한다.\n",
    "\n",
    "\\__call__ 매직 메서드는 앞의 데코레이터에서 하던 것처럼 원본 함수를 래핑하여 우리가 원하는 로직이 적용된 새로운 함수를 반환한다.\n",
    "\n",
    "### 데코레이터 활용 우수 사례\n",
    "\n",
    "데코레이터 활용의 우수 사례를 살펴본다. 일빈적으로 데코레이터가 좋은 선택이 될 수 있는 경우들이다.\n",
    "\n",
    "* 파라미터 변환: 더 멋진 API를 노출하기 위해 함수의 서명을 변경하는 경우. 이 때 파라미터가 어떻게 처리되고 변환되는지를 캡술화하여 숨길 수 있다. \n",
    "* 코드 추적: 파라미터와 함께 함수의 실행을 로깅하려는 경우\n",
    "* 파라미터 유효성 검사\n",
    "* 재시도 로직 구현\n",
    "* 일부 반복 작업을 데코레이터로 이동하여 클래스 단순화\n",
    "\n",
    "### 파라미터 변환\n",
    "\n",
    "전에 언급한 것처럼 데코레이터를 사용하여 파라미터의 유효성을 검사할 수 있다. DbC의 원칙에 따라 사전조건 또는 사후조건을 강제할 수도 있다. 따라서 일반적으로 파라미터를 다룰 때 데코레이터를 많이 사용하게 된다.\n",
    "\n",
    "특히 유사한 객체를 반복적으로 생성하거나 추상화를 위해 유사한 변형을 반복하는 경우가 있다. 이런 경우 단순히 데코레이터를 만들어 사용하면 이 작업을 쉽게 처리할 수 있다.\n",
    "\n",
    "### 코드 추적\n",
    "\n",
    "* 실제 함수의 실행 경로 추적(예를 들어 실행 함수 로깅)\n",
    "* 함수 지표 모니터링(예를 들어 CPU 사용률이나 메모리 사용량 등)\n",
    "* 함수의 실행 시간 측정\n",
    "* 언제 함수가 실행되고 전달된 파라미터는 무엇인지 로깅\n",
    "\n",
    "### 데코레이터의 활용 - 흔한 실수 피하기\n",
    "\n",
    "효과적인 데코레이터를 만들기 위해 피해야 할 몇 가지 공통된 사항을 살펴본다.\n",
    "\n",
    "### 래핑된 원본 객체의 데이터 보존\n",
    "\n",
    "데코레이터를 함수에 적용할 때 가장 많이 실수하는 것 중에 하나는 원본 함수의 일부 프로퍼티 또는 속성을 유지하지 않아 원하지 않는 부작용을 유발한다는 것이다.\n",
    "\n",
    "이를 설명하기 위해 함수가 실행될 때 로그를 남기는 데코레이터를 사용한다."
   ]
  },
  {
   "cell_type": "code",
   "execution_count": 60,
   "metadata": {},
   "outputs": [],
   "source": [
    "def trace_decorator(function):\n",
    "    def wrapped(*args, **kwargs):\n",
    "        logger.info(\"%s 실행\", function.__qualname__)\n",
    "        return function(*args, **kwargs)\n",
    "    return wrapped"
   ]
  },
  {
   "cell_type": "markdown",
   "metadata": {},
   "source": [
    "위의 데코레이터를 사용한 함수가 있을 경우 원본 함수의 정의와 비교해 함수가 전혀 수정되지 않은 것처럼 보일 것이다. "
   ]
  },
  {
   "cell_type": "code",
   "execution_count": 61,
   "metadata": {},
   "outputs": [],
   "source": [
    "@trace_decorator\n",
    "def process_account(account_id):\n",
    "    \"\"\"id 별 계정 처리\"\"\"\n",
    "    logger.info(\"%s 계정 처리\", account_id)"
   ]
  },
  {
   "cell_type": "markdown",
   "metadata": {},
   "source": [
    "그러나 변화가 있을 수 있다.\n",
    "코드에 결함이 있어서 이름이나 docstring을 변경하는 경우가 있다.\n",
    "\n",
    "이 함수의 help를 확인해보자."
   ]
  },
  {
   "cell_type": "code",
   "execution_count": 62,
   "metadata": {},
   "outputs": [
    {
     "name": "stdout",
     "output_type": "stream",
     "text": [
      "Help on function wrapped in module __main__:\n",
      "\n",
      "wrapped(*args, **kwargs)\n",
      "\n"
     ]
    }
   ],
   "source": [
    "help(process_account)"
   ]
  },
  {
   "cell_type": "code",
   "execution_count": 63,
   "metadata": {},
   "outputs": [
    {
     "name": "stdout",
     "output_type": "stream",
     "text": [
      "trace_decorator.<locals>.wrapped\n"
     ]
    }
   ],
   "source": [
    "print(process_account.__qualname__)"
   ]
  },
  {
   "cell_type": "markdown",
   "metadata": {},
   "source": [
    "데코레이터가 실제로 원본 함수를 wrapped라 부리는 새로운 함수로 변경했기 때문에 원본 함수의 이름이 아닌 새로운 함수의 이름을 출력하게 된다.\n",
    "\n",
    "이 데코레이터를 다른 함수에 적용하더라도 결국은 wrapped라는 이름만 출력하게 된다. \n",
    "\n",
    "이것을 수정하려면 wrapped 함수에 @wraps 데코레이터를 적용하여 실제로는 function 파라미터 함수를 래핑한 것이라고 알려주는 것이다."
   ]
  },
  {
   "cell_type": "code",
   "execution_count": 66,
   "metadata": {},
   "outputs": [],
   "source": [
    "from functools import wraps\n",
    "\n",
    "def trace_decorator(function):\n",
    "    @wraps(function)\n",
    "    def wrapped(*args, **kwargs):\n",
    "        logger.info(\"%s 실행\", function.__qualname__)\n",
    "        return function(*args, **kwargs)\n",
    "    return wrapped\n",
    "\n",
    "@trace_decorator\n",
    "def process_account(account_id):\n",
    "    \"\"\"id 별 계정 처리\"\"\"\n",
    "    logger.info(\"%s 계정 처리\", account_id)"
   ]
  },
  {
   "cell_type": "code",
   "execution_count": 67,
   "metadata": {},
   "outputs": [
    {
     "data": {
      "text/plain": [
       "'process_account'"
      ]
     },
     "execution_count": 67,
     "metadata": {},
     "output_type": "execute_result"
    }
   ],
   "source": [
    "process_account.__qualname__"
   ]
  },
  {
   "cell_type": "markdown",
   "metadata": {},
   "source": [
    "@wraps 데코레이터를 사용하면 \\__wrapped__ 속성을 통해 수정되지 않은 원본에도 접근할 수 있게 된다. \n",
    "\n",
    "### 데코레이터 부작용 처리\n",
    "\n",
    "데코레이터의 부작용을 최소화하는 방법을 알아보자. 데코레이터 함수가 되기 위해 필요한 하나의 조건은 가장 안쪽에 정의된 함수여야 한다는 것이다. 그렇지 않으면 임포트 문제가 발생할 수 있다.\n",
    "\n",
    "그럼에도 불구하고 떄로는 임포트 시에 실행하기 위해 이러한 부작용이 필요한 경우도 있고 반대의 경우도 있다.\n",
    "\n",
    "이러한 두 가지 예제를 모두 살펴볼 것이다. 확실하지 않다면 래핑된 함수가 호출되기 직전까지 부작용을 최대한 지연하도록 주의해야 한다. \n",
    "\n",
    "다음으로 래핑된 함수 바깥에 추가 로직을 구현하는 것이 왜 좋지 않은지 살펴볼 것이다.\n",
    "\n",
    "### 데코레이터 부작용의 잘못된 처리\n",
    "\n",
    "함수의 실행과 실행 시간을 로깅하는 데코레이터를 생각해보자."
   ]
  },
  {
   "cell_type": "code",
   "execution_count": 106,
   "metadata": {},
   "outputs": [],
   "source": [
    "import logging\n",
    "import time\n",
    "import functools\n",
    "logger = logging.getLogger(__name__)\n",
    "\n",
    "def traced_function_wrong(function):\n",
    "    logger.info(\"%s 함수 실행\", function)\n",
    "    start_time = time.time()\n",
    "    \n",
    "    @functools.wraps(function)\n",
    "    def wrapped(*args, **kwargs):\n",
    "        result = function(*args, **kwargs)\n",
    "        logger.info(\n",
    "            \"함수 %s의 실행시간: %.2fs\", function, time.time() - start_time\n",
    "        )\n",
    "        print(\"함수 %s의 실행시간: %.2fs\" %(function, time.time() - start_time))\n",
    "        return result\n",
    "    return wrapped"
   ]
  },
  {
   "cell_type": "markdown",
   "metadata": {},
   "source": [
    "일반 함수에 위 데코레이터를 적용하면 문제없이 동작한다."
   ]
  },
  {
   "cell_type": "code",
   "execution_count": 107,
   "metadata": {},
   "outputs": [],
   "source": [
    "@traced_function_wrong\n",
    "def process_with_delay(callback, delay=0):\n",
    "    time.sleep(delay)\n",
    "    return callback()"
   ]
  },
  {
   "cell_type": "markdown",
   "metadata": {},
   "source": [
    "그러나 이 데코레이터는 미묘하지만 중요한 버그가 하나 있다. 먼저 함수를 여러 번 임포트할 경우 어떤 일이 발생하는지 살펴보자."
   ]
  },
  {
   "cell_type": "markdown",
   "metadata": {},
   "source": [
    "process_with_delay 이 함수를 임포트 할 때 함수가 실행되며 따라서 설정된 start_time은 모듈을 처음 임포트할 때의 시간이 된다. "
   ]
  },
  {
   "cell_type": "code",
   "execution_count": 108,
   "metadata": {},
   "outputs": [],
   "source": [
    "def add():\n",
    "    return 1 + 3"
   ]
  },
  {
   "cell_type": "code",
   "execution_count": 109,
   "metadata": {},
   "outputs": [
    {
     "name": "stdout",
     "output_type": "stream",
     "text": [
      "함수 <function process_with_delay at 0x071E6390>의 실행시간: 2.73s\n"
     ]
    },
    {
     "data": {
      "text/plain": [
       "4"
      ]
     },
     "execution_count": 109,
     "metadata": {},
     "output_type": "execute_result"
    }
   ],
   "source": [
    "process_with_delay(add, 1)"
   ]
  },
  {
   "cell_type": "code",
   "execution_count": 110,
   "metadata": {},
   "outputs": [
    {
     "name": "stdout",
     "output_type": "stream",
     "text": [
      "함수 <function process_with_delay at 0x071E6390>의 실행시간: 3.77s\n"
     ]
    },
    {
     "data": {
      "text/plain": [
       "4"
      ]
     },
     "execution_count": 110,
     "metadata": {},
     "output_type": "execute_result"
    }
   ],
   "source": [
    "process_with_delay(add, 1)"
   ]
  },
  {
   "cell_type": "code",
   "execution_count": 111,
   "metadata": {},
   "outputs": [
    {
     "name": "stdout",
     "output_type": "stream",
     "text": [
      "함수 <function process_with_delay at 0x071E6390>의 실행시간: 4.80s\n"
     ]
    },
    {
     "data": {
      "text/plain": [
       "4"
      ]
     },
     "execution_count": 111,
     "metadata": {},
     "output_type": "execute_result"
    }
   ],
   "source": [
    "process_with_delay(add, 1)"
   ]
  },
  {
   "cell_type": "markdown",
   "metadata": {},
   "source": [
    "래핑된 함수 내부로 코드를 이동하면 해결된다."
   ]
  },
  {
   "cell_type": "code",
   "execution_count": 112,
   "metadata": {},
   "outputs": [],
   "source": [
    "import logging\n",
    "import time\n",
    "import functools\n",
    "logger = logging.getLogger(__name__)\n",
    "\n",
    "def traced_function_wrong(function):    \n",
    "    @functools.wraps(function)\n",
    "    def wrapped(*args, **kwargs):\n",
    "        logger.info(\"%s 함수 실행\", function)\n",
    "        start_time = time.time()\n",
    "        result = function(*args, **kwargs)\n",
    "        logger.info(\n",
    "            \"함수 %s의 실행시간: %.2fs\", function, time.time() - start_time\n",
    "        )\n",
    "        print(\"함수 %s의 실행시간: %.2fs\" %(function, time.time() - start_time))\n",
    "        return result\n",
    "    return wrapped"
   ]
  },
  {
   "cell_type": "markdown",
   "metadata": {},
   "source": [
    "데코레이터의 동작이 기대와 다른 경우 결과는 훨씬 더 비참할 수 있다. 예를 들어 입ㄴ트 발생시 로그를 남기고 외부 서비스로 전송하려는 경우 임포트 전에 어디로 보낼지 적절한 설정을 하지 않으면 전송에 실패하게 된다.\n",
    "\n",
    "### 데코레이터 부작용의 활용\n",
    "\n",
    "때로는 이러안 부작용을 의도적으로 사용하여 실제 실행이 가능한 시점까지 기다리지 않는 경우도 있다.\n",
    "\n",
    "데코레이터의 부작용을 활용하는 대표적인 예로 모듈의 공용 레지스트리에 객체를 등록하는 경우가 있다. \n",
    "\n",
    "예를 들어 이전 이벤트 시스템에서 일부 이벤트만 사용하려는 경우를 살펴보자. 이런 경우 이벤트 계층 구조의 중간에 가상의 클래스를 만들고 일부 파생 클래스에 대해서만 이벤트를 처리하도록 할 수 있다. \n",
    "\n",
    "사용자와 관련된 모든 이벤트 클래스가 있다. 여기서는 실제 UserLoginEvent와 UserLogoutEvent만 처리한다고 가정해보자."
   ]
  },
  {
   "cell_type": "code",
   "execution_count": 119,
   "metadata": {},
   "outputs": [],
   "source": [
    "EVENT_REGISTRY = {}\n",
    "\n",
    "def register_event(event_cls):\n",
    "    \"\"\"모듈에서 접근 가능하도록 이벤트 클래스를 레지스트리에 등록\"\"\"\n",
    "    EVENT_REGISTRY[event_cls.__name__] = event_cls\n",
    "    return event_cls\n",
    "\n",
    "class Event:\n",
    "    \"\"\"기본 이벤트 객체\"\"\"\n",
    "    \n",
    "\n",
    "class UserEvent:\n",
    "    TYPE = \"user\"\n",
    "\n",
    "@register_event\n",
    "class UserLoginEvent(UserEvent):\n",
    "    \"\"\"사용자가 시스템에서 접근했을 때 발생하는 이벤트\"\"\"\n",
    "    \n",
    "@register_event\n",
    "class UserLogoutEvent(UserEvent):\n",
    "    \"\"\"사용자가 시스템에서 나갈 때 발생하는 이벤트\"\"\""
   ]
  },
  {
   "cell_type": "markdown",
   "metadata": {},
   "source": [
    "위 EVENT_REGISTRY는 비어 있는 것처럼 보이지만 이 모듈의 일부를 임포트하면 register_event 데코레이터로 지정한 클래스로 채워지게 된다."
   ]
  },
  {
   "cell_type": "code",
   "execution_count": 121,
   "metadata": {},
   "outputs": [
    {
     "data": {
      "text/plain": [
       "{'UserLoginEvent': __main__.UserLoginEvent,\n",
       " 'UserLogoutEvent': __main__.UserLogoutEvent}"
      ]
     },
     "execution_count": 121,
     "metadata": {},
     "output_type": "execute_result"
    }
   ],
   "source": [
    "EVENT_REGISTRY"
   ]
  },
  {
   "cell_type": "code",
   "execution_count": 122,
   "metadata": {},
   "outputs": [
    {
     "data": {
      "text/plain": [
       "__main__.UserLoginEvent"
      ]
     },
     "execution_count": 122,
     "metadata": {},
     "output_type": "execute_result"
    }
   ],
   "source": [
    "UserLoginEvent"
   ]
  },
  {
   "cell_type": "code",
   "execution_count": 123,
   "metadata": {},
   "outputs": [
    {
     "data": {
      "text/plain": [
       "__main__.UserLogoutEvent"
      ]
     },
     "execution_count": 123,
     "metadata": {},
     "output_type": "execute_result"
    }
   ],
   "source": [
    "UserLogoutEvent"
   ]
  },
  {
   "cell_type": "markdown",
   "metadata": {},
   "source": [
    "위 코드만 봐서는 이해하기 어렵고 오해할 수 있다. 런타임 중에 모듈을 임포트한 직후에야 최종 값을 가지므로 코드만 봐서는 어떤 값이 될지 쉽게 예측하기 어렵다. \n",
    "\n",
    "이런 동작 방식이 문제가 되는 경우도 있지만 어떤 경우에는 이 패턴이 필요한 경우가 있다. 사실 많은 웹 프레임워크나 널리 알려진 라이브러리들은 이 원리로 객체를 노출하거나 활용하고 있다.\n",
    "\n",
    "### 어느 곳에서나 동작하는 데코레이터 만들기\n",
    "\n",
    "데코레이터는 여러 시나리오에 적용될 수 있다. 예를 들어 같은 데코레이터를 함수나 클래스, 메서드 또는 정적 메서드 등 여러 곳에 재사용하려는 경우이다.\n",
    "\n",
    "데코레이터를 만들 때는 일반적으로 재사용을 고려하여 함수뿐 아니라 메서드에서도 동작하길 바란다.\n",
    "\n",
    "\\*args와 \\**kwargs 서명을 사용하여 데코레이터를 정의하면 모든 경우에 사용할 수 있다. 그러나 다음 두 가지 이유로 원해 함수의 서명과 비슷하게 데코레이터를 정의하는 것이 좋을 때가 있다.\n",
    "\n",
    "* 원래의 함수와 모양이 비슷하기 때문에 읽기가 수비다.\n",
    "* 파라미터를 받아서 뭔가를 하려면 \\*args와 \\**kwargs를 사용하는 것이 불편하다.\n",
    "\n",
    "파라미터를 받아서 특정 객체를 생성하는 경우가 많다고 생각해보자. 예를 들어 문자열을 받아서 번번히 드라이버 객체를 초기화하는 경우이다. 이런 경우 파라미터를 변환해주는 데코레이터를 만들어 중복을 제거할 수 있다.\n",
    "\n",
    "다음 예제에서 EBDriver 객체는 연결 문자열을 받아서 데이터베이스에 연결하고 DB 연산을 수행하는 객체이다. 메서드는 DB 정보 문자열을 받아서 EBDriver 인스턴스를 생성한다. 데코레이터는 이러한 변환을 자동화하여 문자열을 받아 DBDriver를 생성하고 함수에 전달한다. 따라서 마치 객체를 직접 받은 것처럼 가정할 수 있다.\n",
    "\n",
    "다음은 이 함수를 사용하는 예이다."
   ]
  },
  {
   "cell_type": "code",
   "execution_count": 124,
   "metadata": {},
   "outputs": [],
   "source": [
    "import logging\n",
    "from functools import wraps\n",
    "\n",
    "logger = logging.getLogger(__name__)\n",
    "\n",
    "class DBDriver:\n",
    "    def __init__(self, dbstring):\n",
    "        self.dbstring = dbstring\n",
    "        \n",
    "    def execute(self, query):\n",
    "        return f\"{self.dbstring} 에서 쿼리 {query} 실행\"\n",
    "\n",
    "def inject_db_driver(function):\n",
    "    \"\"\"데이터베이스 dns 문자열을 받아서 DBDriver 인스턴스를 생성하는 데코레이터\"\"\"\n",
    "    \n",
    "    @wraps(function)\n",
    "    def wrapped(dbstring):\n",
    "        return function(DBDriver(dbstring))\n",
    "    return wrapped\n",
    "\n",
    "@inject_db_driver\n",
    "def run_query(driver):\n",
    "    return driver.execute(\"test_function\")"
   ]
  },
  {
   "cell_type": "markdown",
   "metadata": {},
   "source": [
    "함수에 문자열을 전달하면 DBDriver 인스턴스를 반환하므로 예상한 것처럼 동작한다."
   ]
  },
  {
   "cell_type": "code",
   "execution_count": 125,
   "metadata": {},
   "outputs": [
    {
     "data": {
      "text/plain": [
       "'test_OK 에서 쿼리 test_function 실행'"
      ]
     },
     "execution_count": 125,
     "metadata": {},
     "output_type": "execute_result"
    }
   ],
   "source": [
    "run_query(\"test_OK\")"
   ]
  },
  {
   "cell_type": "markdown",
   "metadata": {},
   "source": [
    "하지만 이제 같은 기능을 하는 데코레이터를 클래스 메서드에서 재사용하고 싶다면 어떻게 될까?"
   ]
  },
  {
   "cell_type": "code",
   "execution_count": 126,
   "metadata": {},
   "outputs": [],
   "source": [
    "class DataHander:\n",
    "    @inject_db_driver\n",
    "    def run_query(self, driver):\n",
    "        return driver.execute(self.__class__.__name__)"
   ]
  },
  {
   "cell_type": "markdown",
   "metadata": {},
   "source": [
    "아래처럼 실행하면 동작하지 않는다.\n",
    "\n",
    "클래스의 메서드에는 self라는 추가 변수가 있다.\n",
    "\n",
    "이 문제를 해결하려면 메서드와 함수에 대해서 동일하게 동작하는 데코레이터를 만들어야한다. 디스크립터 프로토콜을 구현한 데코레이터 객체를 만든다.\n",
    "\n",
    "해결책은 데코레이터를 클래스 객체로 구현하고 \\__get__ 메서드를 구현한 디스크립터 객체를 만드는 것이다."
   ]
  },
  {
   "cell_type": "code",
   "execution_count": 128,
   "metadata": {},
   "outputs": [],
   "source": [
    "from functools import wraps\n",
    "from types import MethodType\n",
    "\n",
    "class inject_db_driver:\n",
    "    \"\"\"문자열을 DBDriver 인스턴스로 변환하여 래핑된 함수에 전달\"\"\"\n",
    "    \n",
    "    def __init__(self, function):\n",
    "        self.function = function\n",
    "        wraps(self.function)(self)\n",
    "        \n",
    "    def __call__(self, dbstring):\n",
    "        return self.function(DBDriver(dbstring))\n",
    "    \n",
    "    def __get__(self, instance, owner):\n",
    "        if instance is None:\n",
    "            return self\n",
    "        return self.__class__(MethodType(self.function, instance))"
   ]
  },
  {
   "cell_type": "markdown",
   "metadata": {},
   "source": [
    "함수를 객체에 바인딩하고 데코레이터를 새로운 호출 가능 객체로 다시 생성한다.\n",
    "\n",
    "함수의 경우 \\__get__ 메서드를 사용하지 않기 때문에 여전히 잘 작동한다.\n",
    "\n",
    "### 데코레이터와 DRY 원칙\n",
    "\n",
    "데코레이터를 사용하여 특정 로직을 분리된 컴포넌트로 추상화하는 방법을 살펴보았다. 데코레이터를 통해 특정 기능을 한 번만 정의하기 때문에 DRY 원칙을 잘 따른다. \n",
    "\n",
    "코드 재사용을 위해 데코레이터를 사용할 때 ㄷ염두에 두어야 할 것이 있다. 실질적으로 코드 사용량을 줄일 수 있다는 확실한 믿음이 있어야 한다. \n",
    "\n",
    "신중하게 설계되지 않은 데코레이터는 코드의 복잡성을 증가시킨다. \n",
    "\n",
    "재사용이 많다는 것을 판단할 수 있는 방법은 소프트웨어 공학에서 일반적을 적용되는 원칙(GLASS01)을 따를 수 있다. 컴포넌트가 충분히 재사용 가능한 추상화를 했다고 인정받기 위해서는 적어도 3가지 이상의 애플리케이션에서 시험해봐야 한다는 것이다. 재사용 가능한 컴포넌트를 만드는 것은 일반 컴포넌트를 만드는 것보다 세 배나 더 어렵다는 내용이 있다. (Facts and Fallacies of Software Engineering - \"우리가 미처 알지 못한 소프트웨어 공학의 사실과 오해\"라는 명서를 꼭 읽어보길 권한다.)\n",
    "\n",
    "결론은 다음과 같은 사항을 고려했을 경우만 데코레이터 사용을 권한다.\n",
    "* 처음부터 데코레이터를 만들지 않는다. 패턴이 생기고 데코레이터에 대한 추상화가 명확해지면 그 때 리팩토링을 한다.\n",
    "* 데코레이터가 적어도 3회 이상 필요한 경우에만 구현한다. \n",
    "* 데코레이터 코드를 최소한으로 유지한다.\n",
    "\n",
    "### 데코레이터와 관심사 분리\n",
    "\n",
    "컴포넌트가 자을수록 재사용성이 높아진다. 예제를 통해 무엇을 의미하는지 알아보자. 다음과 같이 특정 함수의 실행을 추적하는 데코레이터를 보자."
   ]
  },
  {
   "cell_type": "code",
   "execution_count": 129,
   "metadata": {},
   "outputs": [],
   "source": [
    "def traced_function(function):    \n",
    "    @functools.wraps(function)\n",
    "    def wrapped(*args, **kwargs):\n",
    "        logger.info(\"%s 함수 실행\", function)\n",
    "        start_time = time.time()\n",
    "        result = function(*args, **kwargs)\n",
    "        logger.info(\n",
    "            \"함수 %s의 실행시간: %.2fs\", function, time.time() - start_time\n",
    "        )\n",
    "        print(\"함수 %s의 실행시간: %.2fs\" %(function, time.time() - start_time))\n",
    "        return result\n",
    "    return wrapped"
   ]
  },
  {
   "cell_type": "markdown",
   "metadata": {},
   "source": [
    "이 데코레이터는 동작에 문제가 있다. 하나 이상의 작업을 수행하고 있다. 특정 함수가 방금 호출된 것을 기록하고 실행하는데 걸린 시간도 기록한다. 오직 한 가지만 원하는 경우에도 두 가지 책임을 실행하고 있다.\n",
    "\n",
    "이것은 좀 더 구체적이고 제한적인 책임을 지닌 더 작은 데코레이터로 분류되어야한다."
   ]
  },
  {
   "cell_type": "code",
   "execution_count": 130,
   "metadata": {},
   "outputs": [],
   "source": [
    "def log_execution(function):\n",
    "    @wraps(function)\n",
    "    def wrapped(*args, **kwargs):\n",
    "        logger.info(\"started execution of %s\" %(function.__qualname__))\n",
    "        return function(*args, **kwargs)\n",
    "    return wrapped\n",
    "\n",
    "def measure_time(function):\n",
    "    @wraps(function)\n",
    "    def wrapped(*args, **kwargs):\n",
    "        start_time = time.time()\n",
    "        result = function(*args, **kwargs)\n",
    "        \n",
    "        logger.info(\"function %s took %.2f\" %(function.__qualname__, time.time() - start_time))\n",
    "        return result\n",
    "    return wrapped"
   ]
  },
  {
   "cell_type": "markdown",
   "metadata": {},
   "source": [
    "동일한 기능음 다음과 같이 조합하여 달성할 수 있다."
   ]
  },
  {
   "cell_type": "code",
   "execution_count": 132,
   "metadata": {},
   "outputs": [],
   "source": [
    "@measure_time\n",
    "@log_execution\n",
    "def operation():\n",
    "    return 1 + 2"
   ]
  },
  {
   "cell_type": "markdown",
   "metadata": {},
   "source": [
    "데코레이터가 적용되는 순서도 중요하다. \n",
    "\n",
    "데코레이터에 하나 이상의 책임을 두면 안 된다. SRP는 데코레이터에도 적용된다.\n",
    "\n",
    "### 좋은 데코레이터분석\n",
    "\n",
    "마지막으로 좋은 데코레이터의 예와 그것이 파이썬 자체와 인기 있는 라이브러리엣 어떻게 사용되는지 살펴보자. 이를 통해 좋은 데코레이터를 만드는 방법에 대한 가이드라인을 확인한다.\n",
    "\n",
    "훌륭한 데코레이터가 갖추어야 할 특성은 다음과 같다. \n",
    "\n",
    "* 캡슐화와 관심사의 분리: 좋은 데코레이터는 실제로 하는 일과 데코레이팅이하는 일의 책임을 명확히 구분해야 한다. 어설프게 추상화를 하면 안 된다. 즉 데코레이터의 클라이언트는 내부에서 어떠게 구현했는지 전혀 알 수 없는 블랙박스 모드로 동작해야 한다.\n",
    "\n",
    "* 독립성: 데코레이터가 하는 일은 독립적이어야 하며 데코레이팅되는 객체와 최대한 분리되어야 한다.\n",
    "\n",
    "* 재사용성: 데코레이터는 하나의 함수 인스턴스에만 적용되는 것이 아니라 여러 유형에 적용 가능한 형태가 바람직하다. 왜냐ㅏ면 하나의 함수에만 적용된다면 데코레이터가 아니라 함수로 대신할 수 있기 떄문이다. 충분히 범용적이어야 한다.\n",
    "\n",
    "Celery 프로젝트에서 데코레이터의 좋은 예를 볼 수 있다. Celery 프로젝트에서는 app.task 데코레이터를 함수에 적용하여 작업을 정의한다.\n",
    "\n",
    "@app.task \\\n",
    "def mytask():\\\n",
    "\n",
    "\n",
    "이것이 좋은 데코레이터인 이유 중 하나는 캡슐화가 매우 잘되어 있기 때문이다. 라이브러리 사용자는 함수 본문을 정의하기만 하면 데코레이터가 이를 자동으로 작업으로 변환한다. \"@app.task\" 데코레이터는 많은 로직과 코드를 래핑하지만 아무 것도 \"mytask()\" 본문과 관련이 없다. 완벽한 갭슐화와 관심사의 분리이다. 아무도 그 데코레이터가 하는 일을 살펴볼 필요가 없으므로 어떤 세부 사항도 누설하지 않는 정확한 추상화이다.\n",
    "\n",
    "데코레이터의 또 다른 일반적인 사용 예는 웹 프레임워크(Pyramid, Flask, Sanic)이다. 뷰 핸들러는 데코레이터를 통해 URL로 등록된다.\n",
    "\n",
    "@route(\"/\", method=[\"GET\"])\\\n",
    "def view_handler(request):\n",
    "\n",
    "\n",
    "이러한 종류의 데코레이터는 이전과 동일한 고려 사항이 있다. 이들은 웹 프레임쿼그의 사용자가 \"@route\" 데코레이터가 하는 일을 거의 알지 못하기 때문에 완벽한 캡슐화를 제공한다. 이 경우 우리는 데코레이터가 무엇인가 더 많은 작업을 한다는 것을 알고 있다. 에를 들면 함수를 매퍼에 등록하여 URL에 연결하거나 원래의 함수 서명을 변경하여 HTTP 요철 객체를 수신하여 더 깔끔한 인터페이스를 제공한다."
   ]
  }
 ],
 "metadata": {
  "kernelspec": {
   "display_name": "Python 3",
   "language": "python",
   "name": "python3"
  },
  "language_info": {
   "codemirror_mode": {
    "name": "ipython",
    "version": 3
   },
   "file_extension": ".py",
   "mimetype": "text/x-python",
   "name": "python",
   "nbconvert_exporter": "python",
   "pygments_lexer": "ipython3",
   "version": "3.7.3"
  }
 },
 "nbformat": 4,
 "nbformat_minor": 2
}
