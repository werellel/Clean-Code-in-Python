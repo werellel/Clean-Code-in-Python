{
 "cells": [
  {
   "cell_type": "markdown",
   "metadata": {},
   "source": [
    "### Docstring and Annotation\n",
    "\n",
    "Docstring은 쉽게 말해서 소스 코드에 포함된 문서라고 말할 수 있다.\n",
    "코드에 주석을 다는 것은 나쁜 습관이다. \n",
    "첫번째로 코드로 아이디어를 제대로 표현하지 못함을 나타낸다.\n",
    "두번째로 오해의 소지가 있다. 코드가 어떻게 동작하는지 확인 후 작성하는 것이다.\n",
    "\n",
    "Docstring은 주석을 다는 것이 아니라 코드의 특정 컴포넌트(모듈, 클래스, 메서드 또는 함수)에 대한 문서화이다. \n",
    "Docstring을 코드에 포함시키는 것이 좋은 이유는 파이썬이 동적 타이핑을 하기 때문이다.\n",
    "\n",
    "Docstring은 코드에서 분리되거나 독립된 것이 아니다. \\__doc\\__를 통해 접근이 가능하다."
   ]
  },
  {
   "cell_type": "code",
   "execution_count": 1,
   "metadata": {},
   "outputs": [
    {
     "data": {
      "text/plain": [
       "' 임의의 계산 수행 '"
      ]
     },
     "execution_count": 1,
     "metadata": {},
     "output_type": "execute_result"
    }
   ],
   "source": [
    "def my_function():\n",
    "    \"\"\" 임의의 계산 수행 \"\"\"\n",
    "    return None\n",
    "my_function.__doc__"
   ]
  },
  {
   "cell_type": "markdown",
   "metadata": {},
   "source": [
    "어노테이션의 기본 아이디어는 코드 사용자에게 함수 인자로 어떤 값이 와야 하는지 힌트를 주자는 것이다. 정말 __힌트__를 주는 것이다.\n",
    "\n",
    "어노테이션을 사용해 변수의 예상 탕비을 지정할 수 있다. 실제로 타이 뿐만 아리나 변수를 이해하는데 도움이 되는 어떤 형태의 메타데이터도 올 수 있다."
   ]
  },
  {
   "cell_type": "code",
   "execution_count": 2,
   "metadata": {},
   "outputs": [],
   "source": [
    "class Point:\n",
    "    def __init__(self, lat, long):\n",
    "        self.lat = lat\n",
    "        self.long = long\n",
    "\n",
    "def locate(latitude: float, longitude:float) -> Point:\n",
    "    \"\"\" 맵에서 좌표에 해당하는 객체를 검색 \"\"\""
   ]
  },
  {
   "cell_type": "markdown",
   "metadata": {},
   "source": [
    "어노테이션을 사용하면 \\__annotations__이라는 특수한 속성이 생긴다. 이 속성은 어노테이션의 이름과 값을 매핑한 타입의 값이다.  "
   ]
  },
  {
   "cell_type": "code",
   "execution_count": 3,
   "metadata": {},
   "outputs": [
    {
     "data": {
      "text/plain": [
       "{'latitude': float, 'longitude': float, 'return': __main__.Point}"
      ]
     },
     "execution_count": 3,
     "metadata": {},
     "output_type": "execute_result"
    }
   ],
   "source": [
    "locate.__annotations__"
   ]
  },
  {
   "cell_type": "markdown",
   "metadata": {},
   "source": [
    "변수에 직접 주석을 달 수 있다."
   ]
  },
  {
   "cell_type": "code",
   "execution_count": 4,
   "metadata": {},
   "outputs": [],
   "source": [
    "class Point:\n",
    "    lat: float\n",
    "    long: float\n",
    "        "
   ]
  },
  {
   "cell_type": "code",
   "execution_count": 5,
   "metadata": {},
   "outputs": [
    {
     "data": {
      "text/plain": [
       "{'lat': float, 'long': float}"
      ]
     },
     "execution_count": 5,
     "metadata": {},
     "output_type": "execute_result"
    }
   ],
   "source": [
    "Point.__annotations__"
   ]
  },
  {
   "cell_type": "markdown",
   "metadata": {},
   "source": [
    "어노테이션으로 docstring 대체할 수 있는 부분이 있지만 동적 데이터 타입과 중첩 데이터 타입의 경우 docstring을 통해 예상 데이터의 예제를 제공하여 어떤 형태의 데이터를 다루는지 제공하는 것이 좋다."
   ]
  },
  {
   "cell_type": "markdown",
   "metadata": {},
   "source": [
    "### 기본 품질 향상을 위한 도구 설정\n",
    "\n",
    "반복적인 확인 작업을 줄이기 위해 코드 검사를 자동 실행하는 기본 도구를 설정하는 법을 살펴보자.\n",
    "좋은 코드를 판단할 수 있는 것은 오직 사람이다. 개발자는 코드 리뷰에 시간을 투자하고, 훌륭한 코드가 무엇인지, 얼마나 읽기 쉽고 이해하기 쉬운 코드인지에 대해 고민해야 한다. 동료가 작성한 코드를 살표볼 때는 다음 질문을 해야한다.\n",
    "1. 이 코드를 동료 개발자가 쉽게 이해하고 따라갈 수 있을까?\n",
    "2. 업무 도메인에 대해서 말하고 있는가?\n",
    "3. 팀에 새로 합류하는 사람도 쉽게 이해하고 효과적으로 작업할 수 있을까?\n",
    "\n",
    "이러한 검사를 자동화 해야 한다. 테스트 또는 체크리스트의 일부가 되어 지속적인 통합 빌드의 하나가 되어야 한다. \n",
    "\n",
    "#### Mypy를 사용한 타입 힌팅\n",
    "\n",
    "mypy는 파이썬에서 가장 일반적으로 사용하는 정적 타임 검사 도구이다. \n",
    "\n",
    "프로젝트의 모든 파일을 분석하여 타입 불일치를 검사해준다.\n",
    "\n",
    "버그를 조기에 발견할 수 있기 때문에 유용하지만 가끔은 잘못 탐지하는 경우도 있다.\n",
    "\n",
    "mypy {파일명}을 입력하면 타입 검사 결과를 제공한다. 여기서 보고된 대부분의 내용은 가능한 준수하는 것이 좋다.\n",
    "\n",
    "mypy는 완벽한 도구는 아니다. 따라서 잘못 탐지할 수 있다.\n",
    "\n",
    "아래와 같이 문장 끝에 주석을 추가하여 mypy가 무시하도록 할 수 있다."
   ]
  },
  {
   "cell_type": "code",
   "execution_count": 6,
   "metadata": {},
   "outputs": [],
   "source": [
    "type_to_ignore = 'something' # type: ignore"
   ]
  },
  {
   "cell_type": "markdown",
   "metadata": {},
   "source": [
    "#### Pylint를 사용한 코드 검사\n",
    "\n",
    "코드의 구조를 검사하는 많은 도구가 있다. 기본적으로 PEP-8을 준수했는지 여부를 검사하는 것으로 pycodestyle이나 Flake8 등의 많은 도구가 있다. \n",
    "\n",
    "pip install pylint\n",
    "\n",
    "\n",
    "#### 자동 검사 설정\n",
    "\n",
    "리눅스 개발환겨에서 빌드를 자동화하는 가장 일반적인 방법은 makefile을 사용하는 것이다. 프로젝트를 컴파일하고 실행하기 위한 설정을 도와주는 파워풀한 도구이다. 포매팅 검사나 코딩 컨벤션 검사를 자동화하기 위해 사용할 수도 있다.\n",
    "\n",
    "테스트를 위한 각각 target을 만들고, 이것들을 모두 실행하는 또 다른 target을 만드는 것이다. 예를 들어\n",
    "\n",
    "typehint:\n",
    "\n",
    "mypy src/ test/\n",
    "\n",
    "test:\n",
    "pytest tests/\n",
    "\n",
    "lint:\n",
    "pylint src/ test\n",
    "\n",
    "checklist: lint typehint test\n",
    "\n",
    ".PYONY: typehint test lint checklist\n",
    "\n",
    "Black은 자동으로 코드를 포매팅한다. 예를 들어 문자열에는 항상 쌍따옴표를 사용하고, 파라미터의 형태는 항상 같은 구조를 사용한다. "
   ]
  }
 ],
 "metadata": {
  "kernelspec": {
   "display_name": "Python 3",
   "language": "python",
   "name": "python3"
  },
  "language_info": {
   "codemirror_mode": {
    "name": "ipython",
    "version": 3
   },
   "file_extension": ".py",
   "mimetype": "text/x-python",
   "name": "python",
   "nbconvert_exporter": "python",
   "pygments_lexer": "ipython3",
   "version": "3.7.3"
  }
 },
 "nbformat": 4,
 "nbformat_minor": 2
}
