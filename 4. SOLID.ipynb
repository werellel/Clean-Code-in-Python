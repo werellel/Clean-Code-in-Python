{
 "cells": [
  {
   "cell_type": "markdown",
   "metadata": {},
   "source": [
    "SOLID는 다음을 뜻한다.\n",
    "\n",
    "* S: 단일 책임 원칙\n",
    "* O: 개방 폐쇠 원칙\n",
    "* L: 리스코프 치환 원칙\n",
    "* I: 인터페이스 분리 원칙\n",
    "* D: 의존성 역전 원칙\n",
    "\n",
    "목표는 다음과 같다.\n",
    "\n",
    "* 소프트웨어 디자인에서의 SOLID 원칙을 익힌다.\n",
    "* 단일 책임 원칙을 따르는 컴포넌트를 디자인한다.\n",
    "* 개방 폐쇄의 원칙 통해 보다 유지보수성을 뛰어나게 한다.\n",
    "* 리스코프 치환 원칙을 준수하여 객체지향 디자인에서 적절한 클래스 계층을 설계한다.\n",
    "* 인터페이스 분리와 의존성 역전을 활용해 설계하기\n",
    "\n",
    "### 단일 책임 원칙(Single Responsibility Principle - SRP)\n",
    "\n",
    "SRP는 소프트웨어 컴포넌트(일반적으로 클래스)가 단 하나의 책임을 져야한다는 원칙이다. 클래스가 유일한 책임이 있다는 것은 하나의 구체적인 일을 담당한다는 것을 의미하며, 따라서 변화해야 할 이유는 단 하나뿐이다. \n",
    "\n",
    "도메인의 문제가 변경되면 클래스를 업데이트해야 한다. 다른 이유로 클래스를 수정해야 한다면 추상화가 잘못되어 클래스에 너무 많은 책임이 있다는 것을 뜻한다.\n",
    "\n",
    "어떤 경우에도 여러 책임을 가진 객체를 만들어서는 안 된다. 너무 많은 일을 하는 신(god) 객체를 만들면 서로 다른 행동을 그룹화한 것이기 때문에 유지보수가 어려워진다.\n",
    "\n",
    "다시 말해 클래스는 작을수록 좋다. 소프트웨어 디자인에서 SRP는 응집력과 밀접한 관련이 있다. 여기서 추구하려는 것은 클래스에 있는 프로퍼티와 속성이 항상 메서드를 통해서 사용되도록 하는 것이다. 이렇게 하면 이들은 관련된 개념이기 때문에 동일한 추상화로 묶는 것이 가능하다.\n",
    "\n",
    "어떤 면에서 이런 생각은 관계형 데이터베이스 설계에서의 정규화 개념과 유사하다. \n",
    "\n",
    "클래스의 메서드는 상호 베타적이며 서로 관련이 없어야 하고 따라서 이들은 서로 다른 책임을 가지고 있으므로 더 작은 클래스로 분해할 수 있어야 한다.\n",
    "\n",
    "### 너무 많은 책임을 가진 클래스\n",
    "\n",
    "예제로 로그 파일이나 데이터베이스와 같은 소스에서 이벤트의 정보를 읽어서 로그별로 필요한 액션을 분류하는 애플리케이션을 만들어 볼것이다. \n",
    "\n",
    "아래는 SRP를 준수하지 않은 디자인이다."
   ]
  },
  {
   "cell_type": "code",
   "execution_count": 9,
   "metadata": {},
   "outputs": [],
   "source": [
    "class SystemMonitor:\n",
    "    def load_activity(self):\n",
    "        \"\"\"소스에서 처리할 이벤트를 가져오기\"\"\"\n",
    "        \n",
    "    def identify_events(self):\n",
    "        \"\"\"가져온 데이터를 파싱하여 도메인 객\"\"\"\n",
    "    def load_activity(self):\n",
    "        \"\"\"소스에서 처리할 이벤트를 가져오기\"\"\""
   ]
  },
  {
   "cell_type": "markdown",
   "metadata": {},
   "source": [
    "이 클래스의 문제점은 독립적인 동작을 하는 메서드를 하나의 인터페이스에 정의했다는 것이다. 각각의 동작은 나머지 부분과 독립적으로 수행할 수 있다. \n",
    "\n",
    "이 디자인 결함은 유지보수를 어렵게 하ㅕ 클래스가 경직되고 융통성 없으며 오류가 발생하기 쉽게 만든다. 이 예제에서 각 메서드는 클래스의 책임을 대표한다. 각각의 책임마다 수정 사유가 발생한다. 즉 메서드마다 다양한 변경의 필요성이 생기게 된다.\n",
    "\n",
    "소스에서 정보를 가져오는 로더(loader) 메서드를 생각해보자. 추상화를 할 것이므로 실제 어떻게 구현했는지는 중요하지 않다. 만약 데이터 구조를 바꾸는 등의 이유로 이 중에 어떤 것이라도 수정해야 한다면 SystemMonitor 클래스를 변경해야 한다. 데이터의 표현이 변경되었다고 해서 시스템 모니터링하는 객체를 변경해서는 안된다.\n",
    "\n",
    "동일한 추론이 다른 두 가지 메서드에도 적용된다. 이벤트를 인식하는 방법이나 전달하는 방법을 변경하면 마찬가지로 클래스를 변경해야 한다.\n",
    "\n",
    "### 책임 분산\n",
    "\n",
    "솔루션을 보다 관리하게 쉽게 하기 위해 모든 메서드를 다른 클래스로 분리하여 각 클래스마다 단일 책임을 갖게 하자.\n",
    "\n",
    "각자의 책임을 가진 여러 객체로 만들고, 이들 객체들과 협력하여 동일한 기능을 수행하는 객체를 만들 수 있다. 각 클래스가 딱 하나의 메서드를 가져야 한다는 것을 뜻하는 것은 아니다. 처리해야 할 로직이 같은 경우 하나의 클래스에 여러 메서드를 추가할 수 있다."
   ]
  },
  {
   "cell_type": "markdown",
   "metadata": {},
   "source": [
    "## 개방/폐쇄 원칙(Open/Close Principle - OCP)\n",
    "\n",
    "클래스를 디자인할 때는 유지보수가 쉽도록 로직을 캡슐화하여 확장에는 개방되고 수정에는 폐쇄되도록 해야 한다.\n",
    "\n",
    "간단히 말해서 확장 가능하고, 새로운 요구사항이나 도메인 변화에 잘 적응하는 코드를 작성해야 한다는 뜻이다. 새로운 문제가 발생할 경우 새로운 것을 추가만 할 뿐 기존 코드는 그대로 유지해야 한다는 뜻이다. \n",
    "\n",
    "새로운 기능을 추가하다가 기존 코드를 수정했다면 그것은 기존 로직이 잘못 디자인되었다는 것을 뜻한다. 요구사항이 변경되면 새로운 기능을 구현하기 위한 모듈만 확장을 하고 기존 코드는 수정을 하면 안 된다.\n",
    "\n",
    "### 개방/폐쇄 원칙을 따르지 않을 경우 유지보수의 어려움\n",
    "\n",
    "예제에는 다른 시스템에서 발생하는 이벤트를 분류하는 기능을 가지고 있다. 각 컴포넌트는 수집한 데이터를 기반으로 어떤 타입의 이벤트인지 정확히 분류를 해야 한다. 단순함을 위해 데이터는 사전 형태로 저장되어 있고 록나 쿼리 등의 방법으로 이미 데이터를 수집했다고 가정한다. 이 데이터를 기반으로 고유한 계층구조를 가진 다른 이벤트로 분류한다."
   ]
  },
  {
   "cell_type": "code",
   "execution_count": 10,
   "metadata": {},
   "outputs": [],
   "source": [
    "class Event:\n",
    "    def __init__(self, raw_data):\n",
    "        self.raw_data = raw_data\n",
    "        \n",
    "class UnknownEvent(Event):\n",
    "    \"\"\"데이터만으로 식별할 수 없는 이벤트\"\"\"\n",
    "    \n",
    "class LoginEvent(Event):\n",
    "    \"\"\"로그인 사용자에 의한 이벤트\"\"\"\n",
    "    \n",
    "class LogoutEvent(Event):\n",
    "    \"\"\"로그아웃 사용자에 의한 이벤트\"\"\"\n",
    "\n",
    "class SystemMonitor:\n",
    "    \"\"\"시스템에서 발생한 이벤트 분류\"\"\"\n",
    "    \n",
    "    def __init__(self, event_data):\n",
    "        self.event_data = event_data\n",
    "    \n",
    "    def identify_event(self):\n",
    "        if (\n",
    "            self.event_data[\"before\"][\"session\"] == 0\n",
    "            and self.event_data[\"after\"][\"session\"] == 1\n",
    "        ):\n",
    "            return LoginEvent(self.event_data)\n",
    "        elif (\n",
    "            self.event_data[\"before\"][\"session\"] == 1\n",
    "            and self.event_data[\"after\"][\"session\"] == 0\n",
    "        ):\n",
    "            return LogoutEvent(self.event_data)\n",
    "        \n",
    "        return UnknownEvent(self.event_data)"
   ]
  },
  {
   "cell_type": "code",
   "execution_count": 11,
   "metadata": {},
   "outputs": [
    {
     "data": {
      "text/plain": [
       "'LoginEvent'"
      ]
     },
     "execution_count": 11,
     "metadata": {},
     "output_type": "execute_result"
    }
   ],
   "source": [
    "l1 = SystemMonitor({\"before\":{\"session\":0}, \"after\":{\"session\":1}})\n",
    "l1.identify_event().__class__.__name__"
   ]
  },
  {
   "cell_type": "code",
   "execution_count": 12,
   "metadata": {},
   "outputs": [
    {
     "data": {
      "text/plain": [
       "'LogoutEvent'"
      ]
     },
     "execution_count": 12,
     "metadata": {},
     "output_type": "execute_result"
    }
   ],
   "source": [
    "l2 = SystemMonitor({\"before\":{\"session\":1}, \"after\":{\"session\":0}})\n",
    "l2.identify_event().__class__.__name__"
   ]
  },
  {
   "cell_type": "code",
   "execution_count": 13,
   "metadata": {},
   "outputs": [
    {
     "data": {
      "text/plain": [
       "'UnknownEvent'"
      ]
     },
     "execution_count": 13,
     "metadata": {},
     "output_type": "execute_result"
    }
   ],
   "source": [
    "l3 = SystemMonitor({\"before\":{\"session\":1}, \"after\":{\"session\":1}})\n",
    "l3.identify_event().__class__.__name__"
   ]
  },
  {
   "cell_type": "markdown",
   "metadata": {},
   "source": [
    "이벤트 유형의 계층 구조와 이를 구성하는 일부 비즈니스 로직을 명확하게 알 수 있다. 예를 들어 세션에 플래그가 없었지만 지금은 있는 경우 LoginEvent로 식별한다. 반대의 값이면 LogoutEvent로 식별한다. 이벤트를 식별할 수 없는 경우 UnknownEvent를 반환한다. 이것은 None을 반환하는 대신 기본 로직을 가진 null 객체를 반환하는 패턴으로 다형성을 보장하기 위한 것이다.\n",
    "\n",
    "이 디자인에는 몇 가지 문제점이 있다. 첫 번째 문제는 이벤트 유형을 결정하는 논리가 일체형으로 중앙 집중화된다는 점이다. 지원하려는 이벤트가 늘어날수록 메서드도 커질 것이므로 결국 매우 큰 메서드가 될 수 있다. 한 가지 일만 하는 것도 아니고 한 가지 일을 제대로 하지도 못한다. \n",
    "\n",
    "같은 방법으로 이 메서드가 수정을 위해 닫히지 않았다는 것을 알 수 있다. 새로운 유형의 이벤트를 시스템에 추가할 때마다 메서드를 수정해야 한다(물론 elif 명령문 체인은 가독성 측면에서 최악이다!)\n",
    "\n",
    "이 메서드를 변경하지 않고도 새로운 유형의 이벤트를 추가하고 싶다(폐쇄 원칙). 새로운 이벤트가 추가될 때 이미 존재하는 코드를 변경하지 않고 코드를 확장하여 새로운 유형의 이벤트를 지원하고 싶다(개방 원칙).\n",
    "\n",
    "### 확장성을 가진 이벤트 시스템으로 리팩토링 "
   ]
  },
  {
   "cell_type": "markdown",
   "metadata": {},
   "source": [
    "이젠 예제의 문제점은 SystemMonitor 클래스가 분류하려는 구체 클래스와 직접 상호 작용한다는 점이다.  개방/폐쇄 원칙을 따르는 디자인을 달성하려면 추상화를 해야 한다.\n",
    "\n",
    "대안은 SystemMonitor 클래스를 추상적인 이벤트와 협력하도록 변경하고, 이벤트에 대응하는 개별 로직은 각 이벤트 클래스에 위임하는 것이다.\n",
    "\n",
    "그런 다음 각각의 이벤트에 다형성을 가진 새로운 메서드를 추가해야 한다. 이 메서드는 전달되는 데이터가 해당 클래스의 타입과 일치하는지 판단하는 역할을 한다. 또한 기존 분류 로직을 수정하여 이 메서듣 사용해 전체 이벤트를 돌면서 검사하도록 해야 한다."
   ]
  },
  {
   "cell_type": "code",
   "execution_count": 14,
   "metadata": {},
   "outputs": [],
   "source": [
    "class Event:\n",
    "    def __init__(self, raw_data):\n",
    "        self.raw_data = raw_data\n",
    "    \n",
    "    @staticmethod\n",
    "    def meets_condition(event_data: dict):\n",
    "        return False\n",
    "\n",
    "class UnknownEvent(Event):\n",
    "    \"\"\"데이터만으로 식별할 수 없는 이벤트\"\"\"\n",
    "\n",
    "class LoginEvent(Event):\n",
    "    @staticmethod\n",
    "    def meets_condition(event_data: dict):\n",
    "        return (\n",
    "            event_data[\"before\"]['session'] == 0\n",
    "            and event_data[\"after\"]['session'] == 1\n",
    "        )\n",
    "    \n",
    "class LogoutEvent(Event):\n",
    "    @staticmethod\n",
    "    def meets_condition(event_data: dict):\n",
    "        return (\n",
    "            event_data[\"before\"]['session'] == 1\n",
    "            and event_data[\"after\"]['session'] == 0\n",
    "        )\n",
    "    \n",
    "class SystemMonitor:\n",
    "    \"\"\"시스템에서 발생한 이벤트 분류\"\"\"\n",
    "    \n",
    "    def __init__(self, event_data):\n",
    "        self.event_data = event_data\n",
    "    \n",
    "    def identify_event(self):\n",
    "        for event_cls in Event.__subclasses__():\n",
    "            try:\n",
    "                if event_cls.meets_condition(self.event_data):\n",
    "                    return event_cls(self.event_data).__class__.__name__\n",
    "#                     return event_cls(self.event_data)\n",
    "            except KeyError:\n",
    "                continue\n",
    "        return UnknownEvent(self.event_data)"
   ]
  },
  {
   "cell_type": "markdown",
   "metadata": {},
   "source": [
    "이제 상호 작용이 추상화를 통해 이뤄지고 있음에 주목하자(이 경우 Event는 제네릭 또는 추상 클래스이거나 인터페이스가 될 수 있지만 설명을 간단하게 하기 위해 구체 클래스를 사용한다). 분류 메서드는 이제 특정 이벤트 타입 대신에 일반적인 인터페이스를 따르는 제네릭 이벤트와 동작한다. 이 인터페이스를 따르는 제네릭들은 모두 meets_condition 메서드를 구현하여 다형성을 보장한다.\n",
    "\n",
    "\\__subclasses__() 메서드를 사용해 이벤트 유형을 찾는 것에 주목하자. 이제 새로운 유형의 이벤트를 지원하려면 단지 Event 클래스를 상속 받아 비즈니스 로직에 따라 meets_condition() 메서드를 구현하기만 하면 된다."
   ]
  },
  {
   "cell_type": "code",
   "execution_count": 32,
   "metadata": {},
   "outputs": [
    {
     "name": "stdout",
     "output_type": "stream",
     "text": [
      "LogoutEvent\n"
     ]
    }
   ],
   "source": [
    "sysmon = SystemMonitor({\"before\":{\"session\":1}, \"after\":{\"session\":0}})\n",
    "print(sysmon.identify_event())"
   ]
  },
  {
   "cell_type": "code",
   "execution_count": 45,
   "metadata": {},
   "outputs": [
    {
     "name": "stdout",
     "output_type": "stream",
     "text": [
      "['__class__', '__delattr__', '__dict__', '__dir__', '__doc__', '__eq__', '__format__', '__ge__', '__getattribute__', '__gt__', '__hash__', '__init__', '__init_subclass__', '__le__', '__lt__', '__module__', '__ne__', '__new__', '__reduce__', '__reduce_ex__', '__repr__', '__setattr__', '__sizeof__', '__str__', '__subclasshook__', '__weakref__', 'meets_condition']\n"
     ]
    }
   ],
   "source": [
    "# print(Event.__subclasses__())\n",
    "print(dir(Event))"
   ]
  },
  {
   "cell_type": "markdown",
   "metadata": {},
   "source": [
    "### 이벤트 시스템 확장\n",
    "\n",
    "이제 이 디자인이 실제로 원하는 대로 확장 가능하다는 것을 증명해보자. 새로운 요구사항이 생겨서 모니터링 중인 시스템의 사용자 트랜잭션에 대응하는 이벤트를 지원해야 한다고 가정해보자. \n",
    "\n",
    "TransactionEvent라는 새로운 클래스를 추가하는 것만으로 기존 코드가 예상한 대로 잘 동작한다. "
   ]
  },
  {
   "cell_type": "code",
   "execution_count": 46,
   "metadata": {},
   "outputs": [],
   "source": [
    "class TransactionEvent(Event):\n",
    "    \"\"\"시스템에서 발생한 트랜잭션 이벤트\"\"\"\n",
    "    @staticmethod\n",
    "    def meets_condition(event_data:dict):\n",
    "        return event_data[\"after\"].get(\"transaction\") is not None"
   ]
  },
  {
   "cell_type": "code",
   "execution_count": 47,
   "metadata": {},
   "outputs": [
    {
     "data": {
      "text/plain": [
       "'TransactionEvent'"
      ]
     },
     "execution_count": 47,
     "metadata": {},
     "output_type": "execute_result"
    }
   ],
   "source": [
    "l4 = SystemMonitor({\"after\": {\"transaction\":\"Txoo1\"}})\n",
    "l4.identify_event()"
   ]
  },
  {
   "cell_type": "markdown",
   "metadata": {},
   "source": [
    "새 이벤트를 추가했지만 SystemMonitor.identify_event() 메서드는 전혀 수정하지 않은 것에 주목하자. 따라서 이 메서드가 새로운 유형의 이벤트에 대해서 폐쇄되어 있다고 말할 수 있다.\n",
    "\n",
    "반대로 Event 클래스는 필요할 때마다 새로운 유형의 이벤트를 추가할 수 있게 해준다. 따라서 이벤트는 새로운 타입의 확장에 대해 개방되어 있다고 말할 수 있다.\n",
    "\n",
    "이것이 바로 이 원칙의 진정한 본질이다. 도메인에 새로운 문제가 나타나도 기존 코드를 수정하지 않고 새 코드를 추가하기만 하면 된다.\n",
    "\n",
    "### OCP 최종 정리\n",
    "\n",
    "이미 눈치 챘겠지만 이 원칙은 다형성의 효과적인 사용과 밀접하게 관련되어 있다. 다형성을 따르는 형태의 계약을 만들고 모델을 쉽게 확장할 수 있는 일반적인 구조로 디자인하는 것이다. \n",
    "\n",
    "이 원칙은 소프트웨어 엔지니어링의 중요한 문제인 유지보수성에 대한 문제를 해결한다. OCP를 따르지 않으면 파급 효과가 생기거나 작은 변경이 코드 전체에 영향을 미치거나 다른 부분을 손상시키게 된다.\n",
    "\n",
    "마지막 중요한 요점은 코드를 변경하지 않고 기능을 확장하기 위해서는 보호하려는 추상화에 대해서 적절한 폐쇄를 해야 한다는 것이다. 일부 추상화의 경우 충돌이 발생할 수 있기 때문에 모든 프로그램에서 이 원칙을 적용하는 것이 가능한 것은 아니다. "
   ]
  },
  {
   "cell_type": "markdown",
   "metadata": {},
   "source": [
    "### 리스코프 치환 원칙(LSP)\n",
    "\n",
    "리스코프 치환 원칙은 설계 시 안정성을 유지하기 위해 객체 타입이 유지해야하는 일련의 특성을 말한다.\n",
    "\n",
    "LSP의 주된 생각은 어떤 클래스에서든 클라이언트는 특별한 주의를 기울이지 안고도 하위 타입을 사용할 수 있어야 한다는 것이다. 어떤 하위 타입을 사용해도 실행에 따른 결과를 염려하지 않아야 한다. 즉, 클라이언트는 완전히 분리되어 있으며 클래스 변경 사항과 독립되어야 한다.\n",
    "\n",
    "좀 더 공식적으로 리스코프 치환 원칙의 원래 정의는 다음과 같다. 만약 S가 T의 하위 타입이라면 프로그램을 변경하지 않고 T 타입의 객체를 S 타입의 객체로 치환 가능해야 한다.\n",
    "\n",
    "이것은 다음과 같은 일반적인 다이어그램을 사용해서 이해할 수 있다. 여러 타입의 객체를 사용하는 클라이언트 클래스가 있다고 상상해보자. 일반적으로 이 클라이언트가 어떤 타입, 즉 인터페이스를 통해객체와 상호 작용하기를 원할 것이다.\n",
    "\n",
    "이 타입은 행위를 가진 클래스가 아니라 제네릭 인터페이스 정의일 뿐 아니라 추상 클래스 또는 인터페이스일 수 있다. 이 타입을 확장하는 여러 하위 타입이 있을 수 있다. 이 원칙의 배경은 계층 구조가 올바르게 구현되었다면 클아이언트 클래스가 주의를 기울이지 않고도 모든 하위 클래스의 인스턴스로 작업할 수 있어야한다는 것이다. 이러한 개체는 서로 바꿔서 사용할 수 있다.\n",
    "\n",
    "이는 이미 살펴본 인터페이스 디자인과 관련이 있다. 좋은 클래스는 명확하고 간결한 인터페이스를 가지고 있으며, 하위 클래스가 해당 인터페이스를 따르는 한 프로그램은 정상적으로 동작한다. \n",
    "\n",
    "결론적으로 이 원칙은 계약을 통한 설계와도 관련이 있다. 주어진 타입과 클라이언트 사이에는 계약이 필요하다. LSP의 규칙에 따르면 하위 클래스는 상위 클래스에서 정의한 계약을 따르도록 디자인해야 한다. \n",
    "\n",
    "### 도구를 사용해 LSP 문제 검사하기\n",
    "\n",
    "악명 높은 LSP 문제를 Mypy나 Pylint 같은 도구를 사용해 쉽게 검출할 수 있다.\n",
    "\n",
    "### 메서드 서명의 잘못된 데이터타입 검사\n",
    "\n",
    "코드 전체에 타입 어노테이션을 사용했고 Mypy를 설정했다면 초기에 기본 오류 여부와 LSP 준수 여부를 빠르게 확인할 수 있다. Event 클래스의 하위 클래스 중 하나가 호환되지 않는 방식으로 메서드를 재정의하면 Mypy는 어노테이션을 검사하여 이를 확인한다."
   ]
  },
  {
   "cell_type": "code",
   "execution_count": 48,
   "metadata": {},
   "outputs": [],
   "source": [
    "class Event:\n",
    "    def meets_condition(self, event_data:dict) -> bool:\n",
    "        return False\n",
    "\n",
    "class LoginEvent(Event):\n",
    "    def meets_condition(self, event_data: list) -> bool:\n",
    "        return bool(event_data)"
   ]
  },
  {
   "cell_type": "markdown",
   "metadata": {},
   "source": [
    "LSP 위반의 기준은 명확하다. 파생 클래스가 부모 클래스에서 정의한 파라미터와 다른 타입을 사용했기 때문에 다르게 동작한다. 이 원칙에 따르면 호출자는 아무런 차이를 느끼지 않고 투명하게 Event 또는 LoginEvent를 사용할 수 있어야 한다. 이 두 가지 타입의 객체를 치환해도 애플리케이션 실행에 실패해서는 안 된다. 그렇지 않다면 계층 구조의 다형성이 손상된 것이다.\n",
    "\n",
    "반환 값을 부울 값이 아닌 다른 값으로 변경해도 동일한 오류가 발생한다. \n",
    "\n",
    "### Pylint로 호환되지 않는 서명 검사\n",
    "\n",
    "또 다른 LSP 위반 사례는 계층의 파라미터 타입이 다른 것이 아니라 메서드의 서명 자체가 완전히 다른 경우이다. 이것은 아주 큰 실수처럼 보이지만 탐지하는 것은 쉽지 않다. \n",
    "\n",
    "다음과 같이 계층 구조의 화환성을 깨는 클래스가 있다고 가정해보자. 메서드의 서명을 변경하거나 파라미터를 추가하는 등의 차이가 있는 경우이다. "
   ]
  },
  {
   "cell_type": "code",
   "execution_count": 51,
   "metadata": {},
   "outputs": [],
   "source": [
    "class LogoutEvent(Event):\n",
    "    def meets_condition(self, event_data:dict, override:bool) -> bool:\n",
    "        if override:\n",
    "            return True"
   ]
  },
  {
   "cell_type": "markdown",
   "metadata": {},
   "source": [
    "### 애매한 LSP 위반 사례\n",
    "\n",
    "애매한 LSP 위반은 자동화된 도구로 검사하기 애매할 수 있다. 이런 경우는 코드 리뷰를 하면서 자세히 코드를 살펴볼 수 밖에 없다. 이전에 정의한 이벤트 계층구조를 이제는 LSP와 DbC 간의 관계를 보여주기 위해 변경해보자. \n",
    "\n",
    "사전조건에서 파라미터가 사전 타입인지, 그리고 before와 after 키를 가지고 있는지 확인한다. before와 after 키의 값은 또 다시 객체를 내포해야 한다. 이렇게 하면 클라이언트는 KeyError를 받지 않으므로 보다 발전된 캡슐화를 할 수 있다. 그저 사전조건 체크메서드만 호출하면 되기 때문이다. "
   ]
  },
  {
   "cell_type": "code",
   "execution_count": 18,
   "metadata": {},
   "outputs": [],
   "source": [
    "class Event:\n",
    "    def __init__(self, raw_data):\n",
    "        self.raw_data = raw_data\n",
    "    \n",
    "    @staticmethod\n",
    "    def meets_condition(event_data: dict):\n",
    "        return False\n",
    "    \n",
    "    @staticmethod\n",
    "    def meets_condition_pre(event_data: dict):\n",
    "        \"\"\"인터페이스 계약의 사전조건 ''event_data'' 파라미터가 적절한 형태인지 유효성 검사\"\"\"\n",
    "        \n",
    "        assert isinstance(event_data, dict), f\"{event_data!r} is not dict\"\n",
    "        for moment in (\"before\", \"after\"):\n",
    "            assert moment in event_data, f\"{moment} not in {event_data}\"\n",
    "            assert isinstance(event_data[moment], dict)"
   ]
  },
  {
   "cell_type": "markdown",
   "metadata": {},
   "source": [
    "이제 올바른 이벤트 유형을 탐지하기 전에 사전조건을 먼저 검사한다."
   ]
  },
  {
   "cell_type": "code",
   "execution_count": 41,
   "metadata": {},
   "outputs": [],
   "source": [
    "class SystemMonitor:\n",
    "    \"\"\"시스템에서 발생한 이벤트 분류\"\"\"\n",
    "    \n",
    "    def __init__(self, event_data):\n",
    "        self.event_data = event_data\n",
    "    \n",
    "    def identify_event(self):\n",
    "        Event.meets_condition_pre(self.event_data)\n",
    "        event_cls = next((event_cls   for event_cls in Event.__subclasses__() if event_cls.meets_condition(self.event_data)), UnknownEvent)\n",
    "        return event_cls(self.event_data)"
   ]
  },
  {
   "cell_type": "code",
   "execution_count": 42,
   "metadata": {},
   "outputs": [],
   "source": [
    "class TransactionEvent(Event):\n",
    "    \"\"\"시스템에서 발생한 이벤트 분류\"\"\"\n",
    "    \n",
    "    @staticmethod\n",
    "    def meets_condition(event_data:dict):\n",
    "        return event_data[\"after\"].get(\"transaction\") is not None"
   ]
  },
  {
   "cell_type": "markdown",
   "metadata": {},
   "source": [
    "대괄호 대신 get() 메서드로 수정하여 KeyError 처리하였고 이를 통해 다형성을 유지할 수 있다."
   ]
  },
  {
   "cell_type": "code",
   "execution_count": 43,
   "metadata": {},
   "outputs": [
    {
     "name": "stdout",
     "output_type": "stream",
     "text": [
      "<class 'generator'>\n"
     ]
    },
    {
     "data": {
      "text/plain": [
       "'UnknownEvent'"
      ]
     },
     "execution_count": 43,
     "metadata": {},
     "output_type": "execute_result"
    }
   ],
   "source": [
    "l4 = SystemMonitor({\"before\":{}, \"after\":{\"tran11saction\":\"Tx001\"}})\n",
    "l4.identify_event().__class__.__name__"
   ]
  },
  {
   "cell_type": "code",
   "execution_count": 55,
   "metadata": {},
   "outputs": [],
   "source": [
    "gen = (( i for i in range(3) ))\n",
    "next(gen)"
   ]
  },
  {
   "cell_type": "markdown",
   "metadata": {},
   "source": [
    "### LSP 최종 정리 \n",
    "LSP는 객체지향 소프트웨어 설계의 핵심이 되는 다형성을 강조하기 때문에 좋은 디자인의 기초가 된다. 인터페이스의 메서드가 올바른 계층구조를 갖도록 하여 상속된 클래스가 부모 클래스와 다형성을 유지하도록 하는 것이다.\n",
    "\n",
    "이 원리가 이전의 원리와 어떻게 관련되어 있는지 주목하는 것도 흥미롭다. 새로운 클래스가 원래의 계약과 호환되지 않는 확장을 하려고 하면 클라이언트와의 계약이 깨져서 결과적으로 ㄱ러한 확장이 가능하지 않을 것이다. 또는 확장을 가능하게 하려면 수정에 대해 폐쇄되어야 한다는 원칙을 깨야 한다.\n",
    "\n",
    "LSP에서 제안하는 방식으로 신중하게 클래스를 디자인하면 계층을 올바르게 확장하는데 도움이 된다. 즉, LSP가 OCP에 기여한다고 말할 수 있다."
   ]
  },
  {
   "cell_type": "markdown",
   "metadata": {},
   "source": [
    "### 인터페이스 분리 원칙(Interface Segregation Principle)\n",
    "\n",
    "인터페이스 분리 원칙은 이미 반복적으로 재검토했던 \"작은 인터페이스\"에 대한 가이드라인을 제공한다.\n",
    "\n",
    "객체 지향적인 용어로 인터페이스는 객체가 노출하는 메서드의 집합이다. 즉 객체가 수신하거나 해석할 수 있는 모든 메시지가 인터페이스를 구성하며, 이것들은 다른 클라이언트에서 호출할 수 있는 요청들이다. 인터페이스는 클래스에 노출된 동작의 정의와 구현을 분리한다.\n",
    "\n",
    "파이썬에서 인터페이스는 클래스 메서드의 형태를 보고 암시적으로 정의된다. 이것은 파이썬이 소위 말하는 덕 타이핑 원리를 따르기 때문이다. \n",
    "\n",
    "덕 타이핑은 모든 객체가 자신이 가지고 있는 메서드와 자신이 할 수 있는 일에 의해서 표현된다는 점에서 출발한다. 즉 클래스의 유형, 이름, docstring, 클래스 속성 또는 인스턴스 속성에 관계없이 객체의 본질을 정의하는 것은 궁극적으로 메서드의 형태이다. 클래스의 메서드는 실제로 그 객체가 무엇인지 결정한다. \n",
    "\n",
    "덕 타이핑 : \"어떤 새가 오리처럼 걷고 오리처럼 꽥꽥 소리를 낸다면 오리여야만 한다.\"는 데서 유래되었다.\n",
    "\n",
    "오랫동안 덕 타이핑은 파이썬에서 인터페이스를 정의하는 유일한 방법이었다. 파이썬 3(PEP 319)에서 인터페이스를 다른 방식으로 정의하는 추상 기본 클래스 개념을 도입했다. 추상 기본 클래스는 파생 클래스가 구현해야 할 일부분을 기본 동작 또는 인터페이스로 정의하는 것이다. 이는 특정 중요 메서드가 실제로 재정의 되었는지 확인이 필요할 때 유용하며 isinstance()와 같은 메서드의 기능을 재정의 하거나 확장하는 매커니즘으로도 작동한다.\n",
    "\n",
    "또안 이 모듈에는 가상 하위 클래스라는 타입을 계층구조에 등록하는 기법이 포함되어 있다. 이것은 오리와 같이 걷고, 오리와 같이 소리를 내는 등 오리의 새로운 기준을 추가함으로써 덕 타이핑의 개념을 조금 더 확장하는 것이다.\n",
    "\n",
    "파이썬이 인터페이스를 어떻게 해석하는지에 대한 이러한 개념은 이번 원리와 다음 원리를 이해하는데 중요하다.\n",
    "\n",
    "추상적으로 말하자면 ISP는 다음을 뜻한다. 다중 메서드를 가진 인터페이스가 있다면 매우 정확하고 구체적인 구분에 따라 더 적은 수의 메서드를 가진 여러 개의 메서드로 분할하는 것이 좋다는 것이다. 재사용성을 높이기 위해 가능한 작은 단위로 인터페이스를 분리한다면 인터페이스 중 하나를 구현하려는 각 클래스가 매우 명확한 동작과 책임을 지니기 때문에 응집력이 높아진다.\n",
    "\n",
    "### 너무 많은 일을 하는 인터페이스\n",
    "\n",
    "여러 데이터 소스에서 이벤트를 파싱하는 인터페이스를 가정해보자. 예를 들면 XML과 JSON 모팻의 뎅터를 파싱하는 경우이다. 구체적인 클래스 대신 다음과 같은 인터페이스에 종속성이 있다고 하자.\n"
   ]
  },
  {
   "cell_type": "code",
   "execution_count": 59,
   "metadata": {},
   "outputs": [],
   "source": [
    "class EventParser:\n",
    "    def __init__(self):\n",
    "        pass\n",
    "    \n",
    "    def from_xml(self):\n",
    "        pass\n",
    "    \n",
    "    def from_json(self):\n",
    "        pass"
   ]
  },
  {
   "cell_type": "markdown",
   "metadata": {},
   "source": [
    "이것을 인터페이스로 만들려면 파이썬에서는 추상 기본 클래스를 만드로 from_xml()과 from_json()이라는 메서드를 정의한다. 이 추상 기본 클래스를 상속한 이벤트는 구체적인 유형의 이벤트를 처리할 수 있도록 이 메서드들을 구현해야만 한다.\n",
    "\n",
    "그러나 어떤 클래스는 XML 메서드를 필요로 하지 않고 JSON으로만 구서알 수 있다면 어떨까? 그럼에도 여전히 인터페이스에서는 필요하지 않은 from_xml() 메서드를 제공할 것이다. 이것은 매우 결합력을 높여 유연성을 떨어뜨리며 클라이언트가 필요하지도 않은 메서드를 구현하도록 한다. \n",
    "\n",
    "### 인터페이스는 작을수록 좋다.\n",
    "\n",
    "앞의 인터페이스는 각각 하나의 메서드를 가진 두 개의 인터페이스로 분리하는 것이 좋다."
   ]
  },
  {
   "cell_type": "code",
   "execution_count": 62,
   "metadata": {},
   "outputs": [],
   "source": [
    "class XMLEventParser:\n",
    "    def __init__(self):\n",
    "        pass\n",
    "    \n",
    "    def from_xml(self):\n",
    "        pass\n",
    "    \n",
    "class JSONEventParser:\n",
    "    def __init__(self):\n",
    "        pass\n",
    "    \n",
    "    def from_json(self):\n",
    "        pass"
   ]
  },
  {
   "cell_type": "markdown",
   "metadata": {},
   "source": [
    "이 디자인을 사용하면 XMLEventParser에서 파생된 클래스는 from_xml() 메서드만을 구현하면 되고, 마찬가지로 JSONEventParser에서 파생된 클래스는 from_json() 메서드만을 구현하면 된다. 이것만으로 XML과 JSON을 다룰 수 있다. 무엇보다 중요한 것은 이 둘이 독립성을 유지하게 되었고, 새로운 작은 객체를 사용해 모든 기능을 유연하게 조합할 수 있게 되었다는 점이다.\n",
    "\n",
    "SRP와 유사하지만 주요 차이점은 ISP는 인터페이스에 대해 이야기하고 있다는 점이다. 따라서 이것은 행동의 추상화이다. 인터페이스가 실제로 구현될 때 까지는 아무 것도 정해진 것이 없으므로 변경할 이유가 없다. 그러나 이 원칙을 준수하지 않으면 별개의 기능이 결합된 인터페이스를 만들게 된다. 이렇게 상속된 클래스는 SRP 또한 준수할 수 없게 된다. 클래스를 변경해야 할 이유가 두 가지 이상이 되기 때문이다."
   ]
  },
  {
   "cell_type": "markdown",
   "metadata": {},
   "source": [
    "### 인터페이스는 얼마나 작아야 할까?\n",
    "\n",
    "추상 클래스이든 아니든 기본 클래스는 다른 클래스들이 확장할 수 있도록 인터페이스를 정의한다. 응집력의 관점에서 가능한 단 한가지 일을 수행하는 작은 인터페이스여야 한다. 그렇다고 반드시 딱 한 가지 메섣만 있어야 한다는 뜻은 아니다. 앞의 예제에서는 두 메서드가 완전히 관련이 없었기 떄문에 다른 클래스로 분리하는 것이 합리적이었다. \n",
    "\n",
    "그러나 하나 이상의 메서드라 하더라도 적절하게 하나의 클래스에 속해 있을 수 있다. 컨텍스트 관리자를 추상화한 미스인 클래스를 제공한다고 가정하면 이 믹스인 클래스를 상속받은 클래스는 공짜로 컨텍스트 관리자의 기능을 얻게 된다. 이미 알고 있듯이 컨텍스트 관리자는 \\__enter__와 \\__exit__ 두 가지 메서드를 필요로 한다. 이 둘이 함께 제공되지 않으면 컨텍스트 관리자가 안된다.\n",
    "\n",
    "### 의존성 역전(DIP)\n",
    "\n",
    "의존성 역전 원칙은 코드가 깨지거나 손상되는 취약점으로부터 보호해주는 흥미로운 디자인 원칙을 제시한다. 의존성을 역전시킨다는 것은 코드가 세부 사항이나 구체적인 구현에 적응하도록 하지 않고, 대신에 API 같은 것에 적응하도록 하는 것이다.\n",
    "\n",
    "추상화를 통해 세부 사항에 의존하지 않도록 해야 하지만, 반대로 세부 사항(구체적인 구현)은 추상화에 의존해야 한다. \n",
    "\n",
    "A와 B 두 객체가 상호 교류를 한다고 생각해보자. A는 B의 인스턴스를 사용하지만 우리가 B 모듈을 직접 관리하지는 않는다. 외부 라이브러리 또는 다른 팀의 모듈 등을 사용하는 경우이다. 만약 코드가 B에 크게 의존하면 B코드가 변경되면 원래의 코드는 쉽게 깨지게 된다. 이를 방지하기 위해서 의존성을 거꾸로 뒤집어서 역전시켜야 한다. 즉 B가 A에 적응해야 한다. 이렇게 하려면 인터페이스를 개발하고 코드가 B의 구체적인 구현에 의존하지 않도록 해야 한다. 대신에 정의한 인터페이스에 의존적이도록 해야 한다. 해당 인터페이스를 준수하는 것은 B의 책임이다.\n",
    "\n",
    "이전에 살펴본 것처럼 추상화는 인터페이스 형태로 제공된다. 파이썬에서는 추상 기본 클래스의 형태로 제공된다.\n",
    "\n",
    "일반적으로 구체적인 구현이 추상 컴포넌트보다 훨씬 더 자주 바뀔 것이다. 이런 이유로 시스템이 변경, 수정 또는 확장될 것으로 예상되는 지점에 유연성을 확보하기 위해 추상화(인터페이스 사용)를 하는 것이다. \n",
    "\n",
    "### 엄격한 의존의 예\n",
    "\n",
    "이벤트 모니터링 시스템의 마지막 부분은 식별된 이벤트를 데이터 수집기로 전달하여 분석하는 것이었다. 단순하게 구현해보자면 데이터를 목표지에 전송하는 이벤트 전송 클래스 Syslog를 만들면 된다.\n",
    "\n",
    "그러나 이것은 저수준의 내용에 따라 고수준의 클래스가 변경되어야 하므로 별로 좋은 디자인이 아니다. 만약 Syslog로 데이터를 보내는 방식이 변경되면 EventStreamer를 수정해야 한다. 만약 다른 데이터에 대해서는 전송 목적지를 변경하거나 새로운 데이터를 추가하려면 stream() 메서드를 이러한 요구사항에 따라 지속적으로 적응해야 하므로 문제가 생긴다.\n",
    "\n",
    "### 의존성을 거꾸로\n",
    "\n",
    "이러한 문제를 해결하려면 EventStreamer를 구체 클래스가 아닌 인터페이스와 대화하도록 하는 것이 좋다. 이렇게 하면 인터페이스의 구현은 세부 구현사항을 가진 저수준 클래스가 담당하게 된다. \n",
    "\n",
    "이제 데이터를 전송할 대상을 나타내는 인터페이스가 생겼다. 의존성이 어떻게 역전되었는지 살펴보자. EventStreamer는 특정 데이터 대상의 구체적인 구현과 관련이 없어졌다. 구현 내용이 바뀌어도 수정할 필요가 없다. 실제 인터페이스를 정확하게 구현하고 변화를 수용하는 것은 특정 데이터 대상 각각에 달려있다.\n",
    "\n",
    "즉 첫 번째 EventStreamer 구현은 Syslog 유형의 객체와만 동작했기 때문에 유연성이 떨어진다. 그렇지만 send() 메서드를 구현하는 객체라면 어떤 것과도 통신할 수 있다는 것을 알았기 때문에 이것을 인터페이스의 메서드로 사용하게 되었다. Syslog는 send() 메서드가 정의된 DataTargetClient 추상 기본 클래스를 확장한다. 이제부터 이 추상 기본 클래스를 확장하는 이메일 같은 새로운 유형의 데이터 대상이 추가되어도 send() 메서드의 구현은 모두 새로운 클래스에 달려있다.\n",
    "\n",
    "심지어 런타임 중에도 send() 메서드를 구현한 객체의 프로퍼티를 수정해도 여전히 잘 동작한다. 이렇게 의존성을 동적으로 제공한다고 하여 종종 의존성 주입이라고 한다.\n",
    "\n",
    "주의 깊게 살펴본 독자는 실제로 이것이 왜 필요한지 궁금해 할 것이다. 파이썬은 충분히 융통성이 있으며, 동적인 타입의 언어이기 때문에 인터페이스를 사용하지 않고도 EventStreamer에 특정 데이터 대상 객체를 제공할 수 있다. 그렇다면 간단하게 send() 메서드를 가진 객체를 넘기면 되는데 왜 굳이 추상 기본 클래스(인터페이스)를 정의하는 것일까?\n",
    "\n",
    "실제로 꼭 이렇게 할 필요는 없으며 프로그램은 똑같이 동작한다. 결국 다형성에서 상속이 항상 효과가 있다는 것을 의미하지는 않는다. 그러나 추상 기본 클래스를 사용하는 것이 좋은 습관이다. 첫 번째 강점은 덕 타이핑이다. 덕 타이핑이 가능하면 모델의 가독성이 높아진다. 상속은 is a 관계임을 기억자하. 따라서 추상 기본 클래스를 선언하고 확장함으로써 Syslog는 DataTargetClient라고 말할 수 있다. 즉 코드 사용자는 코드를 읽고 이해할 수 있다(이것이 바로 덕 타이핑이다).\n",
    "\n",
    "결국 추상 기본 클래스를 사용하는 것이 필수는 아니다. 그러나 클린 디자인을 위해서 바람직하다. 이것이 이 책이 있는 이유 중 하나로 단지 파이썬이 너무 유연하여 자주 발생하는 실수를 줄이기 위함이다."
   ]
  }
 ],
 "metadata": {
  "kernelspec": {
   "display_name": "Python 3",
   "language": "python",
   "name": "python3"
  },
  "language_info": {
   "codemirror_mode": {
    "name": "ipython",
    "version": 3
   },
   "file_extension": ".py",
   "mimetype": "text/x-python",
   "name": "python",
   "nbconvert_exporter": "python",
   "pygments_lexer": "ipython3",
   "version": "3.7.3"
  }
 },
 "nbformat": 4,
 "nbformat_minor": 2
}
